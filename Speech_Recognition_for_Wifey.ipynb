{
  "nbformat": 4,
  "nbformat_minor": 0,
  "metadata": {
    "colab": {
      "provenance": [],
      "collapsed_sections": [],
      "mount_file_id": "1_-RSRQHXvvy-JcVEdN6ol09kwuPQjVQT",
      "authorship_tag": "ABX9TyNm21es//Tn+DTvO6GXiVE0"
    },
    "kernelspec": {
      "name": "python3",
      "display_name": "Python 3"
    },
    "language_info": {
      "name": "python"
    }
  },
  "cells": [
    {
      "cell_type": "markdown",
      "source": [
        "# 🎤 Wifey's Speech to Text Conversion\n",
        "\n",
        "The aim of this project is to develop a speech recognition engine, that would transcribe speech from file to human-readable text.\n",
        "\n",
        "I will be using libraries of well-known public speech recognition APIs."
      ],
      "metadata": {
        "id": "rcdqWguYQjS_"
      }
    },
    {
      "cell_type": "code",
      "execution_count": 2,
      "metadata": {
        "colab": {
          "base_uri": "https://localhost:8080/"
        },
        "id": "5I8-UsvTQiRQ",
        "outputId": "0b730a59-7f56-45ba-be8e-ed99559063a7"
      },
      "outputs": [
        {
          "output_type": "stream",
          "name": "stdout",
          "text": [
            "Looking in indexes: https://pypi.org/simple, https://us-python.pkg.dev/colab-wheels/public/simple/\n",
            "Collecting SpeechRecognition\n",
            "  Downloading SpeechRecognition-3.8.1-py2.py3-none-any.whl (32.8 MB)\n",
            "\u001b[K     |████████████████████████████████| 32.8 MB 1.3 MB/s \n",
            "\u001b[?25hCollecting pydub\n",
            "  Downloading pydub-0.25.1-py2.py3-none-any.whl (32 kB)\n",
            "Installing collected packages: SpeechRecognition, pydub\n",
            "Successfully installed SpeechRecognition-3.8.1 pydub-0.25.1\n"
          ]
        }
      ],
      "source": [
        "# Install our library\n",
        "!pip3 install SpeechRecognition pydub"
      ]
    },
    {
      "cell_type": "code",
      "source": [
        "# Import our library\n",
        "import speech_recognition as sr\n",
        "from pydub import AudioSegment\n",
        "import os\n",
        "from pydub.silence import split_on_silence"
      ],
      "metadata": {
        "id": "hETS9yXeS2RT"
      },
      "execution_count": 3,
      "outputs": []
    },
    {
      "cell_type": "code",
      "source": [
        "# Read our file\n",
        "audio = AudioSegment.from_file('drive/MyDrive/Audio File for Transcription/Wifey Message.ogg', format='ogg')\n",
        "# Convert the OGG file to WAV\n",
        "file_handle = audio.export('drive/MyDrive/Audio File for Transcription/Wifey Message.wav', format ='wav')"
      ],
      "metadata": {
        "id": "ir_9_VxPTaQA"
      },
      "execution_count": 9,
      "outputs": []
    },
    {
      "cell_type": "code",
      "source": [
        "# Create a speech recognition object\n",
        "r = sr.Recognizer()"
      ],
      "metadata": {
        "id": "p9e4kS-dWSfx"
      },
      "execution_count": 10,
      "outputs": []
    },
    {
      "cell_type": "markdown",
      "source": [
        "We will go ahead to create a function that splits the audio file into chunks and applies the speech recognition"
      ],
      "metadata": {
        "id": "L9zWS-11a85p"
      }
    },
    {
      "cell_type": "code",
      "source": [
        "# a function that splits the audio file into chunks\n",
        "# and applies speech recognition\n",
        "def get_large_audio_transcription(path):\n",
        "    \"\"\"\n",
        "    Splitting the large audio file into chunks\n",
        "    and apply speech recognition on each of these chunks\n",
        "    \"\"\"\n",
        "    # open the audio file using pydub\n",
        "    sound = AudioSegment.from_wav(path)  \n",
        "    # split audio sound where silence is 700 miliseconds or more and get chunks\n",
        "    chunks = split_on_silence(sound,\n",
        "        # experiment with this value for your target audio file\n",
        "        min_silence_len = 500,\n",
        "        # adjust this per requirement\n",
        "        silence_thresh = sound.dBFS-14,\n",
        "        # keep the silence for 1 second, adjustable as well\n",
        "        keep_silence=500,\n",
        "    )\n",
        "    folder_name = \"audio-chunks\"\n",
        "    # create a directory to store the audio chunks\n",
        "    if not os.path.isdir(folder_name):\n",
        "        os.mkdir(folder_name)\n",
        "    whole_text = \"\"\n",
        "    # process each chunk \n",
        "    for i, audio_chunk in enumerate(chunks, start=1):\n",
        "        # export audio chunk and save it in\n",
        "        # the `folder_name` directory.\n",
        "        chunk_filename = os.path.join(folder_name, f\"chunk{i}.wav\")\n",
        "        audio_chunk.export(chunk_filename, format=\"wav\")\n",
        "        # recognize the chunk\n",
        "        with sr.AudioFile(chunk_filename) as source:\n",
        "            audio_listened = r.record(source)\n",
        "            # try converting it to text\n",
        "            try:\n",
        "                text = r.recognize_google(audio_listened)\n",
        "            except sr.UnknownValueError as e:\n",
        "                print(\"Error:\", str(e))\n",
        "            else:\n",
        "                text = f\"{text.capitalize()}. \"\n",
        "                print(chunk_filename, \":\", text)\n",
        "                whole_text += text\n",
        "    # return the text for all chunks detected\n",
        "    return whole_text"
      ],
      "metadata": {
        "id": "rlLC5tjDWcxd"
      },
      "execution_count": 11,
      "outputs": []
    },
    {
      "cell_type": "code",
      "source": [
        "path = 'drive/MyDrive/Audio File for Transcription/Wifey Message.wav'\n",
        "print(\"\\nFull text:\", get_large_audio_transcription(path))"
      ],
      "metadata": {
        "colab": {
          "base_uri": "https://localhost:8080/"
        },
        "id": "yYVcQ-rxVhp8",
        "outputId": "034e6856-a453-455d-f281-8798a46c4126"
      },
      "execution_count": 12,
      "outputs": [
        {
          "output_type": "stream",
          "name": "stdout",
          "text": [
            "audio-chunks/chunk1.wav : According to what i saw online like newfoundland is italy's a province than admit lil uzi please. \n",
            "audio-chunks/chunk2.wav : Saudi i just like those like you have them. \n",
            "audio-chunks/chunk3.wav : Can i describe you to put them together. \n",
            "audio-chunks/chunk4.wav : I didn't like dang probably didn't close proximity with each other. \n",
            "audio-chunks/chunk5.wav : Boo. \n",
            "audio-chunks/chunk6.wav : Please i found a. \n",
            "audio-chunks/chunk7.wav : Much better for rosa for immigrants would be i don't know. \n",
            "audio-chunks/chunk8.wav : I know you don't so much as said you and labrador born. \n",
            "audio-chunks/chunk9.wav : I think newfoundland has mall. \n",
            "Error: \n",
            "audio-chunks/chunk11.wav : Blackened doom nigerian people india please. \n",
            "audio-chunks/chunk12.wav : I think also because of the memorial school. \n",
            "audio-chunks/chunk13.wav : Can you call me. \n",
            "\n",
            "Full text: According to what i saw online like newfoundland is italy's a province than admit lil uzi please. Saudi i just like those like you have them. Can i describe you to put them together. I didn't like dang probably didn't close proximity with each other. Boo. Please i found a. Much better for rosa for immigrants would be i don't know. I know you don't so much as said you and labrador born. I think newfoundland has mall. Blackened doom nigerian people india please. I think also because of the memorial school. Can you call me. \n"
          ]
        }
      ]
    },
    {
      "cell_type": "code",
      "source": [],
      "metadata": {
        "id": "wzpoLHutkz20"
      },
      "execution_count": null,
      "outputs": []
    }
  ]
}