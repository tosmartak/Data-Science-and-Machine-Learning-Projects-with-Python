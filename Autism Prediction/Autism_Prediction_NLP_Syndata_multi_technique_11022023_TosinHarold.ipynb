{
  "cells": [
    {
      "cell_type": "markdown",
      "metadata": {
        "id": "TKF6Is1AS0hQ"
      },
      "source": [
        "# Autism Prediction - NLP Extraction Using `pylangacq` and Evaluation on Different Synthetic Data Generation Techniques in Comparison with Baseline Data Performance using Random Forest Classifier."
      ]
    },
    {
      "cell_type": "markdown",
      "source": [
        "## NLP Extraction\n",
        "Few things that would be done in this notebook.\n",
        "\n",
        "To help with our thought process, we will do the following in this notebook:\n",
        "\n",
        "- Extract Nadig with different features for prediction of the label (ASD or not)\n",
        "- Extract the features using the `pylangacq` library and features provided by `Gustavo Cunha`\n",
        "- Use the dataset for modeling, to see a baseline performance\n",
        "- Generate synthetic data and see how each performs on each dataset using different techniques\n",
        "- Merge two best synthetic data for quantity and balanced classification and see how this performs.\n",
        "- Tune the hyperparameters of the best model to see if we can have a MVP."
      ],
      "metadata": {
        "id": "bTrooN6PywrK"
      }
    },
    {
      "cell_type": "code",
      "source": [
        "# install pylangacq\n",
        "!pip install --upgrade -q pylangacq;"
      ],
      "metadata": {
        "id": "_OUZcbMoy0x-"
      },
      "execution_count": 1,
      "outputs": []
    },
    {
      "cell_type": "code",
      "source": [
        "# Import relevant libraries\n",
        "import re\n",
        "import numpy as np\n",
        "import pandas as pd\n",
        "\n",
        "# NLP \n",
        "import pylangacq\n",
        "from nltk.stem import WordNetLemmatizer\n",
        "from nltk import pos_tag\n",
        "\n",
        "# set cientific notation for pandas\n",
        "pd.set_option(\n",
        "    \"display.float_format\", \"{:,.3f}\".format \n",
        ")\n",
        "\n",
        "seed = 0"
      ],
      "metadata": {
        "id": "micFx8w9y9hJ"
      },
      "execution_count": 2,
      "outputs": []
    },
    {
      "cell_type": "code",
      "source": [
        "# Load file from path\n",
        "file_path = \"/content/drive/MyDrive/DS-ML projects/ASD Prediction/data/Nadig.zip\"\n",
        "df = pylangacq.read_chat(file_path)\n",
        "\n",
        "# create an empty dataframe \n",
        "df_extraction = pd.DataFrame()\n",
        "\n",
        "# iterate over transcripts\n",
        "for df_i in df:\n",
        "    # create a dictionary for extracted features\n",
        "    features_dict = {}\n",
        "    \n",
        "    ####### add values to dataframe #######\n",
        "    # add ASD label\n",
        "    features_dict[\"ASD\"] = df_i.headers()[0][\"Participants\"][\"CHI\"][\"group\"]\n",
        "    \n",
        "    # get non-child participants tags\n",
        "    non_child_participants = list(df_i.headers()[0][\"Participants\"].keys())\n",
        "    non_child_participants.remove('CHI')\n",
        "\n",
        "    # get mlu\n",
        "    child_mlu = df_i.mlu(participant='CHI')[0]    \n",
        "    # get mean mlu for non-child participants\n",
        "    mean_mlu_non_child = np.mean([df_i.mlu(participant=non_child)[0] \n",
        "                                  for non_child \n",
        "                                  in non_child_participants])\n",
        "    # add child mlu\n",
        "    features_dict[\"child_mlu\"] = child_mlu\n",
        "    # get percentage of child mlu / non-child mean mlu\n",
        "    features_dict[\"percent_child_parents_mlu\"] = child_mlu / mean_mlu_non_child\n",
        "\n",
        "    # get mluw\n",
        "    child_mluw = df_i.mluw(participant='CHI')[0]\n",
        "    # get mean mluw for non-child participants\n",
        "    mean_mluw_non_child = np.mean([df_i.mluw(participant=non_child)[0] \n",
        "                                  for non_child \n",
        "                                  in non_child_participants])\n",
        "    # add child mluw\n",
        "    features_dict[\"child_mluw\"] = child_mluw\n",
        "    # get percentage of child mluw / non-child mean mluw\n",
        "    features_dict[\"percent_child_parents_mluw\"] = child_mluw / mean_mluw_non_child\n",
        "\n",
        "    # get ttr\n",
        "    child_ttr = df_i.ttr(participant='CHI')[0]\n",
        "    # get mean ttr for non-child participants\n",
        "    mean_ttr_non_child = np.mean([df_i.ttr(participant=non_child)[0] \n",
        "                                  for non_child \n",
        "                                  in non_child_participants])\n",
        "    # add child ttr\n",
        "    features_dict[\"child_ttr\"] = child_ttr\n",
        "    # get percentage of child ttr / non-child mean ttr\n",
        "    features_dict[\"percent_child_parents_ttr\"] = child_ttr / mean_ttr_non_child\n",
        "\n",
        "    # get ipsyn\n",
        "    child_ipsyn = df_i.ipsyn(participant='CHI')[0]\n",
        "    # get mean ipsyn for non-child participants\n",
        "    mean_ipsyn_non_child = np.mean([df_i.ipsyn(participant=non_child)[0] \n",
        "                                    for non_child \n",
        "                                    in non_child_participants])\n",
        "    # add child ipsyn\n",
        "    features_dict[\"child_ipsyn\"] = child_ipsyn\n",
        "    # get percentage of child ipsyn / non-child mean ipsyn\n",
        "    features_dict[\"percent_child_parents_ipsyn\"] = child_ipsyn / mean_ipsyn_non_child\n",
        "\n",
        "    # get number of words\n",
        "    features_dict[\"child_num_words\"] = len(df_i.words(participants=\"CHI\"))\n",
        "    # get percentage of child words / parent words\n",
        "    features_dict[\"perct_child_parents_words\"] = len(df_i.words(participants=\"CHI\")) / len(df_i.words(exclude=(\"CHI\")))\n",
        "    # get number of unique words\n",
        "    features_dict[\"child_num_unique_words\"] = len(set(df_i.words(participants=\"CHI\")))\n",
        "    # get percentage of child unique words / parent unique words\n",
        "    features_dict[\"perct_child_parents_unique_words\"] = len(set(df_i.words(participants=\"CHI\"))) / len(set(df_i.words(exclude=(\"CHI\"))))\n",
        "\n",
        "    # get number of tokens\n",
        "    features_dict[\"child_num_tokens\"] = len(df_i.tokens(participants=\"CHI\"))\n",
        "    # get percentage of child tokens / parent tokens\n",
        "    features_dict[\"perct_child_parents_tokens\"] = len(df_i.tokens(participants=\"CHI\")) / len(df_i.tokens(exclude=(\"CHI\")))\n",
        "\n",
        "    # get number of utterances\n",
        "    features_dict[\"child_utterances\"] = len(df_i.utterances(participants=\"CHI\"))\n",
        "    # get percentage of child utterances / parent utterances\n",
        "    features_dict[\"perct_child_parents_utterances\"] = len(df_i.utterances(participants=\"CHI\")) / len(df_i.utterances(exclude=\"CHI\"))\n",
        "\n",
        "    # get part of speech (POS) for every token in child utterances\n",
        "    child_pos = [token.pos for token in df_i.tokens(participants=\"CHI\")]   \n",
        "    # get number of tokens\n",
        "    num_tokens = features_dict[\"child_num_tokens\"]\n",
        "    # sanity check\n",
        "    assert num_tokens == len(child_pos), \"Missing POS tags!\"\n",
        "    \n",
        "    # get values counts for pos\n",
        "    pos_value_counts = pd.Series(child_pos).value_counts(dropna=False)\n",
        "    # convert to dict\n",
        "    pos_value_counts_dict = pos_value_counts.to_dict()\n",
        "    # add pos_ prefix before pos tags\n",
        "    pos_value_counts_dict = { (\"pos_percent_\" + str(k)): (v / num_tokens) for k, v in pos_value_counts_dict.items() }\n",
        "    # sanity check \n",
        "    assert abs(1 - sum([*pos_value_counts_dict.values()])) < 0.01, \"Missing POS tags!\"\n",
        "    \n",
        "    # add pos_value_counts_dict to features_dict\n",
        "    features_dict = {**features_dict, **pos_value_counts_dict}\n",
        "    # create a pandas dataframe from features dict\n",
        "    df_features = pd.DataFrame(data=features_dict, index=[0])\n",
        "\n",
        "    # concatenate features dataframe with extraction dataframe\n",
        "    df_extraction = pd.concat(objs=[df_extraction, df_features], ignore_index=True)"
      ],
      "metadata": {
        "id": "DA2Zegl5zWKA"
      },
      "execution_count": 3,
      "outputs": []
    },
    {
      "cell_type": "code",
      "source": [
        "# Copy our extracted dataset\n",
        "df = df_extraction.copy()\n",
        "\n",
        "# Export our extracted dataset\n",
        "df.to_csv('/content/drive/MyDrive/DS-ML projects/ASD Prediction/data/nadig_extracted.csv', index=False)\n",
        "\n",
        "# check columns with null values\n",
        "df.isna().sum()"
      ],
      "metadata": {
        "colab": {
          "base_uri": "https://localhost:8080/"
        },
        "id": "qWLPR2AdzY6c",
        "outputId": "3621bfdf-5fe6-4921-d536-ec35bf23e4c2"
      },
      "execution_count": 4,
      "outputs": [
        {
          "output_type": "execute_result",
          "data": {
            "text/plain": [
              "ASD                            0\n",
              "child_mlu                      0\n",
              "percent_child_parents_mlu      0\n",
              "child_mluw                     0\n",
              "percent_child_parents_mluw     0\n",
              "                              ..\n",
              "pos_percent_chi               33\n",
              "pos_percent_pro:poss          34\n",
              "pos_percent_n:let             37\n",
              "pos_percent_bab               36\n",
              "pos_percent_sing              37\n",
              "Length: 70, dtype: int64"
            ]
          },
          "metadata": {},
          "execution_count": 4
        }
      ]
    },
    {
      "cell_type": "markdown",
      "source": [
        "Since we have some missing values, we will replace them all with 0."
      ],
      "metadata": {
        "id": "e1q7W0IezkM2"
      }
    },
    {
      "cell_type": "code",
      "source": [
        "# fill missing values with 0\n",
        "df.fillna(value=0, inplace=True)\n",
        "\n",
        "# sanity check\n",
        "assert df.isna().sum().sum() == 0, \"There are missing values!\""
      ],
      "metadata": {
        "id": "9J8sy8SAzluz"
      },
      "execution_count": 5,
      "outputs": []
    },
    {
      "cell_type": "code",
      "source": [
        "# Display summary statistics of the numerical features\n",
        "df.describe().T"
      ],
      "metadata": {
        "colab": {
          "base_uri": "https://localhost:8080/",
          "height": 424
        },
        "id": "Ctz18zz8zo4T",
        "outputId": "c69ea510-c625-4f3f-8c9c-44c9206a0a55"
      },
      "execution_count": 6,
      "outputs": [
        {
          "output_type": "execute_result",
          "data": {
            "text/plain": [
              "                            count  mean   std   min   25%   50%   75%   max\n",
              "child_mlu                  38.000 3.042 1.497 1.000 1.897 2.854 3.961 7.855\n",
              "percent_child_parents_mlu  38.000 0.538 0.239 0.198 0.346 0.509 0.686 1.203\n",
              "child_mluw                 38.000 2.482 1.249 0.000 1.414 2.582 3.283 6.642\n",
              "percent_child_parents_mluw 38.000 0.558 0.250 0.000 0.347 0.545 0.737 1.277\n",
              "child_ttr                  38.000 0.463 0.174 0.000 0.392 0.442 0.517 1.000\n",
              "...                           ...   ...   ...   ...   ...   ...   ...   ...\n",
              "pos_percent_chi            38.000 0.000 0.001 0.000 0.000 0.000 0.000 0.005\n",
              "pos_percent_pro:poss       38.000 0.001 0.002 0.000 0.000 0.000 0.000 0.008\n",
              "pos_percent_n:let          38.000 0.000 0.001 0.000 0.000 0.000 0.000 0.004\n",
              "pos_percent_bab            38.000 0.003 0.013 0.000 0.000 0.000 0.000 0.075\n",
              "pos_percent_sing           38.000 0.000 0.001 0.000 0.000 0.000 0.000 0.008\n",
              "\n",
              "[69 rows x 8 columns]"
            ],
            "text/html": [
              "\n",
              "  <div id=\"df-a6880679-2d45-4fc6-8d3c-ebc55d685b10\">\n",
              "    <div class=\"colab-df-container\">\n",
              "      <div>\n",
              "<style scoped>\n",
              "    .dataframe tbody tr th:only-of-type {\n",
              "        vertical-align: middle;\n",
              "    }\n",
              "\n",
              "    .dataframe tbody tr th {\n",
              "        vertical-align: top;\n",
              "    }\n",
              "\n",
              "    .dataframe thead th {\n",
              "        text-align: right;\n",
              "    }\n",
              "</style>\n",
              "<table border=\"1\" class=\"dataframe\">\n",
              "  <thead>\n",
              "    <tr style=\"text-align: right;\">\n",
              "      <th></th>\n",
              "      <th>count</th>\n",
              "      <th>mean</th>\n",
              "      <th>std</th>\n",
              "      <th>min</th>\n",
              "      <th>25%</th>\n",
              "      <th>50%</th>\n",
              "      <th>75%</th>\n",
              "      <th>max</th>\n",
              "    </tr>\n",
              "  </thead>\n",
              "  <tbody>\n",
              "    <tr>\n",
              "      <th>child_mlu</th>\n",
              "      <td>38.000</td>\n",
              "      <td>3.042</td>\n",
              "      <td>1.497</td>\n",
              "      <td>1.000</td>\n",
              "      <td>1.897</td>\n",
              "      <td>2.854</td>\n",
              "      <td>3.961</td>\n",
              "      <td>7.855</td>\n",
              "    </tr>\n",
              "    <tr>\n",
              "      <th>percent_child_parents_mlu</th>\n",
              "      <td>38.000</td>\n",
              "      <td>0.538</td>\n",
              "      <td>0.239</td>\n",
              "      <td>0.198</td>\n",
              "      <td>0.346</td>\n",
              "      <td>0.509</td>\n",
              "      <td>0.686</td>\n",
              "      <td>1.203</td>\n",
              "    </tr>\n",
              "    <tr>\n",
              "      <th>child_mluw</th>\n",
              "      <td>38.000</td>\n",
              "      <td>2.482</td>\n",
              "      <td>1.249</td>\n",
              "      <td>0.000</td>\n",
              "      <td>1.414</td>\n",
              "      <td>2.582</td>\n",
              "      <td>3.283</td>\n",
              "      <td>6.642</td>\n",
              "    </tr>\n",
              "    <tr>\n",
              "      <th>percent_child_parents_mluw</th>\n",
              "      <td>38.000</td>\n",
              "      <td>0.558</td>\n",
              "      <td>0.250</td>\n",
              "      <td>0.000</td>\n",
              "      <td>0.347</td>\n",
              "      <td>0.545</td>\n",
              "      <td>0.737</td>\n",
              "      <td>1.277</td>\n",
              "    </tr>\n",
              "    <tr>\n",
              "      <th>child_ttr</th>\n",
              "      <td>38.000</td>\n",
              "      <td>0.463</td>\n",
              "      <td>0.174</td>\n",
              "      <td>0.000</td>\n",
              "      <td>0.392</td>\n",
              "      <td>0.442</td>\n",
              "      <td>0.517</td>\n",
              "      <td>1.000</td>\n",
              "    </tr>\n",
              "    <tr>\n",
              "      <th>...</th>\n",
              "      <td>...</td>\n",
              "      <td>...</td>\n",
              "      <td>...</td>\n",
              "      <td>...</td>\n",
              "      <td>...</td>\n",
              "      <td>...</td>\n",
              "      <td>...</td>\n",
              "      <td>...</td>\n",
              "    </tr>\n",
              "    <tr>\n",
              "      <th>pos_percent_chi</th>\n",
              "      <td>38.000</td>\n",
              "      <td>0.000</td>\n",
              "      <td>0.001</td>\n",
              "      <td>0.000</td>\n",
              "      <td>0.000</td>\n",
              "      <td>0.000</td>\n",
              "      <td>0.000</td>\n",
              "      <td>0.005</td>\n",
              "    </tr>\n",
              "    <tr>\n",
              "      <th>pos_percent_pro:poss</th>\n",
              "      <td>38.000</td>\n",
              "      <td>0.001</td>\n",
              "      <td>0.002</td>\n",
              "      <td>0.000</td>\n",
              "      <td>0.000</td>\n",
              "      <td>0.000</td>\n",
              "      <td>0.000</td>\n",
              "      <td>0.008</td>\n",
              "    </tr>\n",
              "    <tr>\n",
              "      <th>pos_percent_n:let</th>\n",
              "      <td>38.000</td>\n",
              "      <td>0.000</td>\n",
              "      <td>0.001</td>\n",
              "      <td>0.000</td>\n",
              "      <td>0.000</td>\n",
              "      <td>0.000</td>\n",
              "      <td>0.000</td>\n",
              "      <td>0.004</td>\n",
              "    </tr>\n",
              "    <tr>\n",
              "      <th>pos_percent_bab</th>\n",
              "      <td>38.000</td>\n",
              "      <td>0.003</td>\n",
              "      <td>0.013</td>\n",
              "      <td>0.000</td>\n",
              "      <td>0.000</td>\n",
              "      <td>0.000</td>\n",
              "      <td>0.000</td>\n",
              "      <td>0.075</td>\n",
              "    </tr>\n",
              "    <tr>\n",
              "      <th>pos_percent_sing</th>\n",
              "      <td>38.000</td>\n",
              "      <td>0.000</td>\n",
              "      <td>0.001</td>\n",
              "      <td>0.000</td>\n",
              "      <td>0.000</td>\n",
              "      <td>0.000</td>\n",
              "      <td>0.000</td>\n",
              "      <td>0.008</td>\n",
              "    </tr>\n",
              "  </tbody>\n",
              "</table>\n",
              "<p>69 rows × 8 columns</p>\n",
              "</div>\n",
              "      <button class=\"colab-df-convert\" onclick=\"convertToInteractive('df-a6880679-2d45-4fc6-8d3c-ebc55d685b10')\"\n",
              "              title=\"Convert this dataframe to an interactive table.\"\n",
              "              style=\"display:none;\">\n",
              "        \n",
              "  <svg xmlns=\"http://www.w3.org/2000/svg\" height=\"24px\"viewBox=\"0 0 24 24\"\n",
              "       width=\"24px\">\n",
              "    <path d=\"M0 0h24v24H0V0z\" fill=\"none\"/>\n",
              "    <path d=\"M18.56 5.44l.94 2.06.94-2.06 2.06-.94-2.06-.94-.94-2.06-.94 2.06-2.06.94zm-11 1L8.5 8.5l.94-2.06 2.06-.94-2.06-.94L8.5 2.5l-.94 2.06-2.06.94zm10 10l.94 2.06.94-2.06 2.06-.94-2.06-.94-.94-2.06-.94 2.06-2.06.94z\"/><path d=\"M17.41 7.96l-1.37-1.37c-.4-.4-.92-.59-1.43-.59-.52 0-1.04.2-1.43.59L10.3 9.45l-7.72 7.72c-.78.78-.78 2.05 0 2.83L4 21.41c.39.39.9.59 1.41.59.51 0 1.02-.2 1.41-.59l7.78-7.78 2.81-2.81c.8-.78.8-2.07 0-2.86zM5.41 20L4 18.59l7.72-7.72 1.47 1.35L5.41 20z\"/>\n",
              "  </svg>\n",
              "      </button>\n",
              "      \n",
              "  <style>\n",
              "    .colab-df-container {\n",
              "      display:flex;\n",
              "      flex-wrap:wrap;\n",
              "      gap: 12px;\n",
              "    }\n",
              "\n",
              "    .colab-df-convert {\n",
              "      background-color: #E8F0FE;\n",
              "      border: none;\n",
              "      border-radius: 50%;\n",
              "      cursor: pointer;\n",
              "      display: none;\n",
              "      fill: #1967D2;\n",
              "      height: 32px;\n",
              "      padding: 0 0 0 0;\n",
              "      width: 32px;\n",
              "    }\n",
              "\n",
              "    .colab-df-convert:hover {\n",
              "      background-color: #E2EBFA;\n",
              "      box-shadow: 0px 1px 2px rgba(60, 64, 67, 0.3), 0px 1px 3px 1px rgba(60, 64, 67, 0.15);\n",
              "      fill: #174EA6;\n",
              "    }\n",
              "\n",
              "    [theme=dark] .colab-df-convert {\n",
              "      background-color: #3B4455;\n",
              "      fill: #D2E3FC;\n",
              "    }\n",
              "\n",
              "    [theme=dark] .colab-df-convert:hover {\n",
              "      background-color: #434B5C;\n",
              "      box-shadow: 0px 1px 3px 1px rgba(0, 0, 0, 0.15);\n",
              "      filter: drop-shadow(0px 1px 2px rgba(0, 0, 0, 0.3));\n",
              "      fill: #FFFFFF;\n",
              "    }\n",
              "  </style>\n",
              "\n",
              "      <script>\n",
              "        const buttonEl =\n",
              "          document.querySelector('#df-a6880679-2d45-4fc6-8d3c-ebc55d685b10 button.colab-df-convert');\n",
              "        buttonEl.style.display =\n",
              "          google.colab.kernel.accessAllowed ? 'block' : 'none';\n",
              "\n",
              "        async function convertToInteractive(key) {\n",
              "          const element = document.querySelector('#df-a6880679-2d45-4fc6-8d3c-ebc55d685b10');\n",
              "          const dataTable =\n",
              "            await google.colab.kernel.invokeFunction('convertToInteractive',\n",
              "                                                     [key], {});\n",
              "          if (!dataTable) return;\n",
              "\n",
              "          const docLinkHtml = 'Like what you see? Visit the ' +\n",
              "            '<a target=\"_blank\" href=https://colab.research.google.com/notebooks/data_table.ipynb>data table notebook</a>'\n",
              "            + ' to learn more about interactive tables.';\n",
              "          element.innerHTML = '';\n",
              "          dataTable['output_type'] = 'display_data';\n",
              "          await google.colab.output.renderOutput(dataTable, element);\n",
              "          const docLink = document.createElement('div');\n",
              "          docLink.innerHTML = docLinkHtml;\n",
              "          element.appendChild(docLink);\n",
              "        }\n",
              "      </script>\n",
              "    </div>\n",
              "  </div>\n",
              "  "
            ]
          },
          "metadata": {},
          "execution_count": 6
        }
      ]
    },
    {
      "cell_type": "code",
      "source": [
        "# Replace ASD and TYP label with 1 and 0 in our target column\n",
        "df['ASD'] = df['ASD'].replace({\"ASD\": 1, \"TYP\": 0})"
      ],
      "metadata": {
        "id": "RBd62mytzslL"
      },
      "execution_count": 7,
      "outputs": []
    },
    {
      "cell_type": "code",
      "source": [
        "df.info()"
      ],
      "metadata": {
        "colab": {
          "base_uri": "https://localhost:8080/"
        },
        "id": "pqMSmpq9ztLj",
        "outputId": "4b74f4cd-ba07-4be5-b432-156916cf256e"
      },
      "execution_count": 8,
      "outputs": [
        {
          "output_type": "stream",
          "name": "stdout",
          "text": [
            "<class 'pandas.core.frame.DataFrame'>\n",
            "RangeIndex: 38 entries, 0 to 37\n",
            "Data columns (total 70 columns):\n",
            " #   Column                            Non-Null Count  Dtype  \n",
            "---  ------                            --------------  -----  \n",
            " 0   ASD                               38 non-null     int64  \n",
            " 1   child_mlu                         38 non-null     float64\n",
            " 2   percent_child_parents_mlu         38 non-null     float64\n",
            " 3   child_mluw                        38 non-null     float64\n",
            " 4   percent_child_parents_mluw        38 non-null     float64\n",
            " 5   child_ttr                         38 non-null     float64\n",
            " 6   percent_child_parents_ttr         38 non-null     float64\n",
            " 7   child_ipsyn                       38 non-null     int64  \n",
            " 8   percent_child_parents_ipsyn       38 non-null     float64\n",
            " 9   child_num_words                   38 non-null     int64  \n",
            " 10  perct_child_parents_words         38 non-null     float64\n",
            " 11  child_num_unique_words            38 non-null     int64  \n",
            " 12  perct_child_parents_unique_words  38 non-null     float64\n",
            " 13  child_num_tokens                  38 non-null     int64  \n",
            " 14  perct_child_parents_tokens        38 non-null     float64\n",
            " 15  child_utterances                  38 non-null     int64  \n",
            " 16  perct_child_parents_utterances    38 non-null     float64\n",
            " 17  pos_percent_co                    38 non-null     float64\n",
            " 18  pos_percent_.                     38 non-null     float64\n",
            " 19  pos_percent_nan                   38 non-null     float64\n",
            " 20  pos_percent_n                     38 non-null     float64\n",
            " 21  pos_percent_v                     38 non-null     float64\n",
            " 22  pos_percent_!                     38 non-null     float64\n",
            " 23  pos_percent_pro:sub               38 non-null     float64\n",
            " 24  pos_percent_adv                   38 non-null     float64\n",
            " 25  pos_percent_neg                   38 non-null     float64\n",
            " 26  pos_percent_qn                    38 non-null     float64\n",
            " 27  pos_percent_?                     38 non-null     float64\n",
            " 28  pos_percent_prep                  38 non-null     float64\n",
            " 29  pos_percent_mod                   38 non-null     float64\n",
            " 30  pos_percent_pro:per               38 non-null     float64\n",
            " 31  pos_percent_pro:dem               38 non-null     float64\n",
            " 32  pos_percent_adj                   38 non-null     float64\n",
            " 33  pos_percent_pro:rel               38 non-null     float64\n",
            " 34  pos_percent_det:art               38 non-null     float64\n",
            " 35  pos_percent_pro:int               38 non-null     float64\n",
            " 36  pos_percent_aux                   38 non-null     float64\n",
            " 37  pos_percent_cop                   38 non-null     float64\n",
            " 38  pos_percent_+...                  38 non-null     float64\n",
            " 39  pos_percent_inf                   38 non-null     float64\n",
            " 40  pos_percent_conj                  38 non-null     float64\n",
            " 41  pos_percent_coord                 38 non-null     float64\n",
            " 42  pos_percent_+!?                   38 non-null     float64\n",
            " 43  pos_percent_post                  38 non-null     float64\n",
            " 44  pos_percent_pro:indef             38 non-null     float64\n",
            " 45  pos_percent_part                  38 non-null     float64\n",
            " 46  pos_percent_det:poss              38 non-null     float64\n",
            " 47  pos_percent_pro:obj               38 non-null     float64\n",
            " 48  pos_percent_cm                    38 non-null     float64\n",
            " 49  pos_percent_det:num               38 non-null     float64\n",
            " 50  pos_percent_adv:tem               38 non-null     float64\n",
            " 51  pos_percent_+/.                   38 non-null     float64\n",
            " 52  pos_percent_det:dem               38 non-null     float64\n",
            " 53  pos_percent_pro:exist             38 non-null     float64\n",
            " 54  pos_percent_comp                  38 non-null     float64\n",
            " 55  pos_percent_n:prop                38 non-null     float64\n",
            " 56  pos_percent_mid#n                 38 non-null     float64\n",
            " 57  pos_percent_on                    38 non-null     float64\n",
            " 58  pos_percent_re#v                  38 non-null     float64\n",
            " 59  pos_percent_n:gerund              38 non-null     float64\n",
            " 60  pos_percent_sub#n                 38 non-null     float64\n",
            " 61  pos_percent_n:pt                  38 non-null     float64\n",
            " 62  pos_percent_pro:refl              38 non-null     float64\n",
            " 63  pos_percent_un#part               38 non-null     float64\n",
            " 64  pos_percent_L2                    38 non-null     float64\n",
            " 65  pos_percent_chi                   38 non-null     float64\n",
            " 66  pos_percent_pro:poss              38 non-null     float64\n",
            " 67  pos_percent_n:let                 38 non-null     float64\n",
            " 68  pos_percent_bab                   38 non-null     float64\n",
            " 69  pos_percent_sing                  38 non-null     float64\n",
            "dtypes: float64(64), int64(6)\n",
            "memory usage: 20.9 KB\n"
          ]
        }
      ]
    },
    {
      "cell_type": "markdown",
      "metadata": {
        "id": "MyuUmsavbJVz"
      },
      "source": [
        "Based on the information above, there are 38 records with no null values, 69 features and `ASD` which is the target variable. Also, all our features are numeric."
      ]
    },
    {
      "cell_type": "markdown",
      "source": [
        "\n",
        "\n",
        "## Generating Synthetic Model\n",
        "\n",
        "We will generate synthetic data and evaluate their performance based on the same condition, using the baseline data from our extraction as a benchmark.\n",
        "\n",
        "There are few techniques we will use to generate our synthetic data, and do a simple evaluation on each one using thesame method, to see the impact on our model prediction. Few techniques used in this notebook are:\n",
        "\n",
        "- **Random Oversampling**: This involves randomly duplicating instances from the minority class until the class distribution is balanced. We will use the `RandomOverSampler` from the `imblearn` library to randomly oversample the majority class.\n",
        "- **Random Undersampling**: This technique involves randomly removing instances from the majority class in order to balance the class distribution. We will also use the `RandomUnderSampler` from the `imblearn` library to randomly undersample the majority class.\n",
        "- **Near Miss Undersampling**: NearMiss is an under-sampling technique. It is used to undersample the majority class. The technique works by finding the k-nearest samples in the minority class for each sample in the majority class.\n",
        "- **SMOTE (Synthetic Minority Over-sampling Technique)**: This technique generates synthetic examples of the minority class by interpolating between existing instances.\n",
        "- **ADASYN (Adaptive Synthetic Sampling)**: This technique generates synthetic examples of the minority class by adaptively adjusting the number of synthetic examples generated for different minority class instances depending on their level of difficulty.\n",
        "- **Tomek Links**: This technique is based on removing examples that are nearest to the boundary between the two classes, it helps to eliminate the noise and balance the data.\n",
        "- **Synthetic Data Vault (SDV)**: an ecosystem of libraries that allows users to easily learn datasets to later on generate new Synthetic Data that has the same format and statistical properties as the original dataset.\n",
        "\n",
        "Note: The aim here is to generate synthetic data and compare performance with the baseline data, there won't be a need to do intensive exploratory data analysis.\n",
        "\n",
        "At the end, we want to be able to establish if we need synthetic data or not, for predicting autism in toddlers based on the NLP data extracted."
      ],
      "metadata": {
        "id": "3y94ZP1dyq4x"
      }
    },
    {
      "cell_type": "code",
      "execution_count": 9,
      "metadata": {
        "id": "1kKEc-SYrGeh"
      },
      "outputs": [],
      "source": [
        "# Import relevant libraries\n",
        "import numpy as np\n",
        "import pandas as pd\n",
        "import matplotlib.pyplot as plt\n",
        "%matplotlib inline\n",
        "import seaborn as sns\n",
        "\n",
        "# Ignore warnings\n",
        "import warnings\n",
        "warnings.filterwarnings('ignore')\n",
        "\n",
        "#split our data for modelling\n",
        "from sklearn.model_selection import train_test_split\n",
        "\n",
        "# Preprocess our data\n",
        "from sklearn.compose import ColumnTransformer\n",
        "from sklearn.pipeline import Pipeline\n",
        "from sklearn.compose import make_column_transformer\n",
        "from sklearn.pipeline import make_pipeline\n",
        "from sklearn.preprocessing import OneHotEncoder, StandardScaler, OrdinalEncoder\n",
        "\n",
        "# Generating Synthetic data\n",
        "from imblearn.over_sampling import RandomOverSampler, SMOTE, ADASYN, SMOTENC\n",
        "from imblearn.under_sampling import RandomUnderSampler, NearMiss, TomekLinks\n",
        "\n",
        "# Building and evaluating our RandomForest Classifier Model\n",
        "from sklearn.ensemble import RandomForestClassifier\n",
        "from sklearn.metrics import roc_curve, auc, confusion_matrix, classification_report\n",
        "from sklearn.metrics import accuracy_score, f1_score, roc_auc_score, precision_score, recall_score, plot_confusion_matrix\n",
        "from sklearn import metrics"
      ]
    },
    {
      "cell_type": "code",
      "execution_count": 10,
      "metadata": {
        "colab": {
          "base_uri": "https://localhost:8080/",
          "height": 300
        },
        "id": "EDfkEouXrU_l",
        "outputId": "cdc465ce-e698-4133-e161-e9016ab90980"
      },
      "outputs": [
        {
          "output_type": "execute_result",
          "data": {
            "text/plain": [
              "    ASD  child_mlu  percent_child_parents_mlu  child_mluw  \\\n",
              "4     1      5.213                      0.841       4.023   \n",
              "12    0      3.629                      0.497       2.598   \n",
              "10    0      4.241                      0.730       3.753   \n",
              "15    1      2.483                      0.510       2.275   \n",
              "6     1      3.625                      0.639       3.410   \n",
              "\n",
              "    percent_child_parents_mluw  child_ttr  percent_child_parents_ttr  \\\n",
              "4                        0.832      0.421                      0.972   \n",
              "12                       0.431      0.445                      1.920   \n",
              "10                       0.784      0.299                      0.777   \n",
              "15                       0.615      0.552                      1.987   \n",
              "6                        0.793      0.526                      2.072   \n",
              "\n",
              "    child_ipsyn  percent_child_parents_ipsyn  child_num_words  ...  \\\n",
              "4            81                        0.931              462  ...   \n",
              "12           66                        0.742              372  ...   \n",
              "10           64                        0.865              452  ...   \n",
              "15           55                        0.671              203  ...   \n",
              "6            53                        0.654              190  ...   \n",
              "\n",
              "    pos_percent_sub#n  pos_percent_n:pt  pos_percent_pro:refl  \\\n",
              "4               0.000             0.000                 0.000   \n",
              "12              0.000             0.000                 0.000   \n",
              "10              0.000             0.006                 0.000   \n",
              "15              0.000             0.000                 0.000   \n",
              "6               0.000             0.000                 0.000   \n",
              "\n",
              "    pos_percent_un#part  pos_percent_L2  pos_percent_chi  \\\n",
              "4                 0.000           0.000            0.000   \n",
              "12                0.000           0.000            0.000   \n",
              "10                0.000           0.009            0.002   \n",
              "15                0.000           0.000            0.005   \n",
              "6                 0.000           0.000            0.000   \n",
              "\n",
              "    pos_percent_pro:poss  pos_percent_n:let  pos_percent_bab  pos_percent_sing  \n",
              "4                  0.000              0.000            0.000             0.000  \n",
              "12                 0.003              0.000            0.000             0.000  \n",
              "10                 0.000              0.000            0.000             0.000  \n",
              "15                 0.000              0.000            0.000             0.000  \n",
              "6                  0.000              0.000            0.000             0.000  \n",
              "\n",
              "[5 rows x 70 columns]"
            ],
            "text/html": [
              "\n",
              "  <div id=\"df-731af897-4db7-426d-a57a-ee3cc87ff03d\">\n",
              "    <div class=\"colab-df-container\">\n",
              "      <div>\n",
              "<style scoped>\n",
              "    .dataframe tbody tr th:only-of-type {\n",
              "        vertical-align: middle;\n",
              "    }\n",
              "\n",
              "    .dataframe tbody tr th {\n",
              "        vertical-align: top;\n",
              "    }\n",
              "\n",
              "    .dataframe thead th {\n",
              "        text-align: right;\n",
              "    }\n",
              "</style>\n",
              "<table border=\"1\" class=\"dataframe\">\n",
              "  <thead>\n",
              "    <tr style=\"text-align: right;\">\n",
              "      <th></th>\n",
              "      <th>ASD</th>\n",
              "      <th>child_mlu</th>\n",
              "      <th>percent_child_parents_mlu</th>\n",
              "      <th>child_mluw</th>\n",
              "      <th>percent_child_parents_mluw</th>\n",
              "      <th>child_ttr</th>\n",
              "      <th>percent_child_parents_ttr</th>\n",
              "      <th>child_ipsyn</th>\n",
              "      <th>percent_child_parents_ipsyn</th>\n",
              "      <th>child_num_words</th>\n",
              "      <th>...</th>\n",
              "      <th>pos_percent_sub#n</th>\n",
              "      <th>pos_percent_n:pt</th>\n",
              "      <th>pos_percent_pro:refl</th>\n",
              "      <th>pos_percent_un#part</th>\n",
              "      <th>pos_percent_L2</th>\n",
              "      <th>pos_percent_chi</th>\n",
              "      <th>pos_percent_pro:poss</th>\n",
              "      <th>pos_percent_n:let</th>\n",
              "      <th>pos_percent_bab</th>\n",
              "      <th>pos_percent_sing</th>\n",
              "    </tr>\n",
              "  </thead>\n",
              "  <tbody>\n",
              "    <tr>\n",
              "      <th>4</th>\n",
              "      <td>1</td>\n",
              "      <td>5.213</td>\n",
              "      <td>0.841</td>\n",
              "      <td>4.023</td>\n",
              "      <td>0.832</td>\n",
              "      <td>0.421</td>\n",
              "      <td>0.972</td>\n",
              "      <td>81</td>\n",
              "      <td>0.931</td>\n",
              "      <td>462</td>\n",
              "      <td>...</td>\n",
              "      <td>0.000</td>\n",
              "      <td>0.000</td>\n",
              "      <td>0.000</td>\n",
              "      <td>0.000</td>\n",
              "      <td>0.000</td>\n",
              "      <td>0.000</td>\n",
              "      <td>0.000</td>\n",
              "      <td>0.000</td>\n",
              "      <td>0.000</td>\n",
              "      <td>0.000</td>\n",
              "    </tr>\n",
              "    <tr>\n",
              "      <th>12</th>\n",
              "      <td>0</td>\n",
              "      <td>3.629</td>\n",
              "      <td>0.497</td>\n",
              "      <td>2.598</td>\n",
              "      <td>0.431</td>\n",
              "      <td>0.445</td>\n",
              "      <td>1.920</td>\n",
              "      <td>66</td>\n",
              "      <td>0.742</td>\n",
              "      <td>372</td>\n",
              "      <td>...</td>\n",
              "      <td>0.000</td>\n",
              "      <td>0.000</td>\n",
              "      <td>0.000</td>\n",
              "      <td>0.000</td>\n",
              "      <td>0.000</td>\n",
              "      <td>0.000</td>\n",
              "      <td>0.003</td>\n",
              "      <td>0.000</td>\n",
              "      <td>0.000</td>\n",
              "      <td>0.000</td>\n",
              "    </tr>\n",
              "    <tr>\n",
              "      <th>10</th>\n",
              "      <td>0</td>\n",
              "      <td>4.241</td>\n",
              "      <td>0.730</td>\n",
              "      <td>3.753</td>\n",
              "      <td>0.784</td>\n",
              "      <td>0.299</td>\n",
              "      <td>0.777</td>\n",
              "      <td>64</td>\n",
              "      <td>0.865</td>\n",
              "      <td>452</td>\n",
              "      <td>...</td>\n",
              "      <td>0.000</td>\n",
              "      <td>0.006</td>\n",
              "      <td>0.000</td>\n",
              "      <td>0.000</td>\n",
              "      <td>0.009</td>\n",
              "      <td>0.002</td>\n",
              "      <td>0.000</td>\n",
              "      <td>0.000</td>\n",
              "      <td>0.000</td>\n",
              "      <td>0.000</td>\n",
              "    </tr>\n",
              "    <tr>\n",
              "      <th>15</th>\n",
              "      <td>1</td>\n",
              "      <td>2.483</td>\n",
              "      <td>0.510</td>\n",
              "      <td>2.275</td>\n",
              "      <td>0.615</td>\n",
              "      <td>0.552</td>\n",
              "      <td>1.987</td>\n",
              "      <td>55</td>\n",
              "      <td>0.671</td>\n",
              "      <td>203</td>\n",
              "      <td>...</td>\n",
              "      <td>0.000</td>\n",
              "      <td>0.000</td>\n",
              "      <td>0.000</td>\n",
              "      <td>0.000</td>\n",
              "      <td>0.000</td>\n",
              "      <td>0.005</td>\n",
              "      <td>0.000</td>\n",
              "      <td>0.000</td>\n",
              "      <td>0.000</td>\n",
              "      <td>0.000</td>\n",
              "    </tr>\n",
              "    <tr>\n",
              "      <th>6</th>\n",
              "      <td>1</td>\n",
              "      <td>3.625</td>\n",
              "      <td>0.639</td>\n",
              "      <td>3.410</td>\n",
              "      <td>0.793</td>\n",
              "      <td>0.526</td>\n",
              "      <td>2.072</td>\n",
              "      <td>53</td>\n",
              "      <td>0.654</td>\n",
              "      <td>190</td>\n",
              "      <td>...</td>\n",
              "      <td>0.000</td>\n",
              "      <td>0.000</td>\n",
              "      <td>0.000</td>\n",
              "      <td>0.000</td>\n",
              "      <td>0.000</td>\n",
              "      <td>0.000</td>\n",
              "      <td>0.000</td>\n",
              "      <td>0.000</td>\n",
              "      <td>0.000</td>\n",
              "      <td>0.000</td>\n",
              "    </tr>\n",
              "  </tbody>\n",
              "</table>\n",
              "<p>5 rows × 70 columns</p>\n",
              "</div>\n",
              "      <button class=\"colab-df-convert\" onclick=\"convertToInteractive('df-731af897-4db7-426d-a57a-ee3cc87ff03d')\"\n",
              "              title=\"Convert this dataframe to an interactive table.\"\n",
              "              style=\"display:none;\">\n",
              "        \n",
              "  <svg xmlns=\"http://www.w3.org/2000/svg\" height=\"24px\"viewBox=\"0 0 24 24\"\n",
              "       width=\"24px\">\n",
              "    <path d=\"M0 0h24v24H0V0z\" fill=\"none\"/>\n",
              "    <path d=\"M18.56 5.44l.94 2.06.94-2.06 2.06-.94-2.06-.94-.94-2.06-.94 2.06-2.06.94zm-11 1L8.5 8.5l.94-2.06 2.06-.94-2.06-.94L8.5 2.5l-.94 2.06-2.06.94zm10 10l.94 2.06.94-2.06 2.06-.94-2.06-.94-.94-2.06-.94 2.06-2.06.94z\"/><path d=\"M17.41 7.96l-1.37-1.37c-.4-.4-.92-.59-1.43-.59-.52 0-1.04.2-1.43.59L10.3 9.45l-7.72 7.72c-.78.78-.78 2.05 0 2.83L4 21.41c.39.39.9.59 1.41.59.51 0 1.02-.2 1.41-.59l7.78-7.78 2.81-2.81c.8-.78.8-2.07 0-2.86zM5.41 20L4 18.59l7.72-7.72 1.47 1.35L5.41 20z\"/>\n",
              "  </svg>\n",
              "      </button>\n",
              "      \n",
              "  <style>\n",
              "    .colab-df-container {\n",
              "      display:flex;\n",
              "      flex-wrap:wrap;\n",
              "      gap: 12px;\n",
              "    }\n",
              "\n",
              "    .colab-df-convert {\n",
              "      background-color: #E8F0FE;\n",
              "      border: none;\n",
              "      border-radius: 50%;\n",
              "      cursor: pointer;\n",
              "      display: none;\n",
              "      fill: #1967D2;\n",
              "      height: 32px;\n",
              "      padding: 0 0 0 0;\n",
              "      width: 32px;\n",
              "    }\n",
              "\n",
              "    .colab-df-convert:hover {\n",
              "      background-color: #E2EBFA;\n",
              "      box-shadow: 0px 1px 2px rgba(60, 64, 67, 0.3), 0px 1px 3px 1px rgba(60, 64, 67, 0.15);\n",
              "      fill: #174EA6;\n",
              "    }\n",
              "\n",
              "    [theme=dark] .colab-df-convert {\n",
              "      background-color: #3B4455;\n",
              "      fill: #D2E3FC;\n",
              "    }\n",
              "\n",
              "    [theme=dark] .colab-df-convert:hover {\n",
              "      background-color: #434B5C;\n",
              "      box-shadow: 0px 1px 3px 1px rgba(0, 0, 0, 0.15);\n",
              "      filter: drop-shadow(0px 1px 2px rgba(0, 0, 0, 0.3));\n",
              "      fill: #FFFFFF;\n",
              "    }\n",
              "  </style>\n",
              "\n",
              "      <script>\n",
              "        const buttonEl =\n",
              "          document.querySelector('#df-731af897-4db7-426d-a57a-ee3cc87ff03d button.colab-df-convert');\n",
              "        buttonEl.style.display =\n",
              "          google.colab.kernel.accessAllowed ? 'block' : 'none';\n",
              "\n",
              "        async function convertToInteractive(key) {\n",
              "          const element = document.querySelector('#df-731af897-4db7-426d-a57a-ee3cc87ff03d');\n",
              "          const dataTable =\n",
              "            await google.colab.kernel.invokeFunction('convertToInteractive',\n",
              "                                                     [key], {});\n",
              "          if (!dataTable) return;\n",
              "\n",
              "          const docLinkHtml = 'Like what you see? Visit the ' +\n",
              "            '<a target=\"_blank\" href=https://colab.research.google.com/notebooks/data_table.ipynb>data table notebook</a>'\n",
              "            + ' to learn more about interactive tables.';\n",
              "          element.innerHTML = '';\n",
              "          dataTable['output_type'] = 'display_data';\n",
              "          await google.colab.output.renderOutput(dataTable, element);\n",
              "          const docLink = document.createElement('div');\n",
              "          docLink.innerHTML = docLinkHtml;\n",
              "          element.appendChild(docLink);\n",
              "        }\n",
              "      </script>\n",
              "    </div>\n",
              "  </div>\n",
              "  "
            ]
          },
          "metadata": {},
          "execution_count": 10
        }
      ],
      "source": [
        "# view 5 samples in our data\n",
        "df.sample(5)"
      ]
    },
    {
      "cell_type": "markdown",
      "metadata": {
        "id": "lK-nTfQRdWfB"
      },
      "source": [
        "## Establishing our Baseline Data Model Performance\n",
        "\n",
        "Since we are generating synthetic data, we would just be using the default parameters of random forest model with no hyperparameter tuning and with thesame random seed and traintest split throughout, to enable us compare the performance across the different datasets.\n",
        "\n",
        "Furthermore, Since we will be doing a lot of preprocessing with different data, I think it is best to define a function to preprocess and split the data and another one to return our relevant evaluation metrics (the functions were retweaked so many times along the line)."
      ]
    },
    {
      "cell_type": "code",
      "source": [
        "def split_preprocessor(df, target):\n",
        "  # Split the data into train and test sets\n",
        "  X = df.drop(target, axis=1)\n",
        "  y = df[target]\n",
        "  X_train, X_test, y_train, y_test = train_test_split(X, y, test_size=0.2, random_state=42)\n",
        "\n",
        "  # Identify categorical columns\n",
        "  cat_cols = [col for col in X_train.columns if X_train[col].dtype=='object']\n",
        "\n",
        "  # Preprocess the categorical data\n",
        "  enc = OneHotEncoder(handle_unknown='ignore')\n",
        "  X_train_cat = enc.fit_transform(X_train[cat_cols])\n",
        "  X_test_cat = enc.transform(X_test[cat_cols])\n",
        "\n",
        "  # Preprocess the numerical data\n",
        "  scaler = StandardScaler()\n",
        "  X_train_num = scaler.fit_transform(X_train.drop(cat_cols, axis=1))\n",
        "  X_test_num = scaler.transform(X_test.drop(cat_cols, axis=1))\n",
        "\n",
        "  # Combine the preprocessed data\n",
        "  X_train = np.hstack((X_train_cat.toarray(), X_train_num))\n",
        "  X_test = np.hstack((X_test_cat.toarray(), X_test_num))\n",
        "\n",
        "  #return the split data\n",
        "  return X_train, X_test, y_train, y_test"
      ],
      "metadata": {
        "id": "YaNVkuD8pErt"
      },
      "execution_count": 11,
      "outputs": []
    },
    {
      "cell_type": "code",
      "execution_count": 12,
      "metadata": {
        "id": "zf2uPMXB_5E9"
      },
      "outputs": [],
      "source": [
        "# Define function to return our metrics\n",
        "def evaluate_model(model, X_test, y_test):\n",
        "  \n",
        "  # generate prediction with our model\n",
        "  y_pred = model.predict(X_test)\n",
        "\n",
        "  # Generate different metric value\n",
        "  f1_score_value = f1_score(y_test, y_pred)\n",
        "  roc_auc_value = roc_auc_score(y_test, y_pred)\n",
        "  accuracy_value = accuracy_score(y_test, y_pred)\n",
        "  precision_value = precision_score(y_test, y_pred)\n",
        "  recall_value = recall_score(y_test, y_pred)\n",
        "\n",
        "  print(\"\\033[1m\\033[4mMETRICS\\033[0m\")\n",
        "  print(\"F1 score: {:.2f}\".format(f1_score_value))\n",
        "  print(\"ROC-AUC: {:.2f}\".format(roc_auc_value))\n",
        "  print(\"Accuracy: {:.2f}\".format(accuracy_value))\n",
        "  print(\"Precision: {:.2f}\".format(precision_value))\n",
        "  print(\"Recall: {:.2f}\".format(recall_value))\n",
        "\n",
        "  # Display line break\n",
        "  print(\"\\n\")\n",
        "\n",
        "  # classification report\n",
        "  cr = classification_report(y_test, y_pred)\n",
        "  print(cr)\n",
        "\n",
        "  # Display line break\n",
        "  print(\"\\n\")\n",
        "\n",
        "  # Plotting our confusion matrix\n",
        "  plot_confusion_matrix(model, X_test, y_test, display_labels=[\"ASD Trait Absent\", \"ASD Trait Present\"])\n",
        "  plt.show()"
      ]
    },
    {
      "cell_type": "markdown",
      "source": [
        "We will also define a function to help us append the metrics of each model into a table for later comparison. The function will append the F1 score, ROC-AUC, accuracy, precision, recall of a fitted model to a table we would specify, such that once it is applied to another fitted model, it adds the metrics to a new line when called. Also, if the column name is not already available at first, this should be automatically added. We should also be able to add some description of the model as a column in the table, when calling the function."
      ],
      "metadata": {
        "id": "PreCzc7f6Y85"
      }
    },
    {
      "cell_type": "code",
      "source": [
        "# Initialize the table to append our evaluation results as we fit each model\n",
        "model_results = pd.DataFrame(columns=[])\n",
        "\n",
        "# Define the function to append results for comparison\n",
        "def append_metrics(model, X_test, y_test, table, data_desc=None):\n",
        "  y_pred = model.predict(X_test)\n",
        "\n",
        "  f1_score_value = f1_score(y_test, y_pred)\n",
        "  roc_auc_value = roc_auc_score(y_test, y_pred)\n",
        "  accuracy_value = accuracy_score(y_test, y_pred)\n",
        "  precision_value = precision_score(y_test, y_pred)\n",
        "  recall_value = recall_score(y_test, y_pred)\n",
        "\n",
        "  metrics = {\n",
        "      \"Data Description\": data_desc,\n",
        "      \"F1 Score\": f1_score_value,\n",
        "      \"ROC AUC\": roc_auc_value,\n",
        "      \"Accuracy\": accuracy_value,\n",
        "      \"Precision\": precision_value,\n",
        "      \"Recall\": recall_value\n",
        "  }\n",
        "\n",
        "  for metric_name, value in metrics.items():\n",
        "      if metric_name not in table.columns:\n",
        "          table[metric_name] = None\n",
        "          \n",
        "  new_row = pd.DataFrame(metrics, index=[0])\n",
        "  table = table.append(new_row, ignore_index=True)\n",
        "\n",
        "  return table"
      ],
      "metadata": {
        "id": "wz1Dhr4o6wWT"
      },
      "execution_count": 13,
      "outputs": []
    },
    {
      "cell_type": "markdown",
      "source": [
        "Let's also iniate our Random Forest model here, since we will be using thesame model throughout."
      ],
      "metadata": {
        "id": "X5Oj8V_up1Ee"
      }
    },
    {
      "cell_type": "code",
      "source": [
        "# Define the random forest classifier\n",
        "model = RandomForestClassifier(random_state=42)"
      ],
      "metadata": {
        "id": "MD2SZDYlo4_1"
      },
      "execution_count": 14,
      "outputs": []
    },
    {
      "cell_type": "markdown",
      "metadata": {
        "id": "Q4avrrpUZI0Q"
      },
      "source": [
        "### Modelling our Baseline Data\n",
        "\n",
        "As mentioned earlier, we will model our data to generate predictions using Random Forest Classifier, since this is a binary classification. Afterwards, we will generate synthetic data on the training data and overall baseline dataset using different techniques, and go through thesame predictive modelling process, to see if there would be an improvement on the prediction. By the way, our main focus is the evaluation on the test data, since this is data our model has never seen before."
      ]
    },
    {
      "cell_type": "code",
      "execution_count": 15,
      "metadata": {
        "colab": {
          "base_uri": "https://localhost:8080/",
          "height": 300
        },
        "id": "NuGPsfjomSqB",
        "outputId": "da4c5266-297f-4283-d4cf-c5431ae02803"
      },
      "outputs": [
        {
          "output_type": "execute_result",
          "data": {
            "text/plain": [
              "   ASD  child_mlu  percent_child_parents_mlu  child_mluw  \\\n",
              "0    0      2.641                      0.398       2.604   \n",
              "1    1      1.105                      0.218       1.000   \n",
              "2    0      3.158                      0.449       2.719   \n",
              "3    1      2.394                      0.462       1.979   \n",
              "4    1      5.213                      0.841       4.023   \n",
              "\n",
              "   percent_child_parents_mluw  child_ttr  percent_child_parents_ttr  \\\n",
              "0                       0.472      0.558                      2.215   \n",
              "1                       0.265      0.500                      2.556   \n",
              "2                       0.501      0.394                      1.218   \n",
              "3                       0.488      0.527                      1.905   \n",
              "4                       0.832      0.421                      0.972   \n",
              "\n",
              "   child_ipsyn  percent_child_parents_ipsyn  child_num_words  ...  \\\n",
              "0           61                        0.701              212  ...   \n",
              "1            2                        0.026               21  ...   \n",
              "2           57                        0.606              233  ...   \n",
              "3           40                        0.519              165  ...   \n",
              "4           81                        0.931              462  ...   \n",
              "\n",
              "   pos_percent_sub#n  pos_percent_n:pt  pos_percent_pro:refl  \\\n",
              "0              0.000             0.000                 0.000   \n",
              "1              0.000             0.000                 0.000   \n",
              "2              0.000             0.000                 0.000   \n",
              "3              0.000             0.000                 0.000   \n",
              "4              0.000             0.000                 0.000   \n",
              "\n",
              "   pos_percent_un#part  pos_percent_L2  pos_percent_chi  pos_percent_pro:poss  \\\n",
              "0                0.000           0.000            0.000                 0.000   \n",
              "1                0.000           0.000            0.000                 0.000   \n",
              "2                0.000           0.000            0.000                 0.000   \n",
              "3                0.000           0.000            0.000                 0.000   \n",
              "4                0.000           0.000            0.000                 0.000   \n",
              "\n",
              "   pos_percent_n:let  pos_percent_bab  pos_percent_sing  \n",
              "0              0.000            0.000             0.000  \n",
              "1              0.000            0.000             0.000  \n",
              "2              0.000            0.000             0.000  \n",
              "3              0.000            0.000             0.000  \n",
              "4              0.000            0.000             0.000  \n",
              "\n",
              "[5 rows x 70 columns]"
            ],
            "text/html": [
              "\n",
              "  <div id=\"df-32b3e8e7-65a7-469e-97c7-9edb0a782f75\">\n",
              "    <div class=\"colab-df-container\">\n",
              "      <div>\n",
              "<style scoped>\n",
              "    .dataframe tbody tr th:only-of-type {\n",
              "        vertical-align: middle;\n",
              "    }\n",
              "\n",
              "    .dataframe tbody tr th {\n",
              "        vertical-align: top;\n",
              "    }\n",
              "\n",
              "    .dataframe thead th {\n",
              "        text-align: right;\n",
              "    }\n",
              "</style>\n",
              "<table border=\"1\" class=\"dataframe\">\n",
              "  <thead>\n",
              "    <tr style=\"text-align: right;\">\n",
              "      <th></th>\n",
              "      <th>ASD</th>\n",
              "      <th>child_mlu</th>\n",
              "      <th>percent_child_parents_mlu</th>\n",
              "      <th>child_mluw</th>\n",
              "      <th>percent_child_parents_mluw</th>\n",
              "      <th>child_ttr</th>\n",
              "      <th>percent_child_parents_ttr</th>\n",
              "      <th>child_ipsyn</th>\n",
              "      <th>percent_child_parents_ipsyn</th>\n",
              "      <th>child_num_words</th>\n",
              "      <th>...</th>\n",
              "      <th>pos_percent_sub#n</th>\n",
              "      <th>pos_percent_n:pt</th>\n",
              "      <th>pos_percent_pro:refl</th>\n",
              "      <th>pos_percent_un#part</th>\n",
              "      <th>pos_percent_L2</th>\n",
              "      <th>pos_percent_chi</th>\n",
              "      <th>pos_percent_pro:poss</th>\n",
              "      <th>pos_percent_n:let</th>\n",
              "      <th>pos_percent_bab</th>\n",
              "      <th>pos_percent_sing</th>\n",
              "    </tr>\n",
              "  </thead>\n",
              "  <tbody>\n",
              "    <tr>\n",
              "      <th>0</th>\n",
              "      <td>0</td>\n",
              "      <td>2.641</td>\n",
              "      <td>0.398</td>\n",
              "      <td>2.604</td>\n",
              "      <td>0.472</td>\n",
              "      <td>0.558</td>\n",
              "      <td>2.215</td>\n",
              "      <td>61</td>\n",
              "      <td>0.701</td>\n",
              "      <td>212</td>\n",
              "      <td>...</td>\n",
              "      <td>0.000</td>\n",
              "      <td>0.000</td>\n",
              "      <td>0.000</td>\n",
              "      <td>0.000</td>\n",
              "      <td>0.000</td>\n",
              "      <td>0.000</td>\n",
              "      <td>0.000</td>\n",
              "      <td>0.000</td>\n",
              "      <td>0.000</td>\n",
              "      <td>0.000</td>\n",
              "    </tr>\n",
              "    <tr>\n",
              "      <th>1</th>\n",
              "      <td>1</td>\n",
              "      <td>1.105</td>\n",
              "      <td>0.218</td>\n",
              "      <td>1.000</td>\n",
              "      <td>0.265</td>\n",
              "      <td>0.500</td>\n",
              "      <td>2.556</td>\n",
              "      <td>2</td>\n",
              "      <td>0.026</td>\n",
              "      <td>21</td>\n",
              "      <td>...</td>\n",
              "      <td>0.000</td>\n",
              "      <td>0.000</td>\n",
              "      <td>0.000</td>\n",
              "      <td>0.000</td>\n",
              "      <td>0.000</td>\n",
              "      <td>0.000</td>\n",
              "      <td>0.000</td>\n",
              "      <td>0.000</td>\n",
              "      <td>0.000</td>\n",
              "      <td>0.000</td>\n",
              "    </tr>\n",
              "    <tr>\n",
              "      <th>2</th>\n",
              "      <td>0</td>\n",
              "      <td>3.158</td>\n",
              "      <td>0.449</td>\n",
              "      <td>2.719</td>\n",
              "      <td>0.501</td>\n",
              "      <td>0.394</td>\n",
              "      <td>1.218</td>\n",
              "      <td>57</td>\n",
              "      <td>0.606</td>\n",
              "      <td>233</td>\n",
              "      <td>...</td>\n",
              "      <td>0.000</td>\n",
              "      <td>0.000</td>\n",
              "      <td>0.000</td>\n",
              "      <td>0.000</td>\n",
              "      <td>0.000</td>\n",
              "      <td>0.000</td>\n",
              "      <td>0.000</td>\n",
              "      <td>0.000</td>\n",
              "      <td>0.000</td>\n",
              "      <td>0.000</td>\n",
              "    </tr>\n",
              "    <tr>\n",
              "      <th>3</th>\n",
              "      <td>1</td>\n",
              "      <td>2.394</td>\n",
              "      <td>0.462</td>\n",
              "      <td>1.979</td>\n",
              "      <td>0.488</td>\n",
              "      <td>0.527</td>\n",
              "      <td>1.905</td>\n",
              "      <td>40</td>\n",
              "      <td>0.519</td>\n",
              "      <td>165</td>\n",
              "      <td>...</td>\n",
              "      <td>0.000</td>\n",
              "      <td>0.000</td>\n",
              "      <td>0.000</td>\n",
              "      <td>0.000</td>\n",
              "      <td>0.000</td>\n",
              "      <td>0.000</td>\n",
              "      <td>0.000</td>\n",
              "      <td>0.000</td>\n",
              "      <td>0.000</td>\n",
              "      <td>0.000</td>\n",
              "    </tr>\n",
              "    <tr>\n",
              "      <th>4</th>\n",
              "      <td>1</td>\n",
              "      <td>5.213</td>\n",
              "      <td>0.841</td>\n",
              "      <td>4.023</td>\n",
              "      <td>0.832</td>\n",
              "      <td>0.421</td>\n",
              "      <td>0.972</td>\n",
              "      <td>81</td>\n",
              "      <td>0.931</td>\n",
              "      <td>462</td>\n",
              "      <td>...</td>\n",
              "      <td>0.000</td>\n",
              "      <td>0.000</td>\n",
              "      <td>0.000</td>\n",
              "      <td>0.000</td>\n",
              "      <td>0.000</td>\n",
              "      <td>0.000</td>\n",
              "      <td>0.000</td>\n",
              "      <td>0.000</td>\n",
              "      <td>0.000</td>\n",
              "      <td>0.000</td>\n",
              "    </tr>\n",
              "  </tbody>\n",
              "</table>\n",
              "<p>5 rows × 70 columns</p>\n",
              "</div>\n",
              "      <button class=\"colab-df-convert\" onclick=\"convertToInteractive('df-32b3e8e7-65a7-469e-97c7-9edb0a782f75')\"\n",
              "              title=\"Convert this dataframe to an interactive table.\"\n",
              "              style=\"display:none;\">\n",
              "        \n",
              "  <svg xmlns=\"http://www.w3.org/2000/svg\" height=\"24px\"viewBox=\"0 0 24 24\"\n",
              "       width=\"24px\">\n",
              "    <path d=\"M0 0h24v24H0V0z\" fill=\"none\"/>\n",
              "    <path d=\"M18.56 5.44l.94 2.06.94-2.06 2.06-.94-2.06-.94-.94-2.06-.94 2.06-2.06.94zm-11 1L8.5 8.5l.94-2.06 2.06-.94-2.06-.94L8.5 2.5l-.94 2.06-2.06.94zm10 10l.94 2.06.94-2.06 2.06-.94-2.06-.94-.94-2.06-.94 2.06-2.06.94z\"/><path d=\"M17.41 7.96l-1.37-1.37c-.4-.4-.92-.59-1.43-.59-.52 0-1.04.2-1.43.59L10.3 9.45l-7.72 7.72c-.78.78-.78 2.05 0 2.83L4 21.41c.39.39.9.59 1.41.59.51 0 1.02-.2 1.41-.59l7.78-7.78 2.81-2.81c.8-.78.8-2.07 0-2.86zM5.41 20L4 18.59l7.72-7.72 1.47 1.35L5.41 20z\"/>\n",
              "  </svg>\n",
              "      </button>\n",
              "      \n",
              "  <style>\n",
              "    .colab-df-container {\n",
              "      display:flex;\n",
              "      flex-wrap:wrap;\n",
              "      gap: 12px;\n",
              "    }\n",
              "\n",
              "    .colab-df-convert {\n",
              "      background-color: #E8F0FE;\n",
              "      border: none;\n",
              "      border-radius: 50%;\n",
              "      cursor: pointer;\n",
              "      display: none;\n",
              "      fill: #1967D2;\n",
              "      height: 32px;\n",
              "      padding: 0 0 0 0;\n",
              "      width: 32px;\n",
              "    }\n",
              "\n",
              "    .colab-df-convert:hover {\n",
              "      background-color: #E2EBFA;\n",
              "      box-shadow: 0px 1px 2px rgba(60, 64, 67, 0.3), 0px 1px 3px 1px rgba(60, 64, 67, 0.15);\n",
              "      fill: #174EA6;\n",
              "    }\n",
              "\n",
              "    [theme=dark] .colab-df-convert {\n",
              "      background-color: #3B4455;\n",
              "      fill: #D2E3FC;\n",
              "    }\n",
              "\n",
              "    [theme=dark] .colab-df-convert:hover {\n",
              "      background-color: #434B5C;\n",
              "      box-shadow: 0px 1px 3px 1px rgba(0, 0, 0, 0.15);\n",
              "      filter: drop-shadow(0px 1px 2px rgba(0, 0, 0, 0.3));\n",
              "      fill: #FFFFFF;\n",
              "    }\n",
              "  </style>\n",
              "\n",
              "      <script>\n",
              "        const buttonEl =\n",
              "          document.querySelector('#df-32b3e8e7-65a7-469e-97c7-9edb0a782f75 button.colab-df-convert');\n",
              "        buttonEl.style.display =\n",
              "          google.colab.kernel.accessAllowed ? 'block' : 'none';\n",
              "\n",
              "        async function convertToInteractive(key) {\n",
              "          const element = document.querySelector('#df-32b3e8e7-65a7-469e-97c7-9edb0a782f75');\n",
              "          const dataTable =\n",
              "            await google.colab.kernel.invokeFunction('convertToInteractive',\n",
              "                                                     [key], {});\n",
              "          if (!dataTable) return;\n",
              "\n",
              "          const docLinkHtml = 'Like what you see? Visit the ' +\n",
              "            '<a target=\"_blank\" href=https://colab.research.google.com/notebooks/data_table.ipynb>data table notebook</a>'\n",
              "            + ' to learn more about interactive tables.';\n",
              "          element.innerHTML = '';\n",
              "          dataTable['output_type'] = 'display_data';\n",
              "          await google.colab.output.renderOutput(dataTable, element);\n",
              "          const docLink = document.createElement('div');\n",
              "          docLink.innerHTML = docLinkHtml;\n",
              "          element.appendChild(docLink);\n",
              "        }\n",
              "      </script>\n",
              "    </div>\n",
              "  </div>\n",
              "  "
            ]
          },
          "metadata": {},
          "execution_count": 15
        }
      ],
      "source": [
        "# copy df into a new dataframe\n",
        "df_baseline = df.copy()\n",
        "df_baseline.head()"
      ]
    },
    {
      "cell_type": "code",
      "source": [
        "# Counts the number of each class in our label\n",
        "df_baseline.ASD.value_counts()"
      ],
      "metadata": {
        "colab": {
          "base_uri": "https://localhost:8080/"
        },
        "id": "emAZBfaW59Zd",
        "outputId": "8d9e1b64-0177-4f76-bf55-32442dcf8495"
      },
      "execution_count": 16,
      "outputs": [
        {
          "output_type": "execute_result",
          "data": {
            "text/plain": [
              "0    25\n",
              "1    13\n",
              "Name: ASD, dtype: int64"
            ]
          },
          "metadata": {},
          "execution_count": 16
        }
      ]
    },
    {
      "cell_type": "markdown",
      "source": [
        "We have imbalanced class, in which we have more class of non ASD than ASD. However, we expect to see this impact our model prediction."
      ],
      "metadata": {
        "id": "uiiLwaTb-8s7"
      }
    },
    {
      "cell_type": "code",
      "source": [
        "# Preprocess and split baseline data\n",
        "X_train, X_test, y_train, y_test = split_preprocessor(df_baseline, 'ASD')\n",
        "\n",
        "# Fit the model to the training data\n",
        "df_baseline_model = model.fit(X_train, y_train)\n",
        "\n",
        "# Append the metrics to our model_results table\n",
        "model_results = append_metrics(df_baseline_model, X_test, y_test, model_results, data_desc=\"baseline dataset\")"
      ],
      "metadata": {
        "id": "_W6HrebxqBe7"
      },
      "execution_count": 17,
      "outputs": []
    },
    {
      "cell_type": "code",
      "source": [
        "# Evaluate on the training set\n",
        "evaluate_model(df_baseline_model, X_train, y_train)"
      ],
      "metadata": {
        "colab": {
          "base_uri": "https://localhost:8080/",
          "height": 609
        },
        "id": "QS4OgnnO_0KX",
        "outputId": "1dc96c67-a4b2-4e47-9ce1-7aef89de2b0c"
      },
      "execution_count": 18,
      "outputs": [
        {
          "output_type": "stream",
          "name": "stdout",
          "text": [
            "\u001b[1m\u001b[4mMETRICS\u001b[0m\n",
            "F1 score: 1.00\n",
            "ROC-AUC: 1.00\n",
            "Accuracy: 1.00\n",
            "Precision: 1.00\n",
            "Recall: 1.00\n",
            "\n",
            "\n",
            "              precision    recall  f1-score   support\n",
            "\n",
            "           0       1.00      1.00      1.00        21\n",
            "           1       1.00      1.00      1.00         9\n",
            "\n",
            "    accuracy                           1.00        30\n",
            "   macro avg       1.00      1.00      1.00        30\n",
            "weighted avg       1.00      1.00      1.00        30\n",
            "\n",
            "\n",
            "\n"
          ]
        },
        {
          "output_type": "display_data",
          "data": {
            "text/plain": [
              "<Figure size 432x288 with 2 Axes>"
            ],
            "image/png": "[encoded data removed]"
          },
          "metadata": {
            "needs_background": "light"
          }
        }
      ]
    },
    {
      "cell_type": "code",
      "execution_count": 19,
      "metadata": {
        "colab": {
          "base_uri": "https://localhost:8080/",
          "height": 613
        },
        "id": "56ue-_zs-eNc",
        "outputId": "2e6c5a54-3ea4-47f0-f60b-e38a37b3d621"
      },
      "outputs": [
        {
          "output_type": "stream",
          "name": "stdout",
          "text": [
            "\u001b[1m\u001b[4mMETRICS\u001b[0m\n",
            "F1 score: 0.33\n",
            "ROC-AUC: 0.50\n",
            "Accuracy: 0.50\n",
            "Precision: 0.50\n",
            "Recall: 0.25\n",
            "\n",
            "\n",
            "              precision    recall  f1-score   support\n",
            "\n",
            "           0       0.50      0.75      0.60         4\n",
            "           1       0.50      0.25      0.33         4\n",
            "\n",
            "    accuracy                           0.50         8\n",
            "   macro avg       0.50      0.50      0.47         8\n",
            "weighted avg       0.50      0.50      0.47         8\n",
            "\n",
            "\n",
            "\n"
          ]
        },
        {
          "output_type": "display_data",
          "data": {
            "text/plain": [
              "<Figure size 432x288 with 2 Axes>"
            ],
            "image/png": "[encoded data removed]"
          },
          "metadata": {
            "needs_background": "light"
          }
        }
      ],
      "source": [
        "# Evaluate on the test set\n",
        "evaluate_model(df_baseline_model, X_test, y_test)"
      ]
    },
    {
      "cell_type": "markdown",
      "metadata": {
        "id": "yaOFrPA_QGTw"
      },
      "source": [
        "Our model ended up overfitting, as it was not able to generalize on the testing dataset, which is explainable with the small dataset. "
      ]
    },
    {
      "cell_type": "markdown",
      "metadata": {
        "id": "e9cQqq-JXAK3"
      },
      "source": [
        "## Generating Synthetic data on the Training Dataset Using the Basic Techniques\n",
        "\n",
        "We will go ahead to generate all our synthetic data and evaluate each, as we move on. \n",
        "\n",
        "We would generate our synthetic data on the training set, as this could allow the model to learn from the synthetic examples and generalize to new, unseen data. Additionally, synthetic data generated on the training set can be used to improve the performance of a model on the under-represented class, which is an important aspect of many classification problems. Therefore, we be fitting each technique to the training data, while we use thesame test data to evaluate all the techniques.\n",
        "\n",
        "Since this will also be an iterative process with the use of different techniques and evaluation with thesame model, to also improve readability, we will also define a function to test each of the classical techniques used in synthesizing data. Kindly note that the relevant library required has been installed earlier."
      ]
    },
    {
      "cell_type": "code",
      "source": [
        "# define function to synthesize training data and train a model\n",
        "def model_syn_training_data(model, technique, X_train, y_train):\n",
        "  # Apply the sampler\n",
        "  X_train_sampled, y_train_sampled = technique.fit_resample(X_train, y_train)\n",
        "\n",
        "  # fit our model to the synthetic sampled training data\n",
        "  df_sampled_model = model.fit(X_train_sampled, y_train_sampled)\n",
        "\n",
        "  return df_sampled_model"
      ],
      "metadata": {
        "id": "8Cu-8oXvr7R9"
      },
      "execution_count": 20,
      "outputs": []
    },
    {
      "cell_type": "markdown",
      "metadata": {
        "id": "mlzcawh2XVT-"
      },
      "source": [
        "### Implementing and Evaluating Random Oversampling Technique on Training Data"
      ]
    },
    {
      "cell_type": "code",
      "source": [
        "# Implement the random oversampler\n",
        "df_ro_sampled_model = model_syn_training_data(model, RandomOverSampler(random_state=42), X_train, y_train)\n",
        "\n",
        "# Append the metrics to our model_results table\n",
        "model_results = append_metrics(df_ro_sampled_model, X_test, y_test, model_results, data_desc=\"Random Oversampling on Training Data\")\n",
        "\n",
        "# Evaluate our df_ro_sampled_model on the test set\n",
        "evaluate_model(df_ro_sampled_model, X_test, y_test)"
      ],
      "metadata": {
        "colab": {
          "base_uri": "https://localhost:8080/",
          "height": 613
        },
        "id": "JJn9YGCxuJnx",
        "outputId": "33ef8575-2d6e-4347-dd31-30677e7566e5"
      },
      "execution_count": 21,
      "outputs": [
        {
          "output_type": "stream",
          "name": "stdout",
          "text": [
            "\u001b[1m\u001b[4mMETRICS\u001b[0m\n",
            "F1 score: 0.33\n",
            "ROC-AUC: 0.50\n",
            "Accuracy: 0.50\n",
            "Precision: 0.50\n",
            "Recall: 0.25\n",
            "\n",
            "\n",
            "              precision    recall  f1-score   support\n",
            "\n",
            "           0       0.50      0.75      0.60         4\n",
            "           1       0.50      0.25      0.33         4\n",
            "\n",
            "    accuracy                           0.50         8\n",
            "   macro avg       0.50      0.50      0.47         8\n",
            "weighted avg       0.50      0.50      0.47         8\n",
            "\n",
            "\n",
            "\n"
          ]
        },
        {
          "output_type": "display_data",
          "data": {
            "text/plain": [
              "<Figure size 432x288 with 2 Axes>"
            ],
            "image/png": "[encoded data removed]"
          },
          "metadata": {
            "needs_background": "light"
          }
        }
      ]
    },
    {
      "cell_type": "markdown",
      "metadata": {
        "id": "2Z1YT9AVf2Ci"
      },
      "source": [
        "Our trained randomly oversampled training data model performed similarly to the baseline data evaluation on the test data."
      ]
    },
    {
      "cell_type": "markdown",
      "metadata": {
        "id": "-_cE4uO-gdOn"
      },
      "source": [
        "### Implementing and Evaluating Random Undersampling Technique on Training Data\n",
        "\n",
        "As mentioned earlier, this technique will randomly remove instances from the majority class in order to balance the class distribution."
      ]
    },
    {
      "cell_type": "code",
      "source": [
        "# Implement the random undersampler\n",
        "df_ru_sampled_model = model_syn_training_data(model, RandomUnderSampler(random_state=42), X_train, y_train)\n",
        "\n",
        "# Append the metrics to our model_results table\n",
        "model_results = append_metrics(df_ru_sampled_model, X_test, y_test, model_results, data_desc=\"Random Undersampling on Training Data\")\n",
        "\n",
        "# Evaluate our df_ro_sampled_model on the test set\n",
        "evaluate_model(df_ru_sampled_model, X_test, y_test)"
      ],
      "metadata": {
        "colab": {
          "base_uri": "https://localhost:8080/",
          "height": 613
        },
        "id": "3p1Vi5BKuzce",
        "outputId": "7f04ea93-a457-48d2-b871-0a705a308dd8"
      },
      "execution_count": 22,
      "outputs": [
        {
          "output_type": "stream",
          "name": "stdout",
          "text": [
            "\u001b[1m\u001b[4mMETRICS\u001b[0m\n",
            "F1 score: 0.33\n",
            "ROC-AUC: 0.50\n",
            "Accuracy: 0.50\n",
            "Precision: 0.50\n",
            "Recall: 0.25\n",
            "\n",
            "\n",
            "              precision    recall  f1-score   support\n",
            "\n",
            "           0       0.50      0.75      0.60         4\n",
            "           1       0.50      0.25      0.33         4\n",
            "\n",
            "    accuracy                           0.50         8\n",
            "   macro avg       0.50      0.50      0.47         8\n",
            "weighted avg       0.50      0.50      0.47         8\n",
            "\n",
            "\n",
            "\n"
          ]
        },
        {
          "output_type": "display_data",
          "data": {
            "text/plain": [
              "<Figure size 432x288 with 2 Axes>"
            ],
            "image/png": "[encoded data removed]"
          },
          "metadata": {
            "needs_background": "light"
          }
        }
      ]
    },
    {
      "cell_type": "markdown",
      "metadata": {
        "id": "xx_WoyrYlLQp"
      },
      "source": [
        "Not different from the performance of the randomly oversampled training data."
      ]
    },
    {
      "cell_type": "markdown",
      "metadata": {
        "id": "ao8cSBXwl0YF"
      },
      "source": [
        "### Implementing and Evaluating Nearmiss Undersampling Technique on Training Data"
      ]
    },
    {
      "cell_type": "code",
      "source": [
        "# Implement the random undersampler\n",
        "df_nm_sampled_model = model_syn_training_data(model, NearMiss(n_neighbors=3), X_train, y_train)\n",
        "\n",
        "# Append the metrics to our model_results table\n",
        "model_results = append_metrics(df_nm_sampled_model, X_test, y_test, model_results, data_desc=\"NearMiss Undersampling on Training Data\")\n",
        "\n",
        "# Evaluate our df_ro_sampled_model on the test set\n",
        "evaluate_model(df_nm_sampled_model, X_test, y_test)"
      ],
      "metadata": {
        "colab": {
          "base_uri": "https://localhost:8080/",
          "height": 613
        },
        "id": "EXyk5DGOvPLF",
        "outputId": "865dbfbe-3da6-4e52-b32d-654092f6453d"
      },
      "execution_count": 23,
      "outputs": [
        {
          "output_type": "stream",
          "name": "stdout",
          "text": [
            "\u001b[1m\u001b[4mMETRICS\u001b[0m\n",
            "F1 score: 0.57\n",
            "ROC-AUC: 0.62\n",
            "Accuracy: 0.62\n",
            "Precision: 0.67\n",
            "Recall: 0.50\n",
            "\n",
            "\n",
            "              precision    recall  f1-score   support\n",
            "\n",
            "           0       0.60      0.75      0.67         4\n",
            "           1       0.67      0.50      0.57         4\n",
            "\n",
            "    accuracy                           0.62         8\n",
            "   macro avg       0.63      0.62      0.62         8\n",
            "weighted avg       0.63      0.62      0.62         8\n",
            "\n",
            "\n",
            "\n"
          ]
        },
        {
          "output_type": "display_data",
          "data": {
            "text/plain": [
              "<Figure size 432x288 with 2 Axes>"
            ],
            "image/png": "[encoded data removed]"
          },
          "metadata": {
            "needs_background": "light"
          }
        }
      ]
    },
    {
      "cell_type": "markdown",
      "metadata": {
        "id": "LIYtNdr9vzwm"
      },
      "source": [
        "Our trained Nearmiss Undersampled training data model performed better than the baseline model, randomly oversampled and randomly undersampled synthetic training data, evaluated on the baseline test data."
      ]
    },
    {
      "cell_type": "markdown",
      "metadata": {
        "id": "pE0tMXWYl_uP"
      },
      "source": [
        "### Implementing and Evaluating SMOTE (Synthetic Minority Over-sampling Technique) on Training Data"
      ]
    },
    {
      "cell_type": "code",
      "source": [
        "# Implement the random undersampler\n",
        "df_smote_sampled_model = model_syn_training_data(model, SMOTE(random_state=42), X_train, y_train)\n",
        "\n",
        "# Append the metrics to our model_results table\n",
        "model_results = append_metrics(df_smote_sampled_model, X_test, y_test, model_results, data_desc=\"SMOTE Oversampling on Training Data\")\n",
        "\n",
        "# Evaluate our df_ro_sampled_model on the test set\n",
        "evaluate_model(df_smote_sampled_model, X_test, y_test)"
      ],
      "metadata": {
        "colab": {
          "base_uri": "https://localhost:8080/",
          "height": 613
        },
        "id": "PKAdEJWEvqPg",
        "outputId": "1fb3f940-0ec8-42e7-e876-152f3b3849cc"
      },
      "execution_count": 24,
      "outputs": [
        {
          "output_type": "stream",
          "name": "stdout",
          "text": [
            "\u001b[1m\u001b[4mMETRICS\u001b[0m\n",
            "F1 score: 0.33\n",
            "ROC-AUC: 0.50\n",
            "Accuracy: 0.50\n",
            "Precision: 0.50\n",
            "Recall: 0.25\n",
            "\n",
            "\n",
            "              precision    recall  f1-score   support\n",
            "\n",
            "           0       0.50      0.75      0.60         4\n",
            "           1       0.50      0.25      0.33         4\n",
            "\n",
            "    accuracy                           0.50         8\n",
            "   macro avg       0.50      0.50      0.47         8\n",
            "weighted avg       0.50      0.50      0.47         8\n",
            "\n",
            "\n",
            "\n"
          ]
        },
        {
          "output_type": "display_data",
          "data": {
            "text/plain": [
              "<Figure size 432x288 with 2 Axes>"
            ],
            "image/png": "[encoded data removed]"
          },
          "metadata": {
            "needs_background": "light"
          }
        }
      ]
    },
    {
      "cell_type": "markdown",
      "metadata": {
        "id": "vUPSYdCLuTvg"
      },
      "source": [
        "SMOTE performed similarly to the baseline data."
      ]
    },
    {
      "cell_type": "markdown",
      "metadata": {
        "id": "B0J3vsvTuh2H"
      },
      "source": [
        "### Implementing and Evaluating ADASYN on Training Data"
      ]
    },
    {
      "cell_type": "code",
      "source": [
        "# Implement the random undersampler\n",
        "df_asn_sampled_model = model_syn_training_data(model, ADASYN(random_state=42), X_train, y_train)\n",
        "\n",
        "# Append the metrics to our model_results table\n",
        "model_results = append_metrics(df_asn_sampled_model, X_test, y_test, model_results, data_desc=\"ADASYN on Training Data\")\n",
        "\n",
        "# Evaluate our df_ro_sampled_model on the test set\n",
        "evaluate_model(df_asn_sampled_model, X_test, y_test)"
      ],
      "metadata": {
        "colab": {
          "base_uri": "https://localhost:8080/",
          "height": 613
        },
        "id": "za7ubikVwRGg",
        "outputId": "b4f0096a-6fb9-479f-86d4-f44ed4e68ddb"
      },
      "execution_count": 25,
      "outputs": [
        {
          "output_type": "stream",
          "name": "stdout",
          "text": [
            "\u001b[1m\u001b[4mMETRICS\u001b[0m\n",
            "F1 score: 0.33\n",
            "ROC-AUC: 0.50\n",
            "Accuracy: 0.50\n",
            "Precision: 0.50\n",
            "Recall: 0.25\n",
            "\n",
            "\n",
            "              precision    recall  f1-score   support\n",
            "\n",
            "           0       0.50      0.75      0.60         4\n",
            "           1       0.50      0.25      0.33         4\n",
            "\n",
            "    accuracy                           0.50         8\n",
            "   macro avg       0.50      0.50      0.47         8\n",
            "weighted avg       0.50      0.50      0.47         8\n",
            "\n",
            "\n",
            "\n"
          ]
        },
        {
          "output_type": "display_data",
          "data": {
            "text/plain": [
              "<Figure size 432x288 with 2 Axes>"
            ],
            "image/png": "[encoded data removed]"
          },
          "metadata": {
            "needs_background": "light"
          }
        }
      ]
    },
    {
      "cell_type": "markdown",
      "metadata": {
        "id": "6ksJjCRpsTmu"
      },
      "source": [
        "ADASYN on training data when evaluated on the baseline test data, Performed similarly to the baseline model."
      ]
    },
    {
      "cell_type": "markdown",
      "metadata": {
        "id": "JxWCw7eXvyMj"
      },
      "source": [
        "### Implementing and Evaluating Tomek Links on Training Data\n"
      ]
    },
    {
      "cell_type": "code",
      "source": [
        "# Implement the random undersampler\n",
        "df_tlink_sampled_model = model_syn_training_data(model, TomekLinks(sampling_strategy='auto'), X_train, y_train)\n",
        "\n",
        "# Append the metrics to our model_results table\n",
        "model_results = append_metrics(df_tlink_sampled_model, X_test, y_test, model_results, data_desc=\"Tomek Links on Training Data\")\n",
        "\n",
        "# Evaluate our df_ro_sampled_model on the test set\n",
        "evaluate_model(df_tlink_sampled_model, X_test, y_test)"
      ],
      "metadata": {
        "colab": {
          "base_uri": "https://localhost:8080/",
          "height": 613
        },
        "id": "QnNX9AX7whEc",
        "outputId": "725ceb55-fef4-4863-a3a0-5d64fc192e78"
      },
      "execution_count": 26,
      "outputs": [
        {
          "output_type": "stream",
          "name": "stdout",
          "text": [
            "\u001b[1m\u001b[4mMETRICS\u001b[0m\n",
            "F1 score: 0.33\n",
            "ROC-AUC: 0.50\n",
            "Accuracy: 0.50\n",
            "Precision: 0.50\n",
            "Recall: 0.25\n",
            "\n",
            "\n",
            "              precision    recall  f1-score   support\n",
            "\n",
            "           0       0.50      0.75      0.60         4\n",
            "           1       0.50      0.25      0.33         4\n",
            "\n",
            "    accuracy                           0.50         8\n",
            "   macro avg       0.50      0.50      0.47         8\n",
            "weighted avg       0.50      0.50      0.47         8\n",
            "\n",
            "\n",
            "\n"
          ]
        },
        {
          "output_type": "display_data",
          "data": {
            "text/plain": [
              "<Figure size 432x288 with 2 Axes>"
            ],
            "image/png": "[encoded data removed]"
          },
          "metadata": {
            "needs_background": "light"
          }
        }
      ]
    },
    {
      "cell_type": "markdown",
      "metadata": {
        "id": "iq_HWTiFxFWX"
      },
      "source": [
        "Tomek on training data when evaluated on the baseline test data, Performed similarly to the baseline model."
      ]
    },
    {
      "cell_type": "markdown",
      "source": [
        "## Generating Synthetic data on the Baseline Dataset Using the Basic Techniques\n",
        "Here, we will use the overall baseline data to synthesize our data and generate a new dataset, and then use our initial split function to split into training and test, followed with the evaluation of the split data on the newly synthesized data using RF classifier.\n",
        "\n",
        "Firstly, we will generate another function to generate a new synthetic data based on selected technique on the overall data. (Note that the difference between this compared to the first one on the training set, is that training object is added to the function."
      ],
      "metadata": {
        "id": "vNtwOsDmxrIA"
      }
    },
    {
      "cell_type": "code",
      "source": [
        "# define function to synthesize baseline data\n",
        "def syn_baseline_data(df, target, technique):\n",
        "  # Separate the target variable from the data\n",
        "  X = df.drop(target, axis=1)\n",
        "  y = df[target]\n",
        "\n",
        "  # Perform resampling\n",
        "  X_resampled, y_resampled = technique.fit_resample(X, y)\n",
        "\n",
        "  # Combine the oversampled data\n",
        "  df_resampled = pd.concat([X_resampled, y_resampled], axis=1)\n",
        "  df_resampled.columns = X.columns.tolist() + [target]\n",
        "  return df_resampled"
      ],
      "metadata": {
        "id": "WL_Hgt7e1XII"
      },
      "execution_count": 27,
      "outputs": []
    },
    {
      "cell_type": "markdown",
      "source": [
        "### Implementing and Evaluating Random Oversampling Technique on the baseline data"
      ],
      "metadata": {
        "id": "oNQ27EpQ2HFI"
      }
    },
    {
      "cell_type": "code",
      "source": [
        "# Implement Random Oversampling on the baseline data\n",
        "df_baseline_ros = syn_baseline_data(df_baseline, 'ASD', RandomOverSampler(random_state=42))\n",
        "\n",
        "# Export to csv\n",
        "df_baseline_ros.to_csv('/content/drive/MyDrive/DS-ML projects/ASD Prediction/data/nlp_syndata_baseline-ros_11022023.csv', index=False)\n",
        "\n",
        "# Preprocess and split baseline data\n",
        "X_train, X_test, y_train, y_test = split_preprocessor(df_baseline_ros, 'ASD')\n",
        "\n",
        "# Fit the model to the training data\n",
        "df_baseline_ros_model = model.fit(X_train, y_train)\n",
        "\n",
        "# Append the metrics to our model_results table\n",
        "model_results = append_metrics(df_baseline_ros_model, X_test, y_test, model_results, data_desc=\"Random Oversampling on Baseline Data\")\n",
        "\n",
        "# Evaluate our df_ro_sampled_model on the test set\n",
        "evaluate_model(df_baseline_ros_model, X_test, y_test)"
      ],
      "metadata": {
        "colab": {
          "base_uri": "https://localhost:8080/",
          "height": 613
        },
        "id": "6J6_Z-5b2J9Q",
        "outputId": "66fe2bc7-25c3-46ff-b90e-82a961a98e3d"
      },
      "execution_count": 29,
      "outputs": [
        {
          "output_type": "stream",
          "name": "stdout",
          "text": [
            "\u001b[1m\u001b[4mMETRICS\u001b[0m\n",
            "F1 score: 0.92\n",
            "ROC-AUC: 0.93\n",
            "Accuracy: 0.90\n",
            "Precision: 1.00\n",
            "Recall: 0.86\n",
            "\n",
            "\n",
            "              precision    recall  f1-score   support\n",
            "\n",
            "           0       0.75      1.00      0.86         3\n",
            "           1       1.00      0.86      0.92         7\n",
            "\n",
            "    accuracy                           0.90        10\n",
            "   macro avg       0.88      0.93      0.89        10\n",
            "weighted avg       0.93      0.90      0.90        10\n",
            "\n",
            "\n",
            "\n"
          ]
        },
        {
          "output_type": "display_data",
          "data": {
            "text/plain": [
              "<Figure size 432x288 with 2 Axes>"
            ],
            "image/png": "[encoded data removed]"
          },
          "metadata": {
            "needs_background": "light"
          }
        }
      ]
    },
    {
      "cell_type": "markdown",
      "source": [
        "Randomly oversampled synthetic data generated on the baseline data before splitting, performed alot better with an F1-score of 0.92 and ROC-AUC of 0.93."
      ],
      "metadata": {
        "id": "rSWO0JcKrKKG"
      }
    },
    {
      "cell_type": "markdown",
      "source": [
        "### Implementing and Evaluating Random Undersampling Technique on the baseline data"
      ],
      "metadata": {
        "id": "aB380drM4vNB"
      }
    },
    {
      "cell_type": "code",
      "source": [
        "# Implement Random Undersampling on the baseline data\n",
        "df_baseline_rus = syn_baseline_data(df_baseline, 'ASD', RandomUnderSampler(random_state=42))\n",
        "\n",
        "# Export to csv\n",
        "df_baseline_rus.to_csv('/content/drive/MyDrive/DS-ML projects/ASD Prediction/data/nlp_syndata_baseline-rus_11022023.csv', index=False)\n",
        "\n",
        "# Preprocess and split baseline data\n",
        "X_train, X_test, y_train, y_test = split_preprocessor(df_baseline_rus, 'ASD')\n",
        "\n",
        "# Fit the model to the training data\n",
        "df_baseline_rus_model = model.fit(X_train, y_train)\n",
        "\n",
        "# Append the metrics to our model_results table\n",
        "model_results = append_metrics(df_baseline_rus_model, X_test, y_test, model_results, data_desc=\"Random Undersampling on Baseline Data\")\n",
        "\n",
        "# Evaluate our df_baseline_rus_model on the test set\n",
        "evaluate_model(df_baseline_rus_model, X_test, y_test)"
      ],
      "metadata": {
        "colab": {
          "base_uri": "https://localhost:8080/",
          "height": 613
        },
        "id": "fNk-2Jqs4u2O",
        "outputId": "5fcd78c6-0c8b-48d6-b827-829a94cb896e"
      },
      "execution_count": 30,
      "outputs": [
        {
          "output_type": "stream",
          "name": "stdout",
          "text": [
            "\u001b[1m\u001b[4mMETRICS\u001b[0m\n",
            "F1 score: 0.67\n",
            "ROC-AUC: 0.75\n",
            "Accuracy: 0.83\n",
            "Precision: 1.00\n",
            "Recall: 0.50\n",
            "\n",
            "\n",
            "              precision    recall  f1-score   support\n",
            "\n",
            "           0       0.80      1.00      0.89         4\n",
            "           1       1.00      0.50      0.67         2\n",
            "\n",
            "    accuracy                           0.83         6\n",
            "   macro avg       0.90      0.75      0.78         6\n",
            "weighted avg       0.87      0.83      0.81         6\n",
            "\n",
            "\n",
            "\n"
          ]
        },
        {
          "output_type": "display_data",
          "data": {
            "text/plain": [
              "<Figure size 432x288 with 2 Axes>"
            ],
            "image/png": "[encoded data removed]"
          },
          "metadata": {
            "needs_background": "light"
          }
        }
      ]
    },
    {
      "cell_type": "markdown",
      "source": [
        "Randomly undersampled synthetic data generated using the baseline data performed poorer than the randomly oversampled synthetic data. However, it still did better than the baseline model performance."
      ],
      "metadata": {
        "id": "hCwSxhVlraqv"
      }
    },
    {
      "cell_type": "markdown",
      "source": [
        "### Implementing and Evaluating Near Miss Technique on the baseline data"
      ],
      "metadata": {
        "id": "mgKzNQNQ8u4J"
      }
    },
    {
      "cell_type": "code",
      "source": [
        "# Nearmiss gives a categorical error, hence the use of the encoded data\n",
        "# Implement nearmiss on the baseline data\n",
        "df_baseline_nearmiss = syn_baseline_data(df_baseline, 'ASD', NearMiss(n_neighbors=3))\n",
        "\n",
        "# Export to csv\n",
        "df_baseline_nearmiss.to_csv('/content/drive/MyDrive/DS-ML projects/ASD Prediction/data/nlp_syndata_baseline-nearmiss_11022023.csv', index=False)\n",
        "\n",
        "# Preprocess and split baseline data\n",
        "X_train, X_test, y_train, y_test = split_preprocessor(df_baseline_nearmiss, 'ASD')\n",
        "\n",
        "# Fit the model to the training data\n",
        "df_baseline_nearmiss_model = model.fit(X_train, y_train)\n",
        "\n",
        "# Append the metrics to our model_results table\n",
        "model_results = append_metrics(df_baseline_nearmiss_model, X_test, y_test, model_results, data_desc=\"NearMiss Undersampling on Baseline Data\")\n",
        "\n",
        "# Evaluate our df_baseline_nearmiss_model on the test set\n",
        "evaluate_model(df_baseline_nearmiss_model, X_test, y_test)"
      ],
      "metadata": {
        "colab": {
          "base_uri": "https://localhost:8080/",
          "height": 613
        },
        "id": "Oz1oA8qt81DD",
        "outputId": "8eb8b198-5f70-4dd3-f7a2-44236e02cc31"
      },
      "execution_count": 31,
      "outputs": [
        {
          "output_type": "stream",
          "name": "stdout",
          "text": [
            "\u001b[1m\u001b[4mMETRICS\u001b[0m\n",
            "F1 score: 0.50\n",
            "ROC-AUC: 0.62\n",
            "Accuracy: 0.67\n",
            "Precision: 0.50\n",
            "Recall: 0.50\n",
            "\n",
            "\n",
            "              precision    recall  f1-score   support\n",
            "\n",
            "           0       0.75      0.75      0.75         4\n",
            "           1       0.50      0.50      0.50         2\n",
            "\n",
            "    accuracy                           0.67         6\n",
            "   macro avg       0.62      0.62      0.62         6\n",
            "weighted avg       0.67      0.67      0.67         6\n",
            "\n",
            "\n",
            "\n"
          ]
        },
        {
          "output_type": "display_data",
          "data": {
            "text/plain": [
              "<Figure size 432x288 with 2 Axes>"
            ],
            "image/png": "[encoded data removed]"
          },
          "metadata": {
            "needs_background": "light"
          }
        }
      ]
    },
    {
      "cell_type": "markdown",
      "source": [
        "Compared to the RUS and ROS synthetic data generated on the baseline data, Nearmiss performed lesser."
      ],
      "metadata": {
        "id": "RK6Nv7JNrrFt"
      }
    },
    {
      "cell_type": "markdown",
      "source": [
        "### Implementing and Evaluating SMOTE Technique on the baseline data"
      ],
      "metadata": {
        "id": "DpdlVUqx4ulU"
      }
    },
    {
      "cell_type": "code",
      "source": [
        "# SMOTE gives a categorical label error, hence the use of the encoded data\n",
        "# Implement SMOTE on the baseline data\n",
        "df_baseline_smote = syn_baseline_data(df_baseline, 'ASD', SMOTE(random_state=42))\n",
        "\n",
        "# Export to csv\n",
        "df_baseline_smote.to_csv('/content/drive/MyDrive/DS-ML projects/ASD Prediction/data/nlp_syndata_baseline-smote_11022023.csv', index=False)\n",
        "\n",
        "# Preprocess and split baseline data\n",
        "X_train, X_test, y_train, y_test = split_preprocessor(df_baseline_smote, 'ASD')\n",
        "\n",
        "# Fit the model to the training data\n",
        "df_baseline_smote_model = model.fit(X_train, y_train)\n",
        "\n",
        "# Append the metrics to our model_results table\n",
        "model_results = append_metrics(df_baseline_smote_model, X_test, y_test, model_results, data_desc=\"SMOTE Oversampling on Baseline Data\")\n",
        "\n",
        "# Evaluate our df_baseline_smote_model on the test set\n",
        "evaluate_model(df_baseline_smote_model, X_test, y_test)"
      ],
      "metadata": {
        "colab": {
          "base_uri": "https://localhost:8080/",
          "height": 613
        },
        "id": "cIs3WDLy5zzA",
        "outputId": "2ff36802-b6f3-4127-e878-72dcaf6c5a65"
      },
      "execution_count": 32,
      "outputs": [
        {
          "output_type": "stream",
          "name": "stdout",
          "text": [
            "\u001b[1m\u001b[4mMETRICS\u001b[0m\n",
            "F1 score: 0.83\n",
            "ROC-AUC: 0.86\n",
            "Accuracy: 0.80\n",
            "Precision: 1.00\n",
            "Recall: 0.71\n",
            "\n",
            "\n",
            "              precision    recall  f1-score   support\n",
            "\n",
            "           0       0.60      1.00      0.75         3\n",
            "           1       1.00      0.71      0.83         7\n",
            "\n",
            "    accuracy                           0.80        10\n",
            "   macro avg       0.80      0.86      0.79        10\n",
            "weighted avg       0.88      0.80      0.81        10\n",
            "\n",
            "\n",
            "\n"
          ]
        },
        {
          "output_type": "display_data",
          "data": {
            "text/plain": [
              "<Figure size 432x288 with 2 Axes>"
            ],
            "image/png": "[encoded data removed]"
          },
          "metadata": {
            "needs_background": "light"
          }
        }
      ]
    },
    {
      "cell_type": "markdown",
      "source": [
        "SMOTE also did better in performance when generated on the baseline data before splitting than the other techniques above, except Random oversampled synthetic data generated on baseline data."
      ],
      "metadata": {
        "id": "bCTAYfO6r6iZ"
      }
    },
    {
      "cell_type": "markdown",
      "source": [
        "### Implementing and Evaluating ADASYN on baseline data"
      ],
      "metadata": {
        "id": "BJ_Uy0eG-YGc"
      }
    },
    {
      "cell_type": "code",
      "source": [
        "# ADASYN gives a categorical label error, hence the use of the encoded data\n",
        "# Implement ADASYN on the baseline data\n",
        "df_baseline_ADASYN = syn_baseline_data(df_baseline, 'ASD', ADASYN(random_state=42))\n",
        "\n",
        "# Export to csv\n",
        "df_baseline_ADASYN.to_csv('/content/drive/MyDrive/DS-ML projects/ASD Prediction/data/nlp_syndata_baseline-ADASYN_11022023.csv', index=False)\n",
        "\n",
        "# Preprocess and split baseline data\n",
        "X_train, X_test, y_train, y_test = split_preprocessor(df_baseline_ADASYN, 'ASD')\n",
        "\n",
        "# Fit the model to the training data\n",
        "df_baseline_ADASYN_model = model.fit(X_train, y_train)\n",
        "\n",
        "# Append the metrics to our model_results table\n",
        "model_results = append_metrics(df_baseline_ADASYN_model, X_test, y_test, model_results, data_desc=\"ADASYN on Baseline Data\")\n",
        "\n",
        "# Evaluate our df_baseline_ADASYN_model on the test set\n",
        "evaluate_model(df_baseline_ADASYN_model, X_test, y_test)"
      ],
      "metadata": {
        "colab": {
          "base_uri": "https://localhost:8080/",
          "height": 613
        },
        "id": "OMLR1Brj-dcj",
        "outputId": "af189bc2-5957-4a71-a84b-8b4f1dda3f81"
      },
      "execution_count": 33,
      "outputs": [
        {
          "output_type": "stream",
          "name": "stdout",
          "text": [
            "\u001b[1m\u001b[4mMETRICS\u001b[0m\n",
            "F1 score: 0.67\n",
            "ROC-AUC: 0.66\n",
            "Accuracy: 0.64\n",
            "Precision: 0.80\n",
            "Recall: 0.57\n",
            "\n",
            "\n",
            "              precision    recall  f1-score   support\n",
            "\n",
            "           0       0.50      0.75      0.60         4\n",
            "           1       0.80      0.57      0.67         7\n",
            "\n",
            "    accuracy                           0.64        11\n",
            "   macro avg       0.65      0.66      0.63        11\n",
            "weighted avg       0.69      0.64      0.64        11\n",
            "\n",
            "\n",
            "\n"
          ]
        },
        {
          "output_type": "display_data",
          "data": {
            "text/plain": [
              "<Figure size 432x288 with 2 Axes>"
            ],
            "image/png": "[encoded data removed]"
          },
          "metadata": {
            "needs_background": "light"
          }
        }
      ]
    },
    {
      "cell_type": "markdown",
      "source": [
        "### Implementing and Evaluating Tomeklink on baseline data"
      ],
      "metadata": {
        "id": "pqDZ8L0O-8gl"
      }
    },
    {
      "cell_type": "code",
      "source": [
        "# Implement TomekLinks on the baseline data\n",
        "df_baseline_TomekLinks = syn_baseline_data(df_baseline, 'ASD', TomekLinks(sampling_strategy='auto'))\n",
        "\n",
        "# Export to csv\n",
        "df_baseline_TomekLinks.to_csv('/content/drive/MyDrive/DS-ML projects/ASD Prediction/data/nlp_syndata_baseline-TomekLinks_11022023.csv', index=False)\n",
        "\n",
        "# Preprocess and split baseline data\n",
        "X_train, X_test, y_train, y_test = split_preprocessor(df_baseline_TomekLinks, 'ASD')\n",
        "\n",
        "# Fit the model to the training data\n",
        "df_baseline_TomekLinks_model = model.fit(X_train, y_train)\n",
        "\n",
        "# Append the metrics to our model_results table\n",
        "model_results = append_metrics(df_baseline_TomekLinks_model, X_test, y_test, model_results, data_desc=\"TOMEK Link on Baseline Data\")\n",
        "\n",
        "# Evaluate our df_baseline_TomekLinks_model on the test set\n",
        "evaluate_model(df_baseline_TomekLinks_model, X_test, y_test)"
      ],
      "metadata": {
        "colab": {
          "base_uri": "https://localhost:8080/",
          "height": 613
        },
        "id": "Sh-gXyNy_DOh",
        "outputId": "9c0d5a19-f12c-4c4e-b28a-02973b9facbd"
      },
      "execution_count": 34,
      "outputs": [
        {
          "output_type": "stream",
          "name": "stdout",
          "text": [
            "\u001b[1m\u001b[4mMETRICS\u001b[0m\n",
            "F1 score: 0.75\n",
            "ROC-AUC: 0.71\n",
            "Accuracy: 0.71\n",
            "Precision: 0.75\n",
            "Recall: 0.75\n",
            "\n",
            "\n",
            "              precision    recall  f1-score   support\n",
            "\n",
            "           0       0.67      0.67      0.67         3\n",
            "           1       0.75      0.75      0.75         4\n",
            "\n",
            "    accuracy                           0.71         7\n",
            "   macro avg       0.71      0.71      0.71         7\n",
            "weighted avg       0.71      0.71      0.71         7\n",
            "\n",
            "\n",
            "\n"
          ]
        },
        {
          "output_type": "display_data",
          "data": {
            "text/plain": [
              "<Figure size 432x288 with 2 Axes>"
            ],
            "image/png": "[encoded data removed]"
          },
          "metadata": {
            "needs_background": "light"
          }
        }
      ]
    },
    {
      "cell_type": "markdown",
      "source": [
        "Overall, using the baseline data to generate our synthetic data before splitting, did a great job when compared to the baseline model, and most especially the synthetic data generated with the Random Oversampled technique."
      ],
      "metadata": {
        "id": "sqy4B5Ky_VPO"
      }
    },
    {
      "cell_type": "markdown",
      "source": [
        "## Generating Synthetic data Using Synthetic Data Vault Package (SDV)\n",
        "Synthetic data vault is an ecosystem of libraries, and we will use each of the library to generate synthetic data. Synthetic data can then be used to supplement, augment and in some cases replace real data when training Machine Learning models. Underneath the hood it uses several probabilistic graphical modeling and deep learning based techniques. For our single tabular data, we will use the following:\n",
        "- GaussianCopula Model (based on copula funtions) https://sdv.dev/SDV/user_guides/single_table/gaussian_copula.html\n",
        "- CTGAN Model (based on the GAN-based Deep Learning data synthesizer) https://sdv.dev/SDV/user_guides/single_table/ctgan.html\n",
        "- CopulaGAN Model (is a variation of the CTGAN Model which takes advantage of the CDF based transformation that the GaussianCopulas apply to make the underlying CTGAN model task of learning the data easier.) https://sdv.dev/SDV/user_guides/single_table/copulagan.html\n",
        "- TVAE Model (based on the VAE-based Deep Learning data synthesizer by the paper titled Modeling Tabular data using Conditional GAN) https://sdv.dev/SDV/user_guides/single_table/tvae.html\n",
        "\n",
        "We will implement these techniques on the training data as well as on the overall data."
      ],
      "metadata": {
        "id": "NUjqxWRwwb9w"
      }
    },
    {
      "cell_type": "code",
      "source": [
        "!pip install -q sdv;"
      ],
      "metadata": {
        "id": "bpBu6kJYKJhW"
      },
      "execution_count": 35,
      "outputs": []
    },
    {
      "cell_type": "markdown",
      "source": [
        "### Implementing SDV on the Training Data\n",
        "Similarly, we will divide our dataset into training and testing autism data firstly on the baseline data, without separating the target. We will then use the training dataset to synthesize the data, using each of the SDV library above. Afterwards, we will run thesame preprocessing step as we did earlier on each data, and train each with our randomforestclassifier model. Overall, we will be exposing our model to thesame condition, except this time, more training data using the SDV library. In most cases, this process is always good when trying out deep learning approach to training data, but let's see how this improve our classical model as well.\n",
        "\n",
        "Note: We will be generating train and test data with the target combined at first, using thesame parameters as before. After we have synthesized the training data, we will split for modelling."
      ],
      "metadata": {
        "id": "WOPSqXQJY28z"
      }
    },
    {
      "cell_type": "code",
      "source": [
        "# Split the baseline data into train and test sets\n",
        "df_baseline_train, df_baseline_test = train_test_split(df_baseline, test_size=0.2, random_state=42)"
      ],
      "metadata": {
        "id": "g6sVRZwewEJl"
      },
      "execution_count": 36,
      "outputs": []
    },
    {
      "cell_type": "markdown",
      "source": [
        "For the synthesis, we will use our `df_baseline_train`. We will run all the synthesis model at thesame time, and save each data. We will also need to install the sdv package."
      ],
      "metadata": {
        "id": "RzEyWmnjJtg-"
      }
    },
    {
      "cell_type": "code",
      "source": [
        "len(df_baseline_train)"
      ],
      "metadata": {
        "colab": {
          "base_uri": "https://localhost:8080/"
        },
        "id": "EOmc_QzvLdXj",
        "outputId": "4f47cfa6-7d0e-4244-c370-bc1a2adc6b8c"
      },
      "execution_count": 37,
      "outputs": [
        {
          "output_type": "execute_result",
          "data": {
            "text/plain": [
              "30"
            ]
          },
          "metadata": {},
          "execution_count": 37
        }
      ]
    },
    {
      "cell_type": "markdown",
      "source": [
        "Now that we have the SDV package installed, let's try to synthesize our training data. Since we have 30 rows of data, let's go ahead to increase this to 5000 rows of training data, and see how that works on the test set we did not include in the synthetic data, which depicts more of real life data. This will help us assume if our model when trained on these quantity of data can actually generalize well on data it has not seen before."
      ],
      "metadata": {
        "id": "jFe5EqkdLWkL"
      }
    },
    {
      "cell_type": "code",
      "source": [
        "# import all 4 sdv models under the single table scenario\n",
        "from sdv.tabular import GaussianCopula\n",
        "from sdv.tabular import CTGAN\n",
        "from sdv.tabular import CopulaGAN\n",
        "from sdv.tabular import TVAE\n",
        "\n",
        "# load the models \n",
        "model_Gaussian = GaussianCopula()\n",
        "model_CTGAN = CTGAN()\n",
        "model_CopulaGAN = CopulaGAN()\n",
        "model_TVAE = TVAE()\n",
        "\n",
        "# fit the models on our training data\n",
        "model_Gaussian.fit(df_baseline_train)\n",
        "model_CTGAN.fit(df_baseline_train)\n",
        "model_CopulaGAN.fit(df_baseline_train)\n",
        "model_TVAE.fit(df_baseline_train)\n",
        "\n",
        "# create synthetic data with each fitted model\n",
        "new_data_model_Gaussian = model_Gaussian.sample(5000)\n",
        "new_data_model_CTGAN = model_CTGAN.sample(5000)\n",
        "new_data_model_CopulaGAN = model_CopulaGAN.sample(5000)\n",
        "new_data_model_TVAE = model_TVAE.sample(5000)\n",
        "\n",
        "# Export the new training set to csv as a checkpoint\n",
        "new_data_model_Gaussian.to_csv('/content/drive/MyDrive/DS-ML projects/ASD Prediction/data/nlp_training_syndata_sdv-guassian_11022023.csv', index=False)\n",
        "new_data_model_CTGAN.to_csv('/content/drive/MyDrive/DS-ML projects/ASD Prediction/data/nlp_training_syndata_sdv-ctgan_11022023.csv', index=False)\n",
        "new_data_model_CopulaGAN.to_csv('/content/drive/MyDrive/DS-ML projects/ASD Prediction/data/nlp_training_syndata_sdv-copgan_11022023.csv', index=False)\n",
        "new_data_model_TVAE.to_csv('/content/drive/MyDrive/DS-ML projects/ASD Prediction/data/nlp_training_syndata_sdv-tvae_11022023.csv', index=False)"
      ],
      "metadata": {
        "id": "uzQCoK49wEDm"
      },
      "execution_count": 38,
      "outputs": []
    },
    {
      "cell_type": "markdown",
      "source": [
        "We will now define a function to split our training and test set, and run thesame preprocessing and evaluation on each of the SDV model. `df_baseline_test` has been defined earlier when we split our data into training and test."
      ],
      "metadata": {
        "id": "uc1gfw-NN7dr"
      }
    },
    {
      "cell_type": "code",
      "source": [
        "def split_SDV_training_data(new_data, target, df_baseline_test):\n",
        "  # Split the data into train and test sets\n",
        "  SDV_X_train = new_data.drop(target, axis=1)\n",
        "  SDV_y_train = new_data[target]\n",
        "  baseline_X_test = df_baseline_test.drop(target, axis=1)\n",
        "  baseline_y_test = df_baseline_test[target]\n",
        "\n",
        "  # Identify categorical columns\n",
        "  cat_cols = [col for col in SDV_X_train.columns if SDV_X_train[col].dtype=='object']\n",
        "\n",
        "  # Preprocess the categorical data\n",
        "  enc = OneHotEncoder(handle_unknown='ignore')\n",
        "  SDV_X_train_cat = enc.fit_transform(SDV_X_train[cat_cols])\n",
        "  baseline_X_test_cat = enc.transform(baseline_X_test[cat_cols])\n",
        "\n",
        "  # Preprocess the numerical data\n",
        "  scaler = StandardScaler()\n",
        "  SDV_X_train_num = scaler.fit_transform(SDV_X_train.drop(cat_cols, axis=1))\n",
        "  baseline_X_test_num = scaler.transform(baseline_X_test.drop(cat_cols, axis=1))\n",
        "\n",
        "  # Combine the preprocessed data\n",
        "  SDV_X_train = np.hstack((SDV_X_train_cat.toarray(), SDV_X_train_num))\n",
        "  baseline_X_test = np.hstack((baseline_X_test_cat.toarray(), baseline_X_test_num))\n",
        "\n",
        "  return SDV_X_train, SDV_y_train, baseline_X_test, baseline_y_test"
      ],
      "metadata": {
        "id": "Z2s_o1hQBrJN"
      },
      "execution_count": 39,
      "outputs": []
    },
    {
      "cell_type": "markdown",
      "source": [
        "#### Evaluate Guassian SDV\n",
        "\n"
      ],
      "metadata": {
        "id": "ZNg9wCJ-Nqau"
      }
    },
    {
      "cell_type": "code",
      "source": [
        "# Implement training on the guassian data\n",
        "Guassian_X_train, Guassian_y_train, baseline_X_test, baseline_y_test = split_SDV_training_data(new_data_model_Gaussian,\n",
        "                                                                                               'ASD',\n",
        "                                                                                               df_baseline_test)\n",
        "\n",
        "# Fit the model to the training data\n",
        "Guassian_data_model = model.fit(Guassian_X_train, Guassian_y_train)\n",
        "\n",
        "# Append the metrics to our model_results table\n",
        "model_results = append_metrics(Guassian_data_model, baseline_X_test, baseline_y_test, model_results, data_desc=\"SDV Guassian on Training Data\")"
      ],
      "metadata": {
        "id": "nCP3iQdtDUPP"
      },
      "execution_count": 40,
      "outputs": []
    },
    {
      "cell_type": "code",
      "source": [
        "# Evaluate our Guassian_data_model on the train set\n",
        "evaluate_model(Guassian_data_model, Guassian_X_train, Guassian_y_train)"
      ],
      "metadata": {
        "colab": {
          "base_uri": "https://localhost:8080/",
          "height": 609
        },
        "id": "ClK7HcjeFKqC",
        "outputId": "36f04aad-c22e-4d64-b884-a3ee01e28445"
      },
      "execution_count": 41,
      "outputs": [
        {
          "output_type": "stream",
          "name": "stdout",
          "text": [
            "\u001b[1m\u001b[4mMETRICS\u001b[0m\n",
            "F1 score: 1.00\n",
            "ROC-AUC: 1.00\n",
            "Accuracy: 1.00\n",
            "Precision: 1.00\n",
            "Recall: 1.00\n",
            "\n",
            "\n",
            "              precision    recall  f1-score   support\n",
            "\n",
            "           0       1.00      1.00      1.00      2886\n",
            "           1       1.00      1.00      1.00      2114\n",
            "\n",
            "    accuracy                           1.00      5000\n",
            "   macro avg       1.00      1.00      1.00      5000\n",
            "weighted avg       1.00      1.00      1.00      5000\n",
            "\n",
            "\n",
            "\n"
          ]
        },
        {
          "output_type": "display_data",
          "data": {
            "text/plain": [
              "<Figure size 432x288 with 2 Axes>"
            ],
            "image/png": "[encoded data removed]"
          },
          "metadata": {
            "needs_background": "light"
          }
        }
      ]
    },
    {
      "cell_type": "code",
      "source": [
        "# Evaluate our Guassian_data_model on the test set\n",
        "evaluate_model(Guassian_data_model, baseline_X_test, baseline_y_test)"
      ],
      "metadata": {
        "colab": {
          "base_uri": "https://localhost:8080/",
          "height": 613
        },
        "id": "4ZL3nLJYFN9E",
        "outputId": "f9eea7ef-bc07-4461-b483-0bcefbb9ebf1"
      },
      "execution_count": 42,
      "outputs": [
        {
          "output_type": "stream",
          "name": "stdout",
          "text": [
            "\u001b[1m\u001b[4mMETRICS\u001b[0m\n",
            "F1 score: 0.33\n",
            "ROC-AUC: 0.50\n",
            "Accuracy: 0.50\n",
            "Precision: 0.50\n",
            "Recall: 0.25\n",
            "\n",
            "\n",
            "              precision    recall  f1-score   support\n",
            "\n",
            "           0       0.50      0.75      0.60         4\n",
            "           1       0.50      0.25      0.33         4\n",
            "\n",
            "    accuracy                           0.50         8\n",
            "   macro avg       0.50      0.50      0.47         8\n",
            "weighted avg       0.50      0.50      0.47         8\n",
            "\n",
            "\n",
            "\n"
          ]
        },
        {
          "output_type": "display_data",
          "data": {
            "text/plain": [
              "<Figure size 432x288 with 2 Axes>"
            ],
            "image/png": "[encoded data removed]"
          },
          "metadata": {
            "needs_background": "light"
          }
        }
      ]
    },
    {
      "cell_type": "markdown",
      "source": [
        "Similar to all the synthetic data we have generated using the training data and tested on the test data it has not seen before."
      ],
      "metadata": {
        "id": "UbHPN1YZRj4L"
      }
    },
    {
      "cell_type": "markdown",
      "source": [
        "#### Evaluating CTGAN SDV"
      ],
      "metadata": {
        "id": "1JWOg3HATdh0"
      }
    },
    {
      "cell_type": "code",
      "source": [
        "# Implement training on the CTGAN data\n",
        "CTGAN_X_train, CTGAN_y_train, baseline_X_test, baseline_y_test = split_SDV_training_data(new_data_model_CTGAN,\n",
        "                                                                                         'ASD',\n",
        "                                                                                         df_baseline_test)\n",
        "\n",
        "# Fit the model to the training data\n",
        "CTGAN_data_model = model.fit(CTGAN_X_train, CTGAN_y_train)\n",
        "\n",
        "# Append the metrics to our model_results table\n",
        "model_results = append_metrics(CTGAN_data_model, baseline_X_test, baseline_y_test, model_results, data_desc=\"SDV CTGAN on Training Data\")"
      ],
      "metadata": {
        "id": "sA1f0sfzFgEM"
      },
      "execution_count": 43,
      "outputs": []
    },
    {
      "cell_type": "code",
      "source": [
        "# Evaluate our CTGAN_data_model on the test set\n",
        "evaluate_model(CTGAN_data_model, CTGAN_X_train, CTGAN_y_train)"
      ],
      "metadata": {
        "colab": {
          "base_uri": "https://localhost:8080/",
          "height": 609
        },
        "id": "bWA4kQo9Fs1K",
        "outputId": "58930876-00a4-4dc8-fe12-33d3c6b98385"
      },
      "execution_count": 44,
      "outputs": [
        {
          "output_type": "stream",
          "name": "stdout",
          "text": [
            "\u001b[1m\u001b[4mMETRICS\u001b[0m\n",
            "F1 score: 1.00\n",
            "ROC-AUC: 1.00\n",
            "Accuracy: 1.00\n",
            "Precision: 1.00\n",
            "Recall: 1.00\n",
            "\n",
            "\n",
            "              precision    recall  f1-score   support\n",
            "\n",
            "           0       1.00      1.00      1.00      4409\n",
            "           1       1.00      1.00      1.00       591\n",
            "\n",
            "    accuracy                           1.00      5000\n",
            "   macro avg       1.00      1.00      1.00      5000\n",
            "weighted avg       1.00      1.00      1.00      5000\n",
            "\n",
            "\n",
            "\n"
          ]
        },
        {
          "output_type": "display_data",
          "data": {
            "text/plain": [
              "<Figure size 432x288 with 2 Axes>"
            ],
            "image/png": "[encoded data removed]"
          },
          "metadata": {
            "needs_background": "light"
          }
        }
      ]
    },
    {
      "cell_type": "code",
      "source": [
        "# Evaluate our CTGAN_data_model on the test set\n",
        "evaluate_model(CTGAN_data_model, baseline_X_test, baseline_y_test)"
      ],
      "metadata": {
        "colab": {
          "base_uri": "https://localhost:8080/",
          "height": 613
        },
        "id": "yYEm97vFT5-J",
        "outputId": "81eb4ffd-9d06-4a86-ab08-fa42a2b5c6c4"
      },
      "execution_count": 45,
      "outputs": [
        {
          "output_type": "stream",
          "name": "stdout",
          "text": [
            "\u001b[1m\u001b[4mMETRICS\u001b[0m\n",
            "F1 score: 0.00\n",
            "ROC-AUC: 0.50\n",
            "Accuracy: 0.50\n",
            "Precision: 0.00\n",
            "Recall: 0.00\n",
            "\n",
            "\n",
            "              precision    recall  f1-score   support\n",
            "\n",
            "           0       0.50      1.00      0.67         4\n",
            "           1       0.00      0.00      0.00         4\n",
            "\n",
            "    accuracy                           0.50         8\n",
            "   macro avg       0.25      0.50      0.33         8\n",
            "weighted avg       0.25      0.50      0.33         8\n",
            "\n",
            "\n",
            "\n"
          ]
        },
        {
          "output_type": "display_data",
          "data": {
            "text/plain": [
              "<Figure size 432x288 with 2 Axes>"
            ],
            "image/png": "[encoded data removed]"
          },
          "metadata": {
            "needs_background": "light"
          }
        }
      ]
    },
    {
      "cell_type": "markdown",
      "source": [
        "CTGAN SDV synthetic data generated on the training data performed worse than the other synthetic data and baseline model we have built so far with an F1 score of 0."
      ],
      "metadata": {
        "id": "5HT7NCTQS3Sj"
      }
    },
    {
      "cell_type": "markdown",
      "source": [
        "#### Evaluating CopulaGAN SDV"
      ],
      "metadata": {
        "id": "aWP6c62qULoW"
      }
    },
    {
      "cell_type": "code",
      "source": [
        "# Implement training on the CopulaGAN data\n",
        "CopulaGAN_X_train, CopulaGAN_y_train, baseline_X_test, baseline_y_test = split_SDV_training_data(new_data_model_CopulaGAN,\n",
        "                                                                                                 'ASD',\n",
        "                                                                                                 df_baseline_test)\n",
        "\n",
        "# Fit the model to the training data\n",
        "CopulaGAN_data_model = model.fit(CopulaGAN_X_train, CopulaGAN_y_train)\n",
        "\n",
        "# Append the metrics to our model_results table\n",
        "model_results = append_metrics(CopulaGAN_data_model, baseline_X_test, baseline_y_test, model_results, data_desc=\"SDV CopulaGAN on Training Data\")"
      ],
      "metadata": {
        "id": "FL3_AHMWF4Jq"
      },
      "execution_count": 46,
      "outputs": []
    },
    {
      "cell_type": "code",
      "source": [
        "# Evaluate our CopulaGAN_data_model on the training set\n",
        "evaluate_model(CopulaGAN_data_model, CopulaGAN_X_train, CopulaGAN_y_train)"
      ],
      "metadata": {
        "colab": {
          "base_uri": "https://localhost:8080/",
          "height": 609
        },
        "id": "qXQhNFA9UcUE",
        "outputId": "41e7ad64-31a0-47dc-b413-6ca0e4af7deb"
      },
      "execution_count": 47,
      "outputs": [
        {
          "output_type": "stream",
          "name": "stdout",
          "text": [
            "\u001b[1m\u001b[4mMETRICS\u001b[0m\n",
            "F1 score: 1.00\n",
            "ROC-AUC: 1.00\n",
            "Accuracy: 1.00\n",
            "Precision: 1.00\n",
            "Recall: 1.00\n",
            "\n",
            "\n",
            "              precision    recall  f1-score   support\n",
            "\n",
            "           0       1.00      1.00      1.00      4418\n",
            "           1       1.00      1.00      1.00       582\n",
            "\n",
            "    accuracy                           1.00      5000\n",
            "   macro avg       1.00      1.00      1.00      5000\n",
            "weighted avg       1.00      1.00      1.00      5000\n",
            "\n",
            "\n",
            "\n"
          ]
        },
        {
          "output_type": "display_data",
          "data": {
            "text/plain": [
              "<Figure size 432x288 with 2 Axes>"
            ],
            "image/png": "[encoded data removed]"
          },
          "metadata": {
            "needs_background": "light"
          }
        }
      ]
    },
    {
      "cell_type": "code",
      "source": [
        "# Evaluate our CopulaGAN_data_model on the test set\n",
        "evaluate_model(CopulaGAN_data_model, baseline_X_test, baseline_y_test)"
      ],
      "metadata": {
        "colab": {
          "base_uri": "https://localhost:8080/",
          "height": 613
        },
        "id": "RgclMWN3Ujxi",
        "outputId": "bf402738-5053-401a-ef9e-7e932cae6862"
      },
      "execution_count": 48,
      "outputs": [
        {
          "output_type": "stream",
          "name": "stdout",
          "text": [
            "\u001b[1m\u001b[4mMETRICS\u001b[0m\n",
            "F1 score: 0.57\n",
            "ROC-AUC: 0.62\n",
            "Accuracy: 0.62\n",
            "Precision: 0.67\n",
            "Recall: 0.50\n",
            "\n",
            "\n",
            "              precision    recall  f1-score   support\n",
            "\n",
            "           0       0.60      0.75      0.67         4\n",
            "           1       0.67      0.50      0.57         4\n",
            "\n",
            "    accuracy                           0.62         8\n",
            "   macro avg       0.63      0.62      0.62         8\n",
            "weighted avg       0.63      0.62      0.62         8\n",
            "\n",
            "\n",
            "\n"
          ]
        },
        {
          "output_type": "display_data",
          "data": {
            "text/plain": [
              "<Figure size 432x288 with 2 Axes>"
            ],
            "image/png": "[encoded data removed]"
          },
          "metadata": {
            "needs_background": "light"
          }
        }
      ]
    },
    {
      "cell_type": "markdown",
      "source": [
        "Our copulaGAN data on training got a little bit of an improved score on the training data. Let's go on with the rest SDV techniques."
      ],
      "metadata": {
        "id": "668-q-KmWpj6"
      }
    },
    {
      "cell_type": "markdown",
      "source": [
        "#### Evaluating TVAE SDV"
      ],
      "metadata": {
        "id": "XuJs8XChW2jx"
      }
    },
    {
      "cell_type": "code",
      "source": [
        "# Implement training on the TVAE data\n",
        "TVAE_X_train, TVAE_y_train, baseline_X_test, baseline_y_test = split_SDV_training_data(new_data_model_TVAE,\n",
        "                                                                                       'ASD',\n",
        "                                                                                       df_baseline_test)\n",
        "\n",
        "# Fit the model to the training data\n",
        "TVAE_data_model = model.fit(TVAE_X_train, TVAE_y_train)\n",
        "\n",
        "# Append the metrics to our model_results table\n",
        "model_results = append_metrics(TVAE_data_model, baseline_X_test, baseline_y_test, model_results, data_desc=\"SDV TVAE on Training Data\")"
      ],
      "metadata": {
        "id": "JCFUXFuwGbgP"
      },
      "execution_count": 49,
      "outputs": []
    },
    {
      "cell_type": "code",
      "source": [
        "# Evaluate our TVAE_data_model on the training set\n",
        "evaluate_model(TVAE_data_model, TVAE_X_train, TVAE_y_train)"
      ],
      "metadata": {
        "colab": {
          "base_uri": "https://localhost:8080/",
          "height": 609
        },
        "id": "8wI_mMItXBGp",
        "outputId": "dafb7a3c-b42d-48d4-9092-b594b1a06214"
      },
      "execution_count": 50,
      "outputs": [
        {
          "output_type": "stream",
          "name": "stdout",
          "text": [
            "\u001b[1m\u001b[4mMETRICS\u001b[0m\n",
            "F1 score: 1.00\n",
            "ROC-AUC: 1.00\n",
            "Accuracy: 1.00\n",
            "Precision: 1.00\n",
            "Recall: 1.00\n",
            "\n",
            "\n",
            "              precision    recall  f1-score   support\n",
            "\n",
            "           0       1.00      1.00      1.00      4465\n",
            "           1       1.00      1.00      1.00       535\n",
            "\n",
            "    accuracy                           1.00      5000\n",
            "   macro avg       1.00      1.00      1.00      5000\n",
            "weighted avg       1.00      1.00      1.00      5000\n",
            "\n",
            "\n",
            "\n"
          ]
        },
        {
          "output_type": "display_data",
          "data": {
            "text/plain": [
              "<Figure size 432x288 with 2 Axes>"
            ],
            "image/png": "[encoded data removed]"
          },
          "metadata": {
            "needs_background": "light"
          }
        }
      ]
    },
    {
      "cell_type": "code",
      "source": [
        "# Evaluate our TVAE_data_model on the test set\n",
        "evaluate_model(TVAE_data_model, baseline_X_test, baseline_y_test)"
      ],
      "metadata": {
        "colab": {
          "base_uri": "https://localhost:8080/",
          "height": 613
        },
        "id": "t53fPWPoXJEf",
        "outputId": "5b938efa-219f-4768-b48e-534a73da34a8"
      },
      "execution_count": 51,
      "outputs": [
        {
          "output_type": "stream",
          "name": "stdout",
          "text": [
            "\u001b[1m\u001b[4mMETRICS\u001b[0m\n",
            "F1 score: 0.33\n",
            "ROC-AUC: 0.50\n",
            "Accuracy: 0.50\n",
            "Precision: 0.50\n",
            "Recall: 0.25\n",
            "\n",
            "\n",
            "              precision    recall  f1-score   support\n",
            "\n",
            "           0       0.50      0.75      0.60         4\n",
            "           1       0.50      0.25      0.33         4\n",
            "\n",
            "    accuracy                           0.50         8\n",
            "   macro avg       0.50      0.50      0.47         8\n",
            "weighted avg       0.50      0.50      0.47         8\n",
            "\n",
            "\n",
            "\n"
          ]
        },
        {
          "output_type": "display_data",
          "data": {
            "text/plain": [
              "<Figure size 432x288 with 2 Axes>"
            ],
            "image/png": "[encoded data removed]"
          },
          "metadata": {
            "needs_background": "light"
          }
        }
      ]
    },
    {
      "cell_type": "markdown",
      "source": [
        "As it is, our synthetic training data did not really perform very well on the baseline test data, while the only one that showed a little bit of promise was the SDV-CopulaGAN technique but just fair.\n",
        "\n",
        "An assumption would be that since these models are not performing well on the training data across board, when evaluated with the baseline data it has not seen before generating the synthetic data, it shows it is overfitting. This could be because we modelled them on the training data only. As a result of this, we will go ahead to implement these models to generate the SDV synthetic data based on the whole data, and split afterwards to see how they perform.\n",
        "\n",
        "We will utilize the initial df_baseline data"
      ],
      "metadata": {
        "id": "dWxRTTABXY-N"
      }
    },
    {
      "cell_type": "markdown",
      "source": [
        "### Implementing SDV on the Overall Baseline Data\n",
        "Here, we will use the baseline dataset to synthesize the data, using each of the SDV library . Afterwards, we will run thesame preprocessing step as we did earlier on each data, and train each with our randomforestclassifier model. Overall, we will be exposing our model to thesame condition, except this time, synthetic data is generated from the baseline data instead of the training data."
      ],
      "metadata": {
        "id": "mWnExMvBbOkV"
      }
    },
    {
      "cell_type": "code",
      "source": [
        "df_baseline.head()"
      ],
      "metadata": {
        "colab": {
          "base_uri": "https://localhost:8080/",
          "height": 300
        },
        "id": "az2pPKEcXPAv",
        "outputId": "7c3d3632-2273-46c3-d3c8-99357d023db7"
      },
      "execution_count": 52,
      "outputs": [
        {
          "output_type": "execute_result",
          "data": {
            "text/plain": [
              "   ASD  child_mlu  percent_child_parents_mlu  child_mluw  \\\n",
              "0    0      2.641                      0.398       2.604   \n",
              "1    1      1.105                      0.218       1.000   \n",
              "2    0      3.158                      0.449       2.719   \n",
              "3    1      2.394                      0.462       1.979   \n",
              "4    1      5.213                      0.841       4.023   \n",
              "\n",
              "   percent_child_parents_mluw  child_ttr  percent_child_parents_ttr  \\\n",
              "0                       0.472      0.558                      2.215   \n",
              "1                       0.265      0.500                      2.556   \n",
              "2                       0.501      0.394                      1.218   \n",
              "3                       0.488      0.527                      1.905   \n",
              "4                       0.832      0.421                      0.972   \n",
              "\n",
              "   child_ipsyn  percent_child_parents_ipsyn  child_num_words  ...  \\\n",
              "0           61                        0.701              212  ...   \n",
              "1            2                        0.026               21  ...   \n",
              "2           57                        0.606              233  ...   \n",
              "3           40                        0.519              165  ...   \n",
              "4           81                        0.931              462  ...   \n",
              "\n",
              "   pos_percent_sub#n  pos_percent_n:pt  pos_percent_pro:refl  \\\n",
              "0              0.000             0.000                 0.000   \n",
              "1              0.000             0.000                 0.000   \n",
              "2              0.000             0.000                 0.000   \n",
              "3              0.000             0.000                 0.000   \n",
              "4              0.000             0.000                 0.000   \n",
              "\n",
              "   pos_percent_un#part  pos_percent_L2  pos_percent_chi  pos_percent_pro:poss  \\\n",
              "0                0.000           0.000            0.000                 0.000   \n",
              "1                0.000           0.000            0.000                 0.000   \n",
              "2                0.000           0.000            0.000                 0.000   \n",
              "3                0.000           0.000            0.000                 0.000   \n",
              "4                0.000           0.000            0.000                 0.000   \n",
              "\n",
              "   pos_percent_n:let  pos_percent_bab  pos_percent_sing  \n",
              "0              0.000            0.000             0.000  \n",
              "1              0.000            0.000             0.000  \n",
              "2              0.000            0.000             0.000  \n",
              "3              0.000            0.000             0.000  \n",
              "4              0.000            0.000             0.000  \n",
              "\n",
              "[5 rows x 70 columns]"
            ],
            "text/html": [
              "\n",
              "  <div id=\"df-be52e2ee-7ebb-435d-8efc-ef35e2007c7f\">\n",
              "    <div class=\"colab-df-container\">\n",
              "      <div>\n",
              "<style scoped>\n",
              "    .dataframe tbody tr th:only-of-type {\n",
              "        vertical-align: middle;\n",
              "    }\n",
              "\n",
              "    .dataframe tbody tr th {\n",
              "        vertical-align: top;\n",
              "    }\n",
              "\n",
              "    .dataframe thead th {\n",
              "        text-align: right;\n",
              "    }\n",
              "</style>\n",
              "<table border=\"1\" class=\"dataframe\">\n",
              "  <thead>\n",
              "    <tr style=\"text-align: right;\">\n",
              "      <th></th>\n",
              "      <th>ASD</th>\n",
              "      <th>child_mlu</th>\n",
              "      <th>percent_child_parents_mlu</th>\n",
              "      <th>child_mluw</th>\n",
              "      <th>percent_child_parents_mluw</th>\n",
              "      <th>child_ttr</th>\n",
              "      <th>percent_child_parents_ttr</th>\n",
              "      <th>child_ipsyn</th>\n",
              "      <th>percent_child_parents_ipsyn</th>\n",
              "      <th>child_num_words</th>\n",
              "      <th>...</th>\n",
              "      <th>pos_percent_sub#n</th>\n",
              "      <th>pos_percent_n:pt</th>\n",
              "      <th>pos_percent_pro:refl</th>\n",
              "      <th>pos_percent_un#part</th>\n",
              "      <th>pos_percent_L2</th>\n",
              "      <th>pos_percent_chi</th>\n",
              "      <th>pos_percent_pro:poss</th>\n",
              "      <th>pos_percent_n:let</th>\n",
              "      <th>pos_percent_bab</th>\n",
              "      <th>pos_percent_sing</th>\n",
              "    </tr>\n",
              "  </thead>\n",
              "  <tbody>\n",
              "    <tr>\n",
              "      <th>0</th>\n",
              "      <td>0</td>\n",
              "      <td>2.641</td>\n",
              "      <td>0.398</td>\n",
              "      <td>2.604</td>\n",
              "      <td>0.472</td>\n",
              "      <td>0.558</td>\n",
              "      <td>2.215</td>\n",
              "      <td>61</td>\n",
              "      <td>0.701</td>\n",
              "      <td>212</td>\n",
              "      <td>...</td>\n",
              "      <td>0.000</td>\n",
              "      <td>0.000</td>\n",
              "      <td>0.000</td>\n",
              "      <td>0.000</td>\n",
              "      <td>0.000</td>\n",
              "      <td>0.000</td>\n",
              "      <td>0.000</td>\n",
              "      <td>0.000</td>\n",
              "      <td>0.000</td>\n",
              "      <td>0.000</td>\n",
              "    </tr>\n",
              "    <tr>\n",
              "      <th>1</th>\n",
              "      <td>1</td>\n",
              "      <td>1.105</td>\n",
              "      <td>0.218</td>\n",
              "      <td>1.000</td>\n",
              "      <td>0.265</td>\n",
              "      <td>0.500</td>\n",
              "      <td>2.556</td>\n",
              "      <td>2</td>\n",
              "      <td>0.026</td>\n",
              "      <td>21</td>\n",
              "      <td>...</td>\n",
              "      <td>0.000</td>\n",
              "      <td>0.000</td>\n",
              "      <td>0.000</td>\n",
              "      <td>0.000</td>\n",
              "      <td>0.000</td>\n",
              "      <td>0.000</td>\n",
              "      <td>0.000</td>\n",
              "      <td>0.000</td>\n",
              "      <td>0.000</td>\n",
              "      <td>0.000</td>\n",
              "    </tr>\n",
              "    <tr>\n",
              "      <th>2</th>\n",
              "      <td>0</td>\n",
              "      <td>3.158</td>\n",
              "      <td>0.449</td>\n",
              "      <td>2.719</td>\n",
              "      <td>0.501</td>\n",
              "      <td>0.394</td>\n",
              "      <td>1.218</td>\n",
              "      <td>57</td>\n",
              "      <td>0.606</td>\n",
              "      <td>233</td>\n",
              "      <td>...</td>\n",
              "      <td>0.000</td>\n",
              "      <td>0.000</td>\n",
              "      <td>0.000</td>\n",
              "      <td>0.000</td>\n",
              "      <td>0.000</td>\n",
              "      <td>0.000</td>\n",
              "      <td>0.000</td>\n",
              "      <td>0.000</td>\n",
              "      <td>0.000</td>\n",
              "      <td>0.000</td>\n",
              "    </tr>\n",
              "    <tr>\n",
              "      <th>3</th>\n",
              "      <td>1</td>\n",
              "      <td>2.394</td>\n",
              "      <td>0.462</td>\n",
              "      <td>1.979</td>\n",
              "      <td>0.488</td>\n",
              "      <td>0.527</td>\n",
              "      <td>1.905</td>\n",
              "      <td>40</td>\n",
              "      <td>0.519</td>\n",
              "      <td>165</td>\n",
              "      <td>...</td>\n",
              "      <td>0.000</td>\n",
              "      <td>0.000</td>\n",
              "      <td>0.000</td>\n",
              "      <td>0.000</td>\n",
              "      <td>0.000</td>\n",
              "      <td>0.000</td>\n",
              "      <td>0.000</td>\n",
              "      <td>0.000</td>\n",
              "      <td>0.000</td>\n",
              "      <td>0.000</td>\n",
              "    </tr>\n",
              "    <tr>\n",
              "      <th>4</th>\n",
              "      <td>1</td>\n",
              "      <td>5.213</td>\n",
              "      <td>0.841</td>\n",
              "      <td>4.023</td>\n",
              "      <td>0.832</td>\n",
              "      <td>0.421</td>\n",
              "      <td>0.972</td>\n",
              "      <td>81</td>\n",
              "      <td>0.931</td>\n",
              "      <td>462</td>\n",
              "      <td>...</td>\n",
              "      <td>0.000</td>\n",
              "      <td>0.000</td>\n",
              "      <td>0.000</td>\n",
              "      <td>0.000</td>\n",
              "      <td>0.000</td>\n",
              "      <td>0.000</td>\n",
              "      <td>0.000</td>\n",
              "      <td>0.000</td>\n",
              "      <td>0.000</td>\n",
              "      <td>0.000</td>\n",
              "    </tr>\n",
              "  </tbody>\n",
              "</table>\n",
              "<p>5 rows × 70 columns</p>\n",
              "</div>\n",
              "      <button class=\"colab-df-convert\" onclick=\"convertToInteractive('df-be52e2ee-7ebb-435d-8efc-ef35e2007c7f')\"\n",
              "              title=\"Convert this dataframe to an interactive table.\"\n",
              "              style=\"display:none;\">\n",
              "        \n",
              "  <svg xmlns=\"http://www.w3.org/2000/svg\" height=\"24px\"viewBox=\"0 0 24 24\"\n",
              "       width=\"24px\">\n",
              "    <path d=\"M0 0h24v24H0V0z\" fill=\"none\"/>\n",
              "    <path d=\"M18.56 5.44l.94 2.06.94-2.06 2.06-.94-2.06-.94-.94-2.06-.94 2.06-2.06.94zm-11 1L8.5 8.5l.94-2.06 2.06-.94-2.06-.94L8.5 2.5l-.94 2.06-2.06.94zm10 10l.94 2.06.94-2.06 2.06-.94-2.06-.94-.94-2.06-.94 2.06-2.06.94z\"/><path d=\"M17.41 7.96l-1.37-1.37c-.4-.4-.92-.59-1.43-.59-.52 0-1.04.2-1.43.59L10.3 9.45l-7.72 7.72c-.78.78-.78 2.05 0 2.83L4 21.41c.39.39.9.59 1.41.59.51 0 1.02-.2 1.41-.59l7.78-7.78 2.81-2.81c.8-.78.8-2.07 0-2.86zM5.41 20L4 18.59l7.72-7.72 1.47 1.35L5.41 20z\"/>\n",
              "  </svg>\n",
              "      </button>\n",
              "      \n",
              "  <style>\n",
              "    .colab-df-container {\n",
              "      display:flex;\n",
              "      flex-wrap:wrap;\n",
              "      gap: 12px;\n",
              "    }\n",
              "\n",
              "    .colab-df-convert {\n",
              "      background-color: #E8F0FE;\n",
              "      border: none;\n",
              "      border-radius: 50%;\n",
              "      cursor: pointer;\n",
              "      display: none;\n",
              "      fill: #1967D2;\n",
              "      height: 32px;\n",
              "      padding: 0 0 0 0;\n",
              "      width: 32px;\n",
              "    }\n",
              "\n",
              "    .colab-df-convert:hover {\n",
              "      background-color: #E2EBFA;\n",
              "      box-shadow: 0px 1px 2px rgba(60, 64, 67, 0.3), 0px 1px 3px 1px rgba(60, 64, 67, 0.15);\n",
              "      fill: #174EA6;\n",
              "    }\n",
              "\n",
              "    [theme=dark] .colab-df-convert {\n",
              "      background-color: #3B4455;\n",
              "      fill: #D2E3FC;\n",
              "    }\n",
              "\n",
              "    [theme=dark] .colab-df-convert:hover {\n",
              "      background-color: #434B5C;\n",
              "      box-shadow: 0px 1px 3px 1px rgba(0, 0, 0, 0.15);\n",
              "      filter: drop-shadow(0px 1px 2px rgba(0, 0, 0, 0.3));\n",
              "      fill: #FFFFFF;\n",
              "    }\n",
              "  </style>\n",
              "\n",
              "      <script>\n",
              "        const buttonEl =\n",
              "          document.querySelector('#df-be52e2ee-7ebb-435d-8efc-ef35e2007c7f button.colab-df-convert');\n",
              "        buttonEl.style.display =\n",
              "          google.colab.kernel.accessAllowed ? 'block' : 'none';\n",
              "\n",
              "        async function convertToInteractive(key) {\n",
              "          const element = document.querySelector('#df-be52e2ee-7ebb-435d-8efc-ef35e2007c7f');\n",
              "          const dataTable =\n",
              "            await google.colab.kernel.invokeFunction('convertToInteractive',\n",
              "                                                     [key], {});\n",
              "          if (!dataTable) return;\n",
              "\n",
              "          const docLinkHtml = 'Like what you see? Visit the ' +\n",
              "            '<a target=\"_blank\" href=https://colab.research.google.com/notebooks/data_table.ipynb>data table notebook</a>'\n",
              "            + ' to learn more about interactive tables.';\n",
              "          element.innerHTML = '';\n",
              "          dataTable['output_type'] = 'display_data';\n",
              "          await google.colab.output.renderOutput(dataTable, element);\n",
              "          const docLink = document.createElement('div');\n",
              "          docLink.innerHTML = docLinkHtml;\n",
              "          element.appendChild(docLink);\n",
              "        }\n",
              "      </script>\n",
              "    </div>\n",
              "  </div>\n",
              "  "
            ]
          },
          "metadata": {},
          "execution_count": 52
        }
      ]
    },
    {
      "cell_type": "code",
      "source": [
        "len(df_baseline)"
      ],
      "metadata": {
        "colab": {
          "base_uri": "https://localhost:8080/"
        },
        "id": "beO5yylJafxz",
        "outputId": "9272f54c-9ed3-4415-efc7-3e988407f6bc"
      },
      "execution_count": 53,
      "outputs": [
        {
          "output_type": "execute_result",
          "data": {
            "text/plain": [
              "38"
            ]
          },
          "metadata": {},
          "execution_count": 53
        }
      ]
    },
    {
      "cell_type": "markdown",
      "source": [
        "Since we have 38 records in the baseline data, let's see how generating more records upto same 3000 we used for the training data would help our modelling. As mentioned earlier, SDV uses the deep learning technique to basically learn from the data and synthesize."
      ],
      "metadata": {
        "id": "_5REb2SOcVBH"
      }
    },
    {
      "cell_type": "code",
      "source": [
        "# import all 4 sdv models under the single table scenario\n",
        "from sdv.tabular import GaussianCopula\n",
        "from sdv.tabular import CTGAN\n",
        "from sdv.tabular import CopulaGAN\n",
        "from sdv.tabular import TVAE\n",
        "\n",
        "# load the models \n",
        "model_Gaussian = GaussianCopula()\n",
        "model_CTGAN = CTGAN()\n",
        "model_CopulaGAN = CopulaGAN()\n",
        "model_TVAE = TVAE()\n",
        "\n",
        "# fit the models on our training data\n",
        "model_Gaussian.fit(df_baseline)\n",
        "model_CTGAN.fit(df_baseline)\n",
        "model_CopulaGAN.fit(df_baseline)\n",
        "model_TVAE.fit(df_baseline)\n",
        "\n",
        "# create synthetic data with each fitted model\n",
        "overall_data_model_Gaussian = model_Gaussian.sample(5000)\n",
        "overall_data_model_CTGAN = model_CTGAN.sample(5000)\n",
        "overall_data_model_CopulaGAN = model_CopulaGAN.sample(5000)\n",
        "overall_data_model_TVAE = model_TVAE.sample(5000)\n",
        "\n",
        "# Export the overall training set to csv as a checkpoint\n",
        "overall_data_model_Gaussian.to_csv('/content/drive/MyDrive/DS-ML projects/ASD Prediction/data/nlp_baseline-sdv-guassian_28012023_tosinharold.csv', index=False)\n",
        "overall_data_model_CTGAN.to_csv('/content/drive/MyDrive/DS-ML projects/ASD Prediction/data/nlp_baseline-sdv-ctgan_28012023_tosinharold.csv', index=False)\n",
        "overall_data_model_CopulaGAN.to_csv('/content/drive/MyDrive/DS-ML projects/ASD Prediction/data/nlp_baseline-sdv-copgan_28012023_tosinharold.csv', index=False)\n",
        "overall_data_model_TVAE.to_csv('/content/drive/MyDrive/DS-ML projects/ASD Prediction/data/nlp_baseline-sdv-tvae_28012023_tosinharold.csv', index=False)"
      ],
      "metadata": {
        "id": "TDkE7EI7ahqk"
      },
      "execution_count": 54,
      "outputs": []
    },
    {
      "cell_type": "markdown",
      "source": [
        "Great! Now, we model and evaluate each data separately, using Random Forest Classifier, similar preprocessing method as we have used before and see where that leads us. We will use our initial `train_test_split` function to preprocess and split our data.\n",
        "\n",
        "### Using the SDV Gaussian Synthetic Data Generated with the Baseline Data"
      ],
      "metadata": {
        "id": "NB_t0Whbd1RQ"
      }
    },
    {
      "cell_type": "code",
      "source": [
        "# Preprocess and split overall Gaussian baseline data\n",
        "X_train, X_test, y_train, y_test = split_preprocessor(overall_data_model_Gaussian, 'ASD')\n",
        "\n",
        "# Fit the model to the training data\n",
        "df_baseline_guassian_model = model.fit(X_train, y_train)\n",
        "\n",
        "# Append the metrics to our model_results table\n",
        "model_results = append_metrics(df_baseline_guassian_model, X_test, y_test, model_results, data_desc=\"SDV GUassian on Baseline Data\")"
      ],
      "metadata": {
        "id": "MIgt0s-2HZPX"
      },
      "execution_count": 55,
      "outputs": []
    },
    {
      "cell_type": "code",
      "source": [
        "# Evaluate our df_baseline_guassian_model on the training set\n",
        "evaluate_model(df_baseline_guassian_model, X_train, y_train)"
      ],
      "metadata": {
        "colab": {
          "base_uri": "https://localhost:8080/",
          "height": 609
        },
        "id": "X0pfZyuIe-vF",
        "outputId": "fe109a0b-e425-48f5-b7bb-d45e3f162d3b"
      },
      "execution_count": 56,
      "outputs": [
        {
          "output_type": "stream",
          "name": "stdout",
          "text": [
            "\u001b[1m\u001b[4mMETRICS\u001b[0m\n",
            "F1 score: 1.00\n",
            "ROC-AUC: 1.00\n",
            "Accuracy: 1.00\n",
            "Precision: 1.00\n",
            "Recall: 1.00\n",
            "\n",
            "\n",
            "              precision    recall  f1-score   support\n",
            "\n",
            "           0       1.00      1.00      1.00      2207\n",
            "           1       1.00      1.00      1.00      1793\n",
            "\n",
            "    accuracy                           1.00      4000\n",
            "   macro avg       1.00      1.00      1.00      4000\n",
            "weighted avg       1.00      1.00      1.00      4000\n",
            "\n",
            "\n",
            "\n"
          ]
        },
        {
          "output_type": "display_data",
          "data": {
            "text/plain": [
              "<Figure size 432x288 with 2 Axes>"
            ],
            "image/png": "[encoded data removed]"
          },
          "metadata": {
            "needs_background": "light"
          }
        }
      ]
    },
    {
      "cell_type": "code",
      "source": [
        "# Evaluate our df_baseline_guassian_model on the testing set\n",
        "evaluate_model(df_baseline_guassian_model, X_test, y_test)"
      ],
      "metadata": {
        "colab": {
          "base_uri": "https://localhost:8080/",
          "height": 609
        },
        "id": "0TrpLzvLfQJG",
        "outputId": "b4298784-ef85-43ab-d1d3-e13561513407"
      },
      "execution_count": 57,
      "outputs": [
        {
          "output_type": "stream",
          "name": "stdout",
          "text": [
            "\u001b[1m\u001b[4mMETRICS\u001b[0m\n",
            "F1 score: 0.77\n",
            "ROC-AUC: 0.80\n",
            "Accuracy: 0.80\n",
            "Precision: 0.83\n",
            "Recall: 0.72\n",
            "\n",
            "\n",
            "              precision    recall  f1-score   support\n",
            "\n",
            "           0       0.77      0.87      0.82       525\n",
            "           1       0.83      0.72      0.77       475\n",
            "\n",
            "    accuracy                           0.80      1000\n",
            "   macro avg       0.80      0.80      0.80      1000\n",
            "weighted avg       0.80      0.80      0.80      1000\n",
            "\n",
            "\n",
            "\n"
          ]
        },
        {
          "output_type": "display_data",
          "data": {
            "text/plain": [
              "<Figure size 432x288 with 2 Axes>"
            ],
            "image/png": "[encoded data removed]"
          },
          "metadata": {
            "needs_background": "light"
          }
        }
      ]
    },
    {
      "cell_type": "markdown",
      "source": [
        "So, it seems we are getting a better model performance with synthetic data generated on the overall baseline data. Let's see the perfomance of the other SDV technique."
      ],
      "metadata": {
        "id": "3nDYalaWMISl"
      }
    },
    {
      "cell_type": "markdown",
      "source": [
        "### Using the SDV CTGAN Synthetic Data Generated with the Baseline Data"
      ],
      "metadata": {
        "id": "NYKFbu0ggOPp"
      }
    },
    {
      "cell_type": "code",
      "source": [
        "# Preprocess and split overall CTGAN data\n",
        "X_train, X_test, y_train, y_test = split_preprocessor(overall_data_model_CTGAN, 'ASD')\n",
        "\n",
        "# Fit the model to the training data\n",
        "df_baseline_CTGAN_model = model.fit(X_train, y_train)\n",
        "\n",
        "# Append the metrics to our model_results table\n",
        "model_results = append_metrics(df_baseline_CTGAN_model, X_test, y_test, model_results, data_desc=\"SDV CTGAN on Baseline Data\")"
      ],
      "metadata": {
        "id": "9mQ7RSW9Hxkq"
      },
      "execution_count": 58,
      "outputs": []
    },
    {
      "cell_type": "code",
      "source": [
        "# Evaluate our df_baseline_CTGAN_model on the training set\n",
        "evaluate_model(df_baseline_CTGAN_model, X_train, y_train)"
      ],
      "metadata": {
        "colab": {
          "base_uri": "https://localhost:8080/",
          "height": 610
        },
        "id": "NQ_Ml7QWgyOr",
        "outputId": "4d0879b9-05a5-41c8-9814-98fac4fb79b9"
      },
      "execution_count": 59,
      "outputs": [
        {
          "output_type": "stream",
          "name": "stdout",
          "text": [
            "\u001b[1m\u001b[4mMETRICS\u001b[0m\n",
            "F1 score: 1.00\n",
            "ROC-AUC: 1.00\n",
            "Accuracy: 1.00\n",
            "Precision: 1.00\n",
            "Recall: 1.00\n",
            "\n",
            "\n",
            "              precision    recall  f1-score   support\n",
            "\n",
            "           0       1.00      1.00      1.00      3052\n",
            "           1       1.00      1.00      1.00       948\n",
            "\n",
            "    accuracy                           1.00      4000\n",
            "   macro avg       1.00      1.00      1.00      4000\n",
            "weighted avg       1.00      1.00      1.00      4000\n",
            "\n",
            "\n",
            "\n"
          ]
        },
        {
          "output_type": "display_data",
          "data": {
            "text/plain": [
              "<Figure size 432x288 with 2 Axes>"
            ],
            "image/png": "[encoded data removed]"
          },
          "metadata": {
            "needs_background": "light"
          }
        }
      ]
    },
    {
      "cell_type": "code",
      "source": [
        "# Evaluate our df_baseline_CTGAN_model on the testing set\n",
        "evaluate_model(df_baseline_CTGAN_model, X_test, y_test)"
      ],
      "metadata": {
        "colab": {
          "base_uri": "https://localhost:8080/",
          "height": 609
        },
        "id": "FktjgCbAg4KS",
        "outputId": "4aeba936-8779-423d-8111-2d5896a56172"
      },
      "execution_count": 60,
      "outputs": [
        {
          "output_type": "stream",
          "name": "stdout",
          "text": [
            "\u001b[1m\u001b[4mMETRICS\u001b[0m\n",
            "F1 score: 0.00\n",
            "ROC-AUC: 0.50\n",
            "Accuracy: 0.77\n",
            "Precision: 0.00\n",
            "Recall: 0.00\n",
            "\n",
            "\n",
            "              precision    recall  f1-score   support\n",
            "\n",
            "           0       0.77      1.00      0.87       768\n",
            "           1       0.00      0.00      0.00       232\n",
            "\n",
            "    accuracy                           0.77      1000\n",
            "   macro avg       0.38      0.50      0.43      1000\n",
            "weighted avg       0.59      0.77      0.67      1000\n",
            "\n",
            "\n",
            "\n"
          ]
        },
        {
          "output_type": "display_data",
          "data": {
            "text/plain": [
              "<Figure size 432x288 with 2 Axes>"
            ],
            "image/png": "[encoded data removed]"
          },
          "metadata": {
            "needs_background": "light"
          }
        }
      ]
    },
    {
      "cell_type": "markdown",
      "source": [
        "Just as the previous CTGAN synthesis on the training data, this equally performed poorly on the data synthesized using the baseline data. Shows serious overfitting. It seems SDV CTGAN technique is a no show."
      ],
      "metadata": {
        "id": "9qyo8JoDhEtZ"
      }
    },
    {
      "cell_type": "markdown",
      "source": [
        "### Using the SDV CopulaGAN Synthetic Data Generated with the Baseline Data"
      ],
      "metadata": {
        "id": "k3KWWFd9hiir"
      }
    },
    {
      "cell_type": "code",
      "source": [
        "# Preprocess and split baseline data\n",
        "X_train, X_test, y_train, y_test = split_preprocessor(overall_data_model_CopulaGAN, 'ASD')\n",
        "\n",
        "# Fit the model to the training data\n",
        "df_baseline_copulaGAN_model = model.fit(X_train, y_train)\n",
        "\n",
        "# Append the metrics to our model_results table\n",
        "model_results = append_metrics(df_baseline_copulaGAN_model, X_test, y_test, model_results, data_desc=\"SDV CopulaGAN on Baseline Data\")"
      ],
      "metadata": {
        "id": "sFQlfpX2IHu9"
      },
      "execution_count": 61,
      "outputs": []
    },
    {
      "cell_type": "code",
      "source": [
        "# Evaluate our df_baseline_CopulaGAN_model on the training set\n",
        "evaluate_model(df_baseline_copulaGAN_model, X_train, y_train)"
      ],
      "metadata": {
        "colab": {
          "base_uri": "https://localhost:8080/",
          "height": 609
        },
        "id": "yj1d26gShuxS",
        "outputId": "cc70eb05-44b7-4c5c-93be-e659c91ce0d8"
      },
      "execution_count": 62,
      "outputs": [
        {
          "output_type": "stream",
          "name": "stdout",
          "text": [
            "\u001b[1m\u001b[4mMETRICS\u001b[0m\n",
            "F1 score: 1.00\n",
            "ROC-AUC: 1.00\n",
            "Accuracy: 1.00\n",
            "Precision: 1.00\n",
            "Recall: 1.00\n",
            "\n",
            "\n",
            "              precision    recall  f1-score   support\n",
            "\n",
            "           0       1.00      1.00      1.00      2452\n",
            "           1       1.00      1.00      1.00      1548\n",
            "\n",
            "    accuracy                           1.00      4000\n",
            "   macro avg       1.00      1.00      1.00      4000\n",
            "weighted avg       1.00      1.00      1.00      4000\n",
            "\n",
            "\n",
            "\n"
          ]
        },
        {
          "output_type": "display_data",
          "data": {
            "text/plain": [
              "<Figure size 432x288 with 2 Axes>"
            ],
            "image/png": "[encoded data removed]"
          },
          "metadata": {
            "needs_background": "light"
          }
        }
      ]
    },
    {
      "cell_type": "code",
      "source": [
        "# Evaluate our df_baseline_CopulaGAN_model on the testing set\n",
        "evaluate_model(df_baseline_copulaGAN_model, X_test, y_test)"
      ],
      "metadata": {
        "colab": {
          "base_uri": "https://localhost:8080/",
          "height": 609
        },
        "id": "dbaPT9vvh8h-",
        "outputId": "2de61ce8-a715-4c3d-cbf5-c6884de7b6bf"
      },
      "execution_count": 63,
      "outputs": [
        {
          "output_type": "stream",
          "name": "stdout",
          "text": [
            "\u001b[1m\u001b[4mMETRICS\u001b[0m\n",
            "F1 score: 0.10\n",
            "ROC-AUC: 0.51\n",
            "Accuracy: 0.61\n",
            "Precision: 0.50\n",
            "Recall: 0.05\n",
            "\n",
            "\n",
            "              precision    recall  f1-score   support\n",
            "\n",
            "           0       0.62      0.97      0.75       612\n",
            "           1       0.50      0.05      0.10       388\n",
            "\n",
            "    accuracy                           0.61      1000\n",
            "   macro avg       0.56      0.51      0.43      1000\n",
            "weighted avg       0.57      0.61      0.50      1000\n",
            "\n",
            "\n",
            "\n"
          ]
        },
        {
          "output_type": "display_data",
          "data": {
            "text/plain": [
              "<Figure size 432x288 with 2 Axes>"
            ],
            "image/png": "[encoded data removed]"
          },
          "metadata": {
            "needs_background": "light"
          }
        }
      ]
    },
    {
      "cell_type": "markdown",
      "source": [
        "Just as the CTGAN, CopulaGAN performed also poorly."
      ],
      "metadata": {
        "id": "Dnws2_-0iFei"
      }
    },
    {
      "cell_type": "markdown",
      "source": [
        "### Using the SDV TVAE Synthetic Data Generated with the Baseline Data"
      ],
      "metadata": {
        "id": "GN1QG7jYiQbX"
      }
    },
    {
      "cell_type": "code",
      "source": [
        "# Preprocess and split baseline data\n",
        "X_train, X_test, y_train, y_test = split_preprocessor(overall_data_model_TVAE, 'ASD')\n",
        "\n",
        "# Fit the model to the training data\n",
        "df_baseline_TVAE_model = model.fit(X_train, y_train)\n",
        "\n",
        "# Append the metrics to our model_results table\n",
        "model_results = append_metrics(df_baseline_TVAE_model, X_test, y_test, model_results, data_desc=\"SDV TVAE on Baseline Data\")"
      ],
      "metadata": {
        "id": "XhACtpIGI8BF"
      },
      "execution_count": 64,
      "outputs": []
    },
    {
      "cell_type": "code",
      "source": [
        "# Evaluate our df_baseline_TVAE_model on the training set\n",
        "evaluate_model(df_baseline_TVAE_model, X_train, y_train)"
      ],
      "metadata": {
        "colab": {
          "base_uri": "https://localhost:8080/",
          "height": 609
        },
        "id": "LpDUFpQciXXE",
        "outputId": "5cd422a2-9c0c-4a82-97e3-527a85bd9537"
      },
      "execution_count": 65,
      "outputs": [
        {
          "output_type": "stream",
          "name": "stdout",
          "text": [
            "\u001b[1m\u001b[4mMETRICS\u001b[0m\n",
            "F1 score: 1.00\n",
            "ROC-AUC: 1.00\n",
            "Accuracy: 1.00\n",
            "Precision: 1.00\n",
            "Recall: 1.00\n",
            "\n",
            "\n",
            "              precision    recall  f1-score   support\n",
            "\n",
            "           0       1.00      1.00      1.00      3983\n",
            "           1       1.00      1.00      1.00        17\n",
            "\n",
            "    accuracy                           1.00      4000\n",
            "   macro avg       1.00      1.00      1.00      4000\n",
            "weighted avg       1.00      1.00      1.00      4000\n",
            "\n",
            "\n",
            "\n"
          ]
        },
        {
          "output_type": "display_data",
          "data": {
            "text/plain": [
              "<Figure size 432x288 with 2 Axes>"
            ],
            "image/png": "[encoded data removed]"
          },
          "metadata": {
            "needs_background": "light"
          }
        }
      ]
    },
    {
      "cell_type": "code",
      "source": [
        "# Evaluate our df_baseline_TVAE_model on the testing set\n",
        "evaluate_model(df_baseline_TVAE_model, X_test, y_test)"
      ],
      "metadata": {
        "colab": {
          "base_uri": "https://localhost:8080/",
          "height": 609
        },
        "id": "56XGO2WbibvI",
        "outputId": "97197f25-8178-47cf-d4d2-82f2d67eb6e8"
      },
      "execution_count": 66,
      "outputs": [
        {
          "output_type": "stream",
          "name": "stdout",
          "text": [
            "\u001b[1m\u001b[4mMETRICS\u001b[0m\n",
            "F1 score: 0.00\n",
            "ROC-AUC: 0.50\n",
            "Accuracy: 1.00\n",
            "Precision: 0.00\n",
            "Recall: 0.00\n",
            "\n",
            "\n",
            "              precision    recall  f1-score   support\n",
            "\n",
            "           0       1.00      1.00      1.00       998\n",
            "           1       0.00      0.00      0.00         2\n",
            "\n",
            "    accuracy                           1.00      1000\n",
            "   macro avg       0.50      0.50      0.50      1000\n",
            "weighted avg       1.00      1.00      1.00      1000\n",
            "\n",
            "\n",
            "\n"
          ]
        },
        {
          "output_type": "display_data",
          "data": {
            "text/plain": [
              "<Figure size 432x288 with 2 Axes>"
            ],
            "image/png": "[encoded data removed]"
          },
          "metadata": {
            "needs_background": "light"
          }
        }
      ]
    },
    {
      "cell_type": "markdown",
      "source": [
        "TVAE synthetic data generated from the overall data before splitting performed even worse. One thing we may also want to look at is the possibility of merging the best SDV technique to generate more data with the best technique for balanced class, to see how our model will perform on that data. However, based on all the above, let's bring it all together to see the synthetic data that performed better based on quantity and balanced classification."
      ],
      "metadata": {
        "id": "EWN3oZrAij8v"
      }
    },
    {
      "cell_type": "markdown",
      "source": [
        "## Bringing it all together\n",
        "\n",
        "Now that we have all the techniques used in generating synthetic data at different level and evaluating using RF classifier, let's sort our `model_results` table to look at the performance from top to bottom for easy view."
      ],
      "metadata": {
        "id": "lNTfJEWfp8lA"
      }
    },
    {
      "cell_type": "code",
      "source": [
        "# Generate the model_results table and sort from highest to smallest by F1 Score\n",
        "model_results = model_results.sort_values(by='F1 Score', ascending=False).reset_index(drop=True)\n",
        "model_results"
      ],
      "metadata": {
        "colab": {
          "base_uri": "https://localhost:8080/",
          "height": 708
        },
        "id": "pfG7k7sjqTuy",
        "outputId": "2b787289-f902-4e86-9683-b4236a732524"
      },
      "execution_count": 67,
      "outputs": [
        {
          "output_type": "execute_result",
          "data": {
            "text/plain": [
              "                           Data Description  F1 Score  ROC AUC  Accuracy  \\\n",
              "0      Random Oversampling on Baseline Data     0.923    0.929     0.900   \n",
              "1       SMOTE Oversampling on Baseline Data     0.833    0.857     0.800   \n",
              "2             SDV GUassian on Baseline Data     0.773    0.795     0.799   \n",
              "3               TOMEK Link on Baseline Data     0.750    0.708     0.714   \n",
              "4                   ADASYN on Baseline Data     0.667    0.661     0.636   \n",
              "5     Random Undersampling on Baseline Data     0.667    0.750     0.833   \n",
              "6   NearMiss Undersampling on Training Data     0.571    0.625     0.625   \n",
              "7            SDV CopulaGAN on Training Data     0.571    0.625     0.625   \n",
              "8   NearMiss Undersampling on Baseline Data     0.500    0.625     0.667   \n",
              "9                 SDV TVAE on Training Data     0.333    0.500     0.500   \n",
              "10            SDV Guassian on Training Data     0.333    0.500     0.500   \n",
              "11                         baseline dataset     0.333    0.500     0.500   \n",
              "12     Random Oversampling on Training Data     0.333    0.500     0.500   \n",
              "13             Tomek Links on Training Data     0.333    0.500     0.500   \n",
              "14                  ADASYN on Training Data     0.333    0.500     0.500   \n",
              "15      SMOTE Oversampling on Training Data     0.333    0.500     0.500   \n",
              "16    Random Undersampling on Training Data     0.333    0.500     0.500   \n",
              "17           SDV CopulaGAN on Baseline Data     0.098    0.510     0.612   \n",
              "18               SDV CTGAN on Training Data     0.000    0.500     0.500   \n",
              "19               SDV CTGAN on Baseline Data     0.000    0.500     0.768   \n",
              "20                SDV TVAE on Baseline Data     0.000    0.500     0.998   \n",
              "\n",
              "    Precision  Recall  \n",
              "0       1.000   0.857  \n",
              "1       1.000   0.714  \n",
              "2       0.834   0.720  \n",
              "3       0.750   0.750  \n",
              "4       0.800   0.571  \n",
              "5       1.000   0.500  \n",
              "6       0.667   0.500  \n",
              "7       0.667   0.500  \n",
              "8       0.500   0.500  \n",
              "9       0.500   0.250  \n",
              "10      0.500   0.250  \n",
              "11      0.500   0.250  \n",
              "12      0.500   0.250  \n",
              "13      0.500   0.250  \n",
              "14      0.500   0.250  \n",
              "15      0.500   0.250  \n",
              "16      0.500   0.250  \n",
              "17      0.500   0.054  \n",
              "18      0.000   0.000  \n",
              "19      0.000   0.000  \n",
              "20      0.000   0.000  "
            ],
            "text/html": [
              "\n",
              "  <div id=\"df-160bb0f2-8c52-4390-ab37-a8d1c93732d6\">\n",
              "    <div class=\"colab-df-container\">\n",
              "      <div>\n",
              "<style scoped>\n",
              "    .dataframe tbody tr th:only-of-type {\n",
              "        vertical-align: middle;\n",
              "    }\n",
              "\n",
              "    .dataframe tbody tr th {\n",
              "        vertical-align: top;\n",
              "    }\n",
              "\n",
              "    .dataframe thead th {\n",
              "        text-align: right;\n",
              "    }\n",
              "</style>\n",
              "<table border=\"1\" class=\"dataframe\">\n",
              "  <thead>\n",
              "    <tr style=\"text-align: right;\">\n",
              "      <th></th>\n",
              "      <th>Data Description</th>\n",
              "      <th>F1 Score</th>\n",
              "      <th>ROC AUC</th>\n",
              "      <th>Accuracy</th>\n",
              "      <th>Precision</th>\n",
              "      <th>Recall</th>\n",
              "    </tr>\n",
              "  </thead>\n",
              "  <tbody>\n",
              "    <tr>\n",
              "      <th>0</th>\n",
              "      <td>Random Oversampling on Baseline Data</td>\n",
              "      <td>0.923</td>\n",
              "      <td>0.929</td>\n",
              "      <td>0.900</td>\n",
              "      <td>1.000</td>\n",
              "      <td>0.857</td>\n",
              "    </tr>\n",
              "    <tr>\n",
              "      <th>1</th>\n",
              "      <td>SMOTE Oversampling on Baseline Data</td>\n",
              "      <td>0.833</td>\n",
              "      <td>0.857</td>\n",
              "      <td>0.800</td>\n",
              "      <td>1.000</td>\n",
              "      <td>0.714</td>\n",
              "    </tr>\n",
              "    <tr>\n",
              "      <th>2</th>\n",
              "      <td>SDV GUassian on Baseline Data</td>\n",
              "      <td>0.773</td>\n",
              "      <td>0.795</td>\n",
              "      <td>0.799</td>\n",
              "      <td>0.834</td>\n",
              "      <td>0.720</td>\n",
              "    </tr>\n",
              "    <tr>\n",
              "      <th>3</th>\n",
              "      <td>TOMEK Link on Baseline Data</td>\n",
              "      <td>0.750</td>\n",
              "      <td>0.708</td>\n",
              "      <td>0.714</td>\n",
              "      <td>0.750</td>\n",
              "      <td>0.750</td>\n",
              "    </tr>\n",
              "    <tr>\n",
              "      <th>4</th>\n",
              "      <td>ADASYN on Baseline Data</td>\n",
              "      <td>0.667</td>\n",
              "      <td>0.661</td>\n",
              "      <td>0.636</td>\n",
              "      <td>0.800</td>\n",
              "      <td>0.571</td>\n",
              "    </tr>\n",
              "    <tr>\n",
              "      <th>5</th>\n",
              "      <td>Random Undersampling on Baseline Data</td>\n",
              "      <td>0.667</td>\n",
              "      <td>0.750</td>\n",
              "      <td>0.833</td>\n",
              "      <td>1.000</td>\n",
              "      <td>0.500</td>\n",
              "    </tr>\n",
              "    <tr>\n",
              "      <th>6</th>\n",
              "      <td>NearMiss Undersampling on Training Data</td>\n",
              "      <td>0.571</td>\n",
              "      <td>0.625</td>\n",
              "      <td>0.625</td>\n",
              "      <td>0.667</td>\n",
              "      <td>0.500</td>\n",
              "    </tr>\n",
              "    <tr>\n",
              "      <th>7</th>\n",
              "      <td>SDV CopulaGAN on Training Data</td>\n",
              "      <td>0.571</td>\n",
              "      <td>0.625</td>\n",
              "      <td>0.625</td>\n",
              "      <td>0.667</td>\n",
              "      <td>0.500</td>\n",
              "    </tr>\n",
              "    <tr>\n",
              "      <th>8</th>\n",
              "      <td>NearMiss Undersampling on Baseline Data</td>\n",
              "      <td>0.500</td>\n",
              "      <td>0.625</td>\n",
              "      <td>0.667</td>\n",
              "      <td>0.500</td>\n",
              "      <td>0.500</td>\n",
              "    </tr>\n",
              "    <tr>\n",
              "      <th>9</th>\n",
              "      <td>SDV TVAE on Training Data</td>\n",
              "      <td>0.333</td>\n",
              "      <td>0.500</td>\n",
              "      <td>0.500</td>\n",
              "      <td>0.500</td>\n",
              "      <td>0.250</td>\n",
              "    </tr>\n",
              "    <tr>\n",
              "      <th>10</th>\n",
              "      <td>SDV Guassian on Training Data</td>\n",
              "      <td>0.333</td>\n",
              "      <td>0.500</td>\n",
              "      <td>0.500</td>\n",
              "      <td>0.500</td>\n",
              "      <td>0.250</td>\n",
              "    </tr>\n",
              "    <tr>\n",
              "      <th>11</th>\n",
              "      <td>baseline dataset</td>\n",
              "      <td>0.333</td>\n",
              "      <td>0.500</td>\n",
              "      <td>0.500</td>\n",
              "      <td>0.500</td>\n",
              "      <td>0.250</td>\n",
              "    </tr>\n",
              "    <tr>\n",
              "      <th>12</th>\n",
              "      <td>Random Oversampling on Training Data</td>\n",
              "      <td>0.333</td>\n",
              "      <td>0.500</td>\n",
              "      <td>0.500</td>\n",
              "      <td>0.500</td>\n",
              "      <td>0.250</td>\n",
              "    </tr>\n",
              "    <tr>\n",
              "      <th>13</th>\n",
              "      <td>Tomek Links on Training Data</td>\n",
              "      <td>0.333</td>\n",
              "      <td>0.500</td>\n",
              "      <td>0.500</td>\n",
              "      <td>0.500</td>\n",
              "      <td>0.250</td>\n",
              "    </tr>\n",
              "    <tr>\n",
              "      <th>14</th>\n",
              "      <td>ADASYN on Training Data</td>\n",
              "      <td>0.333</td>\n",
              "      <td>0.500</td>\n",
              "      <td>0.500</td>\n",
              "      <td>0.500</td>\n",
              "      <td>0.250</td>\n",
              "    </tr>\n",
              "    <tr>\n",
              "      <th>15</th>\n",
              "      <td>SMOTE Oversampling on Training Data</td>\n",
              "      <td>0.333</td>\n",
              "      <td>0.500</td>\n",
              "      <td>0.500</td>\n",
              "      <td>0.500</td>\n",
              "      <td>0.250</td>\n",
              "    </tr>\n",
              "    <tr>\n",
              "      <th>16</th>\n",
              "      <td>Random Undersampling on Training Data</td>\n",
              "      <td>0.333</td>\n",
              "      <td>0.500</td>\n",
              "      <td>0.500</td>\n",
              "      <td>0.500</td>\n",
              "      <td>0.250</td>\n",
              "    </tr>\n",
              "    <tr>\n",
              "      <th>17</th>\n",
              "      <td>SDV CopulaGAN on Baseline Data</td>\n",
              "      <td>0.098</td>\n",
              "      <td>0.510</td>\n",
              "      <td>0.612</td>\n",
              "      <td>0.500</td>\n",
              "      <td>0.054</td>\n",
              "    </tr>\n",
              "    <tr>\n",
              "      <th>18</th>\n",
              "      <td>SDV CTGAN on Training Data</td>\n",
              "      <td>0.000</td>\n",
              "      <td>0.500</td>\n",
              "      <td>0.500</td>\n",
              "      <td>0.000</td>\n",
              "      <td>0.000</td>\n",
              "    </tr>\n",
              "    <tr>\n",
              "      <th>19</th>\n",
              "      <td>SDV CTGAN on Baseline Data</td>\n",
              "      <td>0.000</td>\n",
              "      <td>0.500</td>\n",
              "      <td>0.768</td>\n",
              "      <td>0.000</td>\n",
              "      <td>0.000</td>\n",
              "    </tr>\n",
              "    <tr>\n",
              "      <th>20</th>\n",
              "      <td>SDV TVAE on Baseline Data</td>\n",
              "      <td>0.000</td>\n",
              "      <td>0.500</td>\n",
              "      <td>0.998</td>\n",
              "      <td>0.000</td>\n",
              "      <td>0.000</td>\n",
              "    </tr>\n",
              "  </tbody>\n",
              "</table>\n",
              "</div>\n",
              "      <button class=\"colab-df-convert\" onclick=\"convertToInteractive('df-160bb0f2-8c52-4390-ab37-a8d1c93732d6')\"\n",
              "              title=\"Convert this dataframe to an interactive table.\"\n",
              "              style=\"display:none;\">\n",
              "        \n",
              "  <svg xmlns=\"http://www.w3.org/2000/svg\" height=\"24px\"viewBox=\"0 0 24 24\"\n",
              "       width=\"24px\">\n",
              "    <path d=\"M0 0h24v24H0V0z\" fill=\"none\"/>\n",
              "    <path d=\"M18.56 5.44l.94 2.06.94-2.06 2.06-.94-2.06-.94-.94-2.06-.94 2.06-2.06.94zm-11 1L8.5 8.5l.94-2.06 2.06-.94-2.06-.94L8.5 2.5l-.94 2.06-2.06.94zm10 10l.94 2.06.94-2.06 2.06-.94-2.06-.94-.94-2.06-.94 2.06-2.06.94z\"/><path d=\"M17.41 7.96l-1.37-1.37c-.4-.4-.92-.59-1.43-.59-.52 0-1.04.2-1.43.59L10.3 9.45l-7.72 7.72c-.78.78-.78 2.05 0 2.83L4 21.41c.39.39.9.59 1.41.59.51 0 1.02-.2 1.41-.59l7.78-7.78 2.81-2.81c.8-.78.8-2.07 0-2.86zM5.41 20L4 18.59l7.72-7.72 1.47 1.35L5.41 20z\"/>\n",
              "  </svg>\n",
              "      </button>\n",
              "      \n",
              "  <style>\n",
              "    .colab-df-container {\n",
              "      display:flex;\n",
              "      flex-wrap:wrap;\n",
              "      gap: 12px;\n",
              "    }\n",
              "\n",
              "    .colab-df-convert {\n",
              "      background-color: #E8F0FE;\n",
              "      border: none;\n",
              "      border-radius: 50%;\n",
              "      cursor: pointer;\n",
              "      display: none;\n",
              "      fill: #1967D2;\n",
              "      height: 32px;\n",
              "      padding: 0 0 0 0;\n",
              "      width: 32px;\n",
              "    }\n",
              "\n",
              "    .colab-df-convert:hover {\n",
              "      background-color: #E2EBFA;\n",
              "      box-shadow: 0px 1px 2px rgba(60, 64, 67, 0.3), 0px 1px 3px 1px rgba(60, 64, 67, 0.15);\n",
              "      fill: #174EA6;\n",
              "    }\n",
              "\n",
              "    [theme=dark] .colab-df-convert {\n",
              "      background-color: #3B4455;\n",
              "      fill: #D2E3FC;\n",
              "    }\n",
              "\n",
              "    [theme=dark] .colab-df-convert:hover {\n",
              "      background-color: #434B5C;\n",
              "      box-shadow: 0px 1px 3px 1px rgba(0, 0, 0, 0.15);\n",
              "      filter: drop-shadow(0px 1px 2px rgba(0, 0, 0, 0.3));\n",
              "      fill: #FFFFFF;\n",
              "    }\n",
              "  </style>\n",
              "\n",
              "      <script>\n",
              "        const buttonEl =\n",
              "          document.querySelector('#df-160bb0f2-8c52-4390-ab37-a8d1c93732d6 button.colab-df-convert');\n",
              "        buttonEl.style.display =\n",
              "          google.colab.kernel.accessAllowed ? 'block' : 'none';\n",
              "\n",
              "        async function convertToInteractive(key) {\n",
              "          const element = document.querySelector('#df-160bb0f2-8c52-4390-ab37-a8d1c93732d6');\n",
              "          const dataTable =\n",
              "            await google.colab.kernel.invokeFunction('convertToInteractive',\n",
              "                                                     [key], {});\n",
              "          if (!dataTable) return;\n",
              "\n",
              "          const docLinkHtml = 'Like what you see? Visit the ' +\n",
              "            '<a target=\"_blank\" href=https://colab.research.google.com/notebooks/data_table.ipynb>data table notebook</a>'\n",
              "            + ' to learn more about interactive tables.';\n",
              "          element.innerHTML = '';\n",
              "          dataTable['output_type'] = 'display_data';\n",
              "          await google.colab.output.renderOutput(dataTable, element);\n",
              "          const docLink = document.createElement('div');\n",
              "          docLink.innerHTML = docLinkHtml;\n",
              "          element.appendChild(docLink);\n",
              "        }\n",
              "      </script>\n",
              "    </div>\n",
              "  </div>\n",
              "  "
            ]
          },
          "metadata": {},
          "execution_count": 67
        }
      ]
    },
    {
      "cell_type": "markdown",
      "source": [
        "As shown in the table above, the best synthetic data generating technique for balanced class is Random Oversampling on Baseline data, while for quantity using SDV is SDV Guassian on baseline data. Now, let's use the randomly oversampled technique on the overall SDV guassian baseline data, and see how that synthetic data would perform."
      ],
      "metadata": {
        "id": "4mzvHal1t-kH"
      }
    },
    {
      "cell_type": "markdown",
      "source": [
        "## Merging Techniques: Implementing and Evaluating Randomly Oversampling Technique on the SDV Guassian Synthetic Data generated with the baseline data"
      ],
      "metadata": {
        "id": "GgH5KMPshbvs"
      }
    },
    {
      "cell_type": "code",
      "source": [
        "# Implement Random Oversampling on the overall sdv guassian data\n",
        "df_overall_sdv_guassian_ros = syn_baseline_data(overall_data_model_Gaussian, 'ASD', RandomOverSampler(random_state=42))\n",
        "\n",
        "# Export to csv\n",
        "df_overall_sdv_guassian_ros.to_csv('/content/drive/MyDrive/DS-ML projects/ASD Prediction/data/nlp_syndata_overall_sdv_guassian_ros_11022023.csv', index=False)\n",
        "\n",
        "# Preprocess and split the data\n",
        "X_train, X_test, y_train, y_test = split_preprocessor(df_overall_sdv_guassian_ros, 'ASD')\n",
        "\n",
        "# Fit the model to the training data\n",
        "df_overall_sdv_guassian_ros_model = model.fit(X_train, y_train)\n",
        "\n",
        "# Append the metrics to our model_results table\n",
        "model_results = append_metrics(df_overall_sdv_guassian_ros_model, X_test, y_test, model_results, data_desc=\"Random Oversampling on Overall SDV Guassian Data\")\n",
        "\n",
        "# Evaluate our df_ro_sampled_model on the test set\n",
        "evaluate_model(df_overall_sdv_guassian_ros_model, X_test, y_test)"
      ],
      "metadata": {
        "colab": {
          "base_uri": "https://localhost:8080/",
          "height": 609
        },
        "id": "Bo_S1c-Ovsji",
        "outputId": "74a3f190-ddf8-4045-8b3b-8b1da6c5c29d"
      },
      "execution_count": 74,
      "outputs": [
        {
          "output_type": "stream",
          "name": "stdout",
          "text": [
            "\u001b[1m\u001b[4mMETRICS\u001b[0m\n",
            "F1 score: 0.84\n",
            "ROC-AUC: 0.85\n",
            "Accuracy: 0.85\n",
            "Precision: 0.86\n",
            "Recall: 0.82\n",
            "\n",
            "\n",
            "              precision    recall  f1-score   support\n",
            "\n",
            "           0       0.83      0.87      0.85       559\n",
            "           1       0.86      0.82      0.84       534\n",
            "\n",
            "    accuracy                           0.85      1093\n",
            "   macro avg       0.85      0.85      0.85      1093\n",
            "weighted avg       0.85      0.85      0.85      1093\n",
            "\n",
            "\n",
            "\n"
          ]
        },
        {
          "output_type": "display_data",
          "data": {
            "text/plain": [
              "<Figure size 432x288 with 2 Axes>"
            ],
            "image/png": "[encoded data removed]"
          },
          "metadata": {
            "needs_background": "light"
          }
        }
      ]
    },
    {
      "cell_type": "code",
      "source": [
        "# Generate the model_results table and sort from highest to smallest by F1 Score for thr top 5\n",
        "model_results = model_results.sort_values(by='F1 Score', ascending=False).reset_index(drop=True)\n",
        "model_results[:5]"
      ],
      "metadata": {
        "colab": {
          "base_uri": "https://localhost:8080/",
          "height": 206
        },
        "id": "LCTSFjjtyzXZ",
        "outputId": "bae3b0b4-b402-4ee3-b086-d31f6a01a62d"
      },
      "execution_count": 76,
      "outputs": [
        {
          "output_type": "execute_result",
          "data": {
            "text/plain": [
              "                                   Data Description  F1 Score  ROC AUC  \\\n",
              "0              Random Oversampling on Baseline Data     0.923    0.929   \n",
              "1  Random Oversampling on Overall SDV Guassian Data     0.839    0.846   \n",
              "2               SMOTE Oversampling on Baseline Data     0.833    0.857   \n",
              "3                     SDV GUassian on Baseline Data     0.773    0.795   \n",
              "4                       TOMEK Link on Baseline Data     0.750    0.708   \n",
              "\n",
              "   Accuracy  Precision  Recall  \n",
              "0     0.900      1.000   0.857  \n",
              "1     0.846      0.860   0.818  \n",
              "2     0.800      1.000   0.714  \n",
              "3     0.799      0.834   0.720  \n",
              "4     0.714      0.750   0.750  "
            ],
            "text/html": [
              "\n",
              "  <div id=\"df-cb991607-aa00-4551-8482-f5b1802c7729\">\n",
              "    <div class=\"colab-df-container\">\n",
              "      <div>\n",
              "<style scoped>\n",
              "    .dataframe tbody tr th:only-of-type {\n",
              "        vertical-align: middle;\n",
              "    }\n",
              "\n",
              "    .dataframe tbody tr th {\n",
              "        vertical-align: top;\n",
              "    }\n",
              "\n",
              "    .dataframe thead th {\n",
              "        text-align: right;\n",
              "    }\n",
              "</style>\n",
              "<table border=\"1\" class=\"dataframe\">\n",
              "  <thead>\n",
              "    <tr style=\"text-align: right;\">\n",
              "      <th></th>\n",
              "      <th>Data Description</th>\n",
              "      <th>F1 Score</th>\n",
              "      <th>ROC AUC</th>\n",
              "      <th>Accuracy</th>\n",
              "      <th>Precision</th>\n",
              "      <th>Recall</th>\n",
              "    </tr>\n",
              "  </thead>\n",
              "  <tbody>\n",
              "    <tr>\n",
              "      <th>0</th>\n",
              "      <td>Random Oversampling on Baseline Data</td>\n",
              "      <td>0.923</td>\n",
              "      <td>0.929</td>\n",
              "      <td>0.900</td>\n",
              "      <td>1.000</td>\n",
              "      <td>0.857</td>\n",
              "    </tr>\n",
              "    <tr>\n",
              "      <th>1</th>\n",
              "      <td>Random Oversampling on Overall SDV Guassian Data</td>\n",
              "      <td>0.839</td>\n",
              "      <td>0.846</td>\n",
              "      <td>0.846</td>\n",
              "      <td>0.860</td>\n",
              "      <td>0.818</td>\n",
              "    </tr>\n",
              "    <tr>\n",
              "      <th>2</th>\n",
              "      <td>SMOTE Oversampling on Baseline Data</td>\n",
              "      <td>0.833</td>\n",
              "      <td>0.857</td>\n",
              "      <td>0.800</td>\n",
              "      <td>1.000</td>\n",
              "      <td>0.714</td>\n",
              "    </tr>\n",
              "    <tr>\n",
              "      <th>3</th>\n",
              "      <td>SDV GUassian on Baseline Data</td>\n",
              "      <td>0.773</td>\n",
              "      <td>0.795</td>\n",
              "      <td>0.799</td>\n",
              "      <td>0.834</td>\n",
              "      <td>0.720</td>\n",
              "    </tr>\n",
              "    <tr>\n",
              "      <th>4</th>\n",
              "      <td>TOMEK Link on Baseline Data</td>\n",
              "      <td>0.750</td>\n",
              "      <td>0.708</td>\n",
              "      <td>0.714</td>\n",
              "      <td>0.750</td>\n",
              "      <td>0.750</td>\n",
              "    </tr>\n",
              "  </tbody>\n",
              "</table>\n",
              "</div>\n",
              "      <button class=\"colab-df-convert\" onclick=\"convertToInteractive('df-cb991607-aa00-4551-8482-f5b1802c7729')\"\n",
              "              title=\"Convert this dataframe to an interactive table.\"\n",
              "              style=\"display:none;\">\n",
              "        \n",
              "  <svg xmlns=\"http://www.w3.org/2000/svg\" height=\"24px\"viewBox=\"0 0 24 24\"\n",
              "       width=\"24px\">\n",
              "    <path d=\"M0 0h24v24H0V0z\" fill=\"none\"/>\n",
              "    <path d=\"M18.56 5.44l.94 2.06.94-2.06 2.06-.94-2.06-.94-.94-2.06-.94 2.06-2.06.94zm-11 1L8.5 8.5l.94-2.06 2.06-.94-2.06-.94L8.5 2.5l-.94 2.06-2.06.94zm10 10l.94 2.06.94-2.06 2.06-.94-2.06-.94-.94-2.06-.94 2.06-2.06.94z\"/><path d=\"M17.41 7.96l-1.37-1.37c-.4-.4-.92-.59-1.43-.59-.52 0-1.04.2-1.43.59L10.3 9.45l-7.72 7.72c-.78.78-.78 2.05 0 2.83L4 21.41c.39.39.9.59 1.41.59.51 0 1.02-.2 1.41-.59l7.78-7.78 2.81-2.81c.8-.78.8-2.07 0-2.86zM5.41 20L4 18.59l7.72-7.72 1.47 1.35L5.41 20z\"/>\n",
              "  </svg>\n",
              "      </button>\n",
              "      \n",
              "  <style>\n",
              "    .colab-df-container {\n",
              "      display:flex;\n",
              "      flex-wrap:wrap;\n",
              "      gap: 12px;\n",
              "    }\n",
              "\n",
              "    .colab-df-convert {\n",
              "      background-color: #E8F0FE;\n",
              "      border: none;\n",
              "      border-radius: 50%;\n",
              "      cursor: pointer;\n",
              "      display: none;\n",
              "      fill: #1967D2;\n",
              "      height: 32px;\n",
              "      padding: 0 0 0 0;\n",
              "      width: 32px;\n",
              "    }\n",
              "\n",
              "    .colab-df-convert:hover {\n",
              "      background-color: #E2EBFA;\n",
              "      box-shadow: 0px 1px 2px rgba(60, 64, 67, 0.3), 0px 1px 3px 1px rgba(60, 64, 67, 0.15);\n",
              "      fill: #174EA6;\n",
              "    }\n",
              "\n",
              "    [theme=dark] .colab-df-convert {\n",
              "      background-color: #3B4455;\n",
              "      fill: #D2E3FC;\n",
              "    }\n",
              "\n",
              "    [theme=dark] .colab-df-convert:hover {\n",
              "      background-color: #434B5C;\n",
              "      box-shadow: 0px 1px 3px 1px rgba(0, 0, 0, 0.15);\n",
              "      filter: drop-shadow(0px 1px 2px rgba(0, 0, 0, 0.3));\n",
              "      fill: #FFFFFF;\n",
              "    }\n",
              "  </style>\n",
              "\n",
              "      <script>\n",
              "        const buttonEl =\n",
              "          document.querySelector('#df-cb991607-aa00-4551-8482-f5b1802c7729 button.colab-df-convert');\n",
              "        buttonEl.style.display =\n",
              "          google.colab.kernel.accessAllowed ? 'block' : 'none';\n",
              "\n",
              "        async function convertToInteractive(key) {\n",
              "          const element = document.querySelector('#df-cb991607-aa00-4551-8482-f5b1802c7729');\n",
              "          const dataTable =\n",
              "            await google.colab.kernel.invokeFunction('convertToInteractive',\n",
              "                                                     [key], {});\n",
              "          if (!dataTable) return;\n",
              "\n",
              "          const docLinkHtml = 'Like what you see? Visit the ' +\n",
              "            '<a target=\"_blank\" href=https://colab.research.google.com/notebooks/data_table.ipynb>data table notebook</a>'\n",
              "            + ' to learn more about interactive tables.';\n",
              "          element.innerHTML = '';\n",
              "          dataTable['output_type'] = 'display_data';\n",
              "          await google.colab.output.renderOutput(dataTable, element);\n",
              "          const docLink = document.createElement('div');\n",
              "          docLink.innerHTML = docLinkHtml;\n",
              "          element.appendChild(docLink);\n",
              "        }\n",
              "      </script>\n",
              "    </div>\n",
              "  </div>\n",
              "  "
            ]
          },
          "metadata": {},
          "execution_count": 76
        }
      ]
    },
    {
      "cell_type": "markdown",
      "source": [
        "## Summary on Synthetic Data Generation\n",
        "\n",
        "Having looked at different techniques to generate synthetic data and have been able to establish the performance of the baseline data and each synthetic data generated with the training data and the baseline data using Random Classifier model, here are few things to take note:\n",
        "\n",
        "- Random Oversampling on Baseline data still had the highest F1 score of 0.923 and ROC AUC score of 0.929.\n",
        "- Using our randomly oversampled technique to generate new synthetic data on the synthetic data generated using SDV Guassian technique on the baseline data, performed as second best. The introduction of the random oversampling technique on the SDV Guassian data, improved the performance of the model from 4th to 2nd.\n",
        "\n",
        "Overall, the introduction of random oversamping (ROS) technique on our NLP extracted baseline data still remains the highest performing, and the introduction of the technique to the SDV Guassian synthetic generated data also improved its performance, making the ROS technique useful in our scenario.\n",
        "\n",
        "**Nonetheless, it is worth paying attention to the following**: Since generating synthetic data on the training set to evaluate on the baseline test data it has never seen before gave a poor performance, it would be good to monitor how the final model would still perform in real life situation. However, with more data, using the ROS technique has a good potential to getting a better model, with a balanced class.\n",
        "\n",
        "### Next Steps:\n",
        "- Use the ROS generated data to test other classical, ensemble and bagging models to see how the performance would fair, compared to the random forest classifier.\n",
        "- Tune the hyperparameters of the model for better performance\n",
        "- Check for feature importance\n",
        "- Perform error analysis using \n",
        "  - cross validation \n",
        "  - Check for bias on model prediction\n",
        "  - Check for uncertainty on model prediction\n",
        "  - Inspect SHAP values for model prediction\n"
      ],
      "metadata": {
        "id": "MzQxjXlsMmIk"
      }
    },
    {
      "cell_type": "code",
      "source": [],
      "metadata": {
        "id": "BqRZ4Tntihqn"
      },
      "execution_count": 67,
      "outputs": []
    }
  ],
  "metadata": {
    "colab": {
      "provenance": [],
      "mount_file_id": "1Ic1EIiD9fkpLWpdrpZcYXlgAWHV2EEvc",
      "authorship_tag": "ABX9TyNtulLUcdzSeZIsnGir/baR"
    },
    "kernelspec": {
      "display_name": "Python 3",
      "name": "python3"
    },
    "language_info": {
      "name": "python",
      "nbconvert_exporter": "python",
      "pygments_lexer": "ipython3"
    }
  },
  "nbformat": 4,
  "nbformat_minor": 0
}